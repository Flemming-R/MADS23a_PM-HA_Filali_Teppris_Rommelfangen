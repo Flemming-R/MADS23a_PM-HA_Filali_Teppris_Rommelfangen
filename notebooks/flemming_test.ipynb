{
 "cells": [
  {
   "cell_type": "markdown",
   "metadata": {},
   "source": [
    "# EDA Flemming"
   ]
  },
  {
   "cell_type": "markdown",
   "metadata": {},
   "source": [
    "## Bibliotheken laden"
   ]
  },
  {
   "cell_type": "code",
   "execution_count": 1,
   "metadata": {},
   "outputs": [],
   "source": [
    "import pm4py\n",
    "import pandas as pd\n",
    "import numpy as np\n",
    "import matplotlib as plt"
   ]
  },
  {
   "cell_type": "code",
   "execution_count": 2,
   "metadata": {},
   "outputs": [
    {
     "name": "stdout",
     "output_type": "stream",
     "text": [
      "Note: you may need to restart the kernel to use updated packages.\n"
     ]
    },
    {
     "name": "stderr",
     "output_type": "stream",
     "text": [
      "\n",
      "[notice] A new release of pip is available: 24.1 -> 24.2\n",
      "[notice] To update, run: python.exe -m pip install --upgrade pip\n"
     ]
    }
   ],
   "source": [
    "pip install --upgrade pm4py -q"
   ]
  },
  {
   "cell_type": "code",
   "execution_count": 4,
   "metadata": {},
   "outputs": [
    {
     "data": {
      "text/plain": [
       "'c:\\\\Users\\\\flemm\\\\OneDrive - NORDAKADEMIE\\\\01_Master MADS23a\\\\13_WPM_Process Mining\\\\code-ha-process-mining\\\\notebooks'"
      ]
     },
     "execution_count": 4,
     "metadata": {},
     "output_type": "execute_result"
    }
   ],
   "source": [
    "import os\n",
    "\n",
    "os.getcwd()"
   ]
  },
  {
   "cell_type": "markdown",
   "metadata": {},
   "source": [
    "## Daten laden"
   ]
  },
  {
   "cell_type": "code",
   "execution_count": 3,
   "metadata": {},
   "outputs": [
    {
     "ename": "FileNotFoundError",
     "evalue": "[Errno 2] No such file or directory: 'Data/DomesticDeclarations.xes'",
     "output_type": "error",
     "traceback": [
      "\u001b[1;31m---------------------------------------------------------------------------\u001b[0m",
      "\u001b[1;31mFileNotFoundError\u001b[0m                         Traceback (most recent call last)",
      "Cell \u001b[1;32mIn[3], line 7\u001b[0m\n\u001b[0;32m      4\u001b[0m \u001b[38;5;28;01mfrom\u001b[39;00m \u001b[38;5;21;01mpm4py\u001b[39;00m\u001b[38;5;21;01m.\u001b[39;00m\u001b[38;5;21;01mvisualization\u001b[39;00m\u001b[38;5;21;01m.\u001b[39;00m\u001b[38;5;21;01mpetri_net\u001b[39;00m \u001b[38;5;28;01mimport\u001b[39;00m visualizer \u001b[38;5;28;01mas\u001b[39;00m pn_visualizer\n\u001b[0;32m      6\u001b[0m \u001b[38;5;66;03m# Step 1: Load the event log using a relative path\u001b[39;00m\n\u001b[1;32m----> 7\u001b[0m log \u001b[38;5;241m=\u001b[39m \u001b[43mxes_importer\u001b[49m\u001b[38;5;241;43m.\u001b[39;49m\u001b[43mapply\u001b[49m\u001b[43m(\u001b[49m\u001b[38;5;124;43m'\u001b[39;49m\u001b[38;5;124;43mData/DomesticDeclarations.xes\u001b[39;49m\u001b[38;5;124;43m'\u001b[39;49m\u001b[43m)\u001b[49m\n\u001b[0;32m      9\u001b[0m \u001b[38;5;66;03m# Step 2: Discover the process model using the Alpha Miner algorithm\u001b[39;00m\n\u001b[0;32m     10\u001b[0m net, initial_marking, final_marking \u001b[38;5;241m=\u001b[39m alpha_miner\u001b[38;5;241m.\u001b[39mapply(log)\n",
      "File \u001b[1;32mc:\\Users\\flemm\\AppData\\Local\\pypoetry\\Cache\\virtualenvs\\code-ha-process-mining-2oP8IPjh-py3.11\\Lib\\site-packages\\pm4py\\objects\\log\\importer\\xes\\importer.py:86\u001b[0m, in \u001b[0;36mapply\u001b[1;34m(path, parameters, variant)\u001b[0m\n\u001b[0;32m     83\u001b[0m \u001b[38;5;28;01mif\u001b[39;00m \u001b[38;5;28mtype\u001b[39m(variant) \u001b[38;5;129;01mis\u001b[39;00m \u001b[38;5;28mstr\u001b[39m:\n\u001b[0;32m     84\u001b[0m     variant \u001b[38;5;241m=\u001b[39m __get_variant(variant)\n\u001b[1;32m---> 86\u001b[0m log \u001b[38;5;241m=\u001b[39m \u001b[43mvariant\u001b[49m\u001b[38;5;241;43m.\u001b[39;49m\u001b[43mvalue\u001b[49m\u001b[38;5;241;43m.\u001b[39;49m\u001b[43mapply\u001b[49m\u001b[43m(\u001b[49m\u001b[43mpath\u001b[49m\u001b[43m,\u001b[49m\u001b[43m \u001b[49m\u001b[43mparameters\u001b[49m\u001b[38;5;241;43m=\u001b[39;49m\u001b[43mparameters\u001b[49m\u001b[43m)\u001b[49m\n\u001b[0;32m     88\u001b[0m \u001b[38;5;28;01mreturn\u001b[39;00m log\n",
      "File \u001b[1;32mc:\\Users\\flemm\\AppData\\Local\\pypoetry\\Cache\\virtualenvs\\code-ha-process-mining-2oP8IPjh-py3.11\\Lib\\site-packages\\pm4py\\objects\\log\\importer\\xes\\variants\\iterparse.py:300\u001b[0m, in \u001b[0;36mapply\u001b[1;34m(filename, parameters)\u001b[0m\n\u001b[0;32m    278\u001b[0m \u001b[38;5;28;01mdef\u001b[39;00m \u001b[38;5;21mapply\u001b[39m(filename, parameters\u001b[38;5;241m=\u001b[39m\u001b[38;5;28;01mNone\u001b[39;00m):\n\u001b[0;32m    279\u001b[0m \u001b[38;5;250m    \u001b[39m\u001b[38;5;124;03m\"\"\"\u001b[39;00m\n\u001b[0;32m    280\u001b[0m \u001b[38;5;124;03m    Imports an XES file into a log object\u001b[39;00m\n\u001b[0;32m    281\u001b[0m \n\u001b[1;32m   (...)\u001b[0m\n\u001b[0;32m    298\u001b[0m \u001b[38;5;124;03m        A log\u001b[39;00m\n\u001b[0;32m    299\u001b[0m \u001b[38;5;124;03m    \"\"\"\u001b[39;00m\n\u001b[1;32m--> 300\u001b[0m     \u001b[38;5;28;01mreturn\u001b[39;00m \u001b[43mimport_log\u001b[49m\u001b[43m(\u001b[49m\u001b[43mfilename\u001b[49m\u001b[43m,\u001b[49m\u001b[43m \u001b[49m\u001b[43mparameters\u001b[49m\u001b[43m)\u001b[49m\n",
      "File \u001b[1;32mc:\\Users\\flemm\\AppData\\Local\\pypoetry\\Cache\\virtualenvs\\code-ha-process-mining-2oP8IPjh-py3.11\\Lib\\site-packages\\pm4py\\objects\\log\\importer\\xes\\variants\\iterparse.py:338\u001b[0m, in \u001b[0;36mimport_log\u001b[1;34m(filename, parameters)\u001b[0m\n\u001b[0;32m    336\u001b[0m     f \u001b[38;5;241m=\u001b[39m gzip\u001b[38;5;241m.\u001b[39mopen(filename, \u001b[38;5;124m\"\u001b[39m\u001b[38;5;124mrb\u001b[39m\u001b[38;5;124m\"\u001b[39m)\n\u001b[0;32m    337\u001b[0m \u001b[38;5;28;01melse\u001b[39;00m:\n\u001b[1;32m--> 338\u001b[0m     f \u001b[38;5;241m=\u001b[39m \u001b[38;5;28;43mopen\u001b[39;49m\u001b[43m(\u001b[49m\u001b[43mfilename\u001b[49m\u001b[43m,\u001b[49m\u001b[43m \u001b[49m\u001b[38;5;124;43m\"\u001b[39;49m\u001b[38;5;124;43mrb\u001b[39;49m\u001b[38;5;124;43m\"\u001b[39;49m\u001b[43m)\u001b[49m\n\u001b[0;32m    339\u001b[0m context \u001b[38;5;241m=\u001b[39m etree\u001b[38;5;241m.\u001b[39miterparse(f, events\u001b[38;5;241m=\u001b[39m[_EVENT_START, _EVENT_END], encoding\u001b[38;5;241m=\u001b[39mencoding)\n\u001b[0;32m    340\u001b[0m num_traces \u001b[38;5;241m=\u001b[39m count_traces(context)\n",
      "\u001b[1;31mFileNotFoundError\u001b[0m: [Errno 2] No such file or directory: 'Data/DomesticDeclarations.xes'"
     ]
    }
   ],
   "source": [
    "import pm4py\n",
    "from pm4py.objects.log.importer.xes import importer as xes_importer\n",
    "from pm4py.algo.discovery.alpha import algorithm as alpha_miner\n",
    "from pm4py.visualization.petri_net import visualizer as pn_visualizer\n",
    "\n",
    "# Step 1: Load the event log using a relative path\n",
    "log = xes_importer.apply('Data/DomesticDeclarations.xes')\n",
    "\n",
    "# Step 2: Discover the process model using the Alpha Miner algorithm\n",
    "net, initial_marking, final_marking = alpha_miner.apply(log)\n",
    "\n",
    "# Step 3: Visualize the discovered Petri net\n",
    "gviz = pn_visualizer.apply(net, initial_marking, final_marking)\n",
    "pn_visualizer.view(gviz)"
   ]
  },
  {
   "cell_type": "code",
   "execution_count": 13,
   "metadata": {},
   "outputs": [
    {
     "name": "stdout",
     "output_type": "stream",
     "text": [
      "PM4PY version: 2.7.11.12\n",
      "Available submodules in pm4py.objects.log.importer: ['__builtins__', '__cached__', '__doc__', '__file__', '__loader__', '__name__', '__package__', '__path__', '__spec__', 'xes']\n",
      "Available submodules in pm4py.objects.log.importer.xes: ['__builtins__', '__cached__', '__doc__', '__file__', '__loader__', '__name__', '__package__', '__path__', '__spec__', 'importer', 'variants']\n",
      "Available submodules in pm4py.algo.discovery: ['__builtins__', '__cached__', '__doc__', '__file__', '__loader__', '__name__', '__package__', '__path__', '__spec__', 'alpha', 'batches', 'causal', 'correlation_mining', 'dfg', 'footprints', 'heuristics', 'inductive', 'log_skeleton', 'minimum_self_distance', 'ocel', 'performance_spectrum', 'powl', 'temporal_profile', 'transition_system']\n",
      "Available submodules in pm4py.algo.discovery.alpha: ['__builtins__', '__cached__', '__doc__', '__file__', '__loader__', '__name__', '__package__', '__path__', '__spec__', 'algorithm', 'data_structures', 'utils', 'variants']\n",
      "Available submodules in pm4py.visualization: ['__builtins__', '__cached__', '__doc__', '__file__', '__loader__', '__name__', '__package__', '__path__', '__spec__', 'bpmn', 'common', 'dfg', 'graphs', 'heuristics_net', 'importlib', 'network_analysis', 'ocel', 'petri_net', 'process_tree', 'transition_system', 'trie']\n"
     ]
    },
    {
     "ename": "AttributeError",
     "evalue": "module 'pm4py.visualization' has no attribute 'petrinet'",
     "output_type": "error",
     "traceback": [
      "\u001b[1;31m---------------------------------------------------------------------------\u001b[0m",
      "\u001b[1;31mAttributeError\u001b[0m                            Traceback (most recent call last)",
      "Cell \u001b[1;32mIn[13], line 10\u001b[0m\n\u001b[0;32m      8\u001b[0m \u001b[38;5;28mprint\u001b[39m(\u001b[38;5;124m\"\u001b[39m\u001b[38;5;124mAvailable submodules in pm4py.algo.discovery.alpha:\u001b[39m\u001b[38;5;124m\"\u001b[39m, \u001b[38;5;28mdir\u001b[39m(pm4py\u001b[38;5;241m.\u001b[39malgo\u001b[38;5;241m.\u001b[39mdiscovery\u001b[38;5;241m.\u001b[39malpha))\n\u001b[0;32m      9\u001b[0m \u001b[38;5;28mprint\u001b[39m(\u001b[38;5;124m\"\u001b[39m\u001b[38;5;124mAvailable submodules in pm4py.visualization:\u001b[39m\u001b[38;5;124m\"\u001b[39m, \u001b[38;5;28mdir\u001b[39m(pm4py\u001b[38;5;241m.\u001b[39mvisualization))\n\u001b[1;32m---> 10\u001b[0m \u001b[38;5;28mprint\u001b[39m(\u001b[38;5;124m\"\u001b[39m\u001b[38;5;124mAvailable submodules in pm4py.visualization.petrinet:\u001b[39m\u001b[38;5;124m\"\u001b[39m, \u001b[38;5;28mdir\u001b[39m(\u001b[43mpm4py\u001b[49m\u001b[38;5;241;43m.\u001b[39;49m\u001b[43mvisualization\u001b[49m\u001b[38;5;241;43m.\u001b[39;49m\u001b[43mpetrinet\u001b[49m))\n",
      "\u001b[1;31mAttributeError\u001b[0m: module 'pm4py.visualization' has no attribute 'petrinet'"
     ]
    }
   ],
   "source": [
    "import pm4py\n",
    "\n",
    "# Check available submodules and functions\n",
    "print(\"PM4PY version:\", pm4py.__version__)\n",
    "print(\"Available submodules in pm4py.objects.log.importer:\", dir(pm4py.objects.log.importer))\n",
    "print(\"Available submodules in pm4py.objects.log.importer.xes:\", dir(pm4py.objects.log.importer.xes))\n",
    "print(\"Available submodules in pm4py.algo.discovery:\", dir(pm4py.algo.discovery))\n",
    "print(\"Available submodules in pm4py.algo.discovery.alpha:\", dir(pm4py.algo.discovery.alpha))\n",
    "print(\"Available submodules in pm4py.visualization:\", dir(pm4py.visualization))\n",
    "print(\"Available submodules in pm4py.visualization.petrinet:\", dir(pm4py.visualization.petrinet))\n"
   ]
  },
  {
   "cell_type": "code",
   "execution_count": 4,
   "metadata": {},
   "outputs": [
    {
     "name": "stdout",
     "output_type": "stream",
     "text": [
      "Note: you may need to restart the kernel to use updated packages.\n"
     ]
    },
    {
     "name": "stderr",
     "output_type": "stream",
     "text": [
      "ERROR: Could not find a version that satisfies the requirement os (from versions: none)\n",
      "ERROR: No matching distribution found for os\n",
      "\n",
      "[notice] A new release of pip is available: 24.1 -> 24.2\n",
      "[notice] To update, run: python.exe -m pip install --upgrade pip\n"
     ]
    }
   ],
   "source": [
    "pip install os"
   ]
  }
 ],
 "metadata": {
  "kernelspec": {
   "display_name": "code-ha-process-mining-2oP8IPjh-py3.11",
   "language": "python",
   "name": "python3"
  },
  "language_info": {
   "codemirror_mode": {
    "name": "ipython",
    "version": 3
   },
   "file_extension": ".py",
   "mimetype": "text/x-python",
   "name": "python",
   "nbconvert_exporter": "python",
   "pygments_lexer": "ipython3",
   "version": "3.11.0b4"
  }
 },
 "nbformat": 4,
 "nbformat_minor": 2
}
