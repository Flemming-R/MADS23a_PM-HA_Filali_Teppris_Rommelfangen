{
 "cells": [
  {
   "cell_type": "code",
   "execution_count": 6,
   "metadata": {},
   "outputs": [],
   "source": [
    "from src import log_domestic\n",
    "from src import log_international\n",
    "from src import pm4py"
   ]
  },
  {
   "cell_type": "code",
   "execution_count": 8,
   "metadata": {},
   "outputs": [],
   "source": [
    "from pm4py.objects.log.importer.xes import importer as xes_importer\n",
    "from pm4py.algo.discovery.alpha import algorithm as alpha_miner\n",
    "from pm4py.visualization.petri_net import visualizer as pn_visualizer\n",
    "from pm4py.visualization.bpmn import visualizer as bpmn_vis\n"
   ]
  },
  {
   "cell_type": "code",
   "execution_count": 9,
   "metadata": {},
   "outputs": [],
   "source": [
    "dom_petri_net, dom_initial_marking, dom_final_marking = pm4py.discover_petri_net_inductive(log_domestic)\n",
    "int_petri_net, int_initial_marking, int_final_marking = pm4py.discover_petri_net_inductive(log_international)"
   ]
  },
  {
   "cell_type": "code",
   "execution_count": 18,
   "metadata": {},
   "outputs": [],
   "source": [
    "dom_petri_net, dom_initial_marking, dom_final_marking = pm4py.discover_petri_net_heuristics(log_domestic)\n",
    "int_petri_net, int_initial_marking, int_final_marking = pm4py.discover_petri_net_heuristics(log_international)"
   ]
  },
  {
   "cell_type": "markdown",
   "metadata": {},
   "source": [
    "Domestic"
   ]
  },
  {
   "cell_type": "code",
   "execution_count": 19,
   "metadata": {},
   "outputs": [
    {
     "data": {
      "application/vnd.jupyter.widget-view+json": {
       "model_id": "1fc20f57f63c44d59d7bcc338a46899d",
       "version_major": 2,
       "version_minor": 0
      },
      "text/plain": [
       "replaying log with TBR, completed traces ::   0%|          | 0/99 [00:00<?, ?it/s]"
      ]
     },
     "metadata": {},
     "output_type": "display_data"
    },
    {
     "data": {
      "text/plain": [
       "{'perc_fit_traces': 35.371428571428574,\n",
       " 'average_trace_fitness': 0.918932730743256,\n",
       " 'log_fitness': 0.9251912994498018,\n",
       " 'percentage_of_fitting_traces': 35.371428571428574}"
      ]
     },
     "execution_count": 19,
     "metadata": {},
     "output_type": "execute_result"
    }
   ],
   "source": [
    "pm4py.fitness_token_based_replay(\n",
    "    log_domestic, \n",
    "    dom_petri_net, \n",
    "    dom_initial_marking, \n",
    "    dom_final_marking\n",
    "    )"
   ]
  },
  {
   "cell_type": "markdown",
   "metadata": {},
   "source": [
    "International"
   ]
  },
  {
   "cell_type": "code",
   "execution_count": 20,
   "metadata": {},
   "outputs": [
    {
     "data": {
      "application/vnd.jupyter.widget-view+json": {
       "model_id": "793ee40cb3594818a2aa0b833b2f844a",
       "version_major": 2,
       "version_minor": 0
      },
      "text/plain": [
       "replaying log with TBR, completed traces ::   0%|          | 0/753 [00:00<?, ?it/s]"
      ]
     },
     "metadata": {},
     "output_type": "display_data"
    },
    {
     "data": {
      "text/plain": [
       "{'perc_fit_traces': 5.489223135369825,\n",
       " 'average_trace_fitness': 0.896395704163808,\n",
       " 'log_fitness': 0.9011357214666423,\n",
       " 'percentage_of_fitting_traces': 5.489223135369825}"
      ]
     },
     "execution_count": 20,
     "metadata": {},
     "output_type": "execute_result"
    }
   ],
   "source": [
    "pm4py.fitness_token_based_replay(\n",
    "    log_international, \n",
    "    int_petri_net, \n",
    "    int_initial_marking, \n",
    "    int_final_marking\n",
    "    )"
   ]
  }
 ],
 "metadata": {
  "kernelspec": {
   "display_name": "code-ha-process-mining-2oP8IPjh-py3.11",
   "language": "python",
   "name": "python3"
  },
  "language_info": {
   "codemirror_mode": {
    "name": "ipython",
    "version": 3
   },
   "file_extension": ".py",
   "mimetype": "text/x-python",
   "name": "python",
   "nbconvert_exporter": "python",
   "pygments_lexer": "ipython3",
   "version": "3.11.0b4"
  }
 },
 "nbformat": 4,
 "nbformat_minor": 2
}
