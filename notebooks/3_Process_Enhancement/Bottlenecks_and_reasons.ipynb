{
 "cells": [
  {
   "cell_type": "code",
   "execution_count": 1,
   "metadata": {},
   "outputs": [],
   "source": [
    "import pm4py\n",
    "import io\n",
    "import pandas as pd\n",
    "import numpy as np\n",
    "import matplotlib as plt\n",
    "import seaborn as sns\n",
    "\n",
    "from pm4py.objects.log.importer.xes import importer as xes_importer\n",
    "from pm4py.algo.discovery.alpha import algorithm as alpha_miner\n",
    "from pm4py.visualization.petri_net import visualizer as pn_visualizer\n",
    "from pm4py.visualization.bpmn import visualizer as bpmn_vis\n",
    "from pm4py.statistics.traces.generic.log import case_statistics\n",
    "from IPython.display import Markdown, display"
   ]
  },
  {
   "cell_type": "code",
   "execution_count": 2,
   "metadata": {},
   "outputs": [
    {
     "data": {
      "application/vnd.jupyter.widget-view+json": {
       "model_id": "66ee7183a12a4c64b2f3ab1c35fa1983",
       "version_major": 2,
       "version_minor": 0
      },
      "text/plain": [
       "parsing log, completed traces ::   0%|          | 0/10500 [00:00<?, ?it/s]"
      ]
     },
     "metadata": {},
     "output_type": "display_data"
    },
    {
     "data": {
      "application/vnd.jupyter.widget-view+json": {
       "model_id": "86168459b6e14d859abd6fa7a5692527",
       "version_major": 2,
       "version_minor": 0
      },
      "text/plain": [
       "parsing log, completed traces ::   0%|          | 0/6449 [00:00<?, ?it/s]"
      ]
     },
     "metadata": {},
     "output_type": "display_data"
    }
   ],
   "source": [
    "log_domestic = pm4py.read_xes('Data/DomesticDeclarations.xes')\n",
    "log_international = pm4py.read_xes('Data/InternationalDeclarations.xes')"
   ]
  },
  {
   "cell_type": "code",
   "execution_count": 3,
   "metadata": {},
   "outputs": [
    {
     "name": "stdout",
     "output_type": "stream",
     "text": [
      "Aktivitäten im Prozess der inländischen Reiseanträge mit mindestens 5% relativer Häufigkeit und einer vergleichsweise langen Median-Dauer:\n"
     ]
    },
    {
     "data": {
      "text/html": [
       "<div>\n",
       "<style scoped>\n",
       "    .dataframe tbody tr th:only-of-type {\n",
       "        vertical-align: middle;\n",
       "    }\n",
       "\n",
       "    .dataframe tbody tr th {\n",
       "        vertical-align: top;\n",
       "    }\n",
       "\n",
       "    .dataframe thead th {\n",
       "        text-align: right;\n",
       "    }\n",
       "</style>\n",
       "<table border=\"1\" class=\"dataframe\">\n",
       "  <thead>\n",
       "    <tr style=\"text-align: right;\">\n",
       "      <th></th>\n",
       "      <th>Aktivität</th>\n",
       "      <th>Durchschnitt</th>\n",
       "      <th>Median</th>\n",
       "      <th>Minimum</th>\n",
       "      <th>Maximum</th>\n",
       "      <th>Standardabweichung</th>\n",
       "      <th>Absolute Häufigkeit</th>\n",
       "      <th>Relative Häufigkeit</th>\n",
       "    </tr>\n",
       "  </thead>\n",
       "  <tbody>\n",
       "    <tr>\n",
       "      <th>15</th>\n",
       "      <td>Payment Handled</td>\n",
       "      <td>87.1</td>\n",
       "      <td>77.8</td>\n",
       "      <td>2.3</td>\n",
       "      <td>6821.6</td>\n",
       "      <td>93.1</td>\n",
       "      <td>10044</td>\n",
       "      <td>17.8%</td>\n",
       "    </tr>\n",
       "    <tr>\n",
       "      <th>16</th>\n",
       "      <td>Request Payment</td>\n",
       "      <td>75.9</td>\n",
       "      <td>27.4</td>\n",
       "      <td>0.0</td>\n",
       "      <td>5631.3</td>\n",
       "      <td>172.4</td>\n",
       "      <td>10040</td>\n",
       "      <td>17.8%</td>\n",
       "    </tr>\n",
       "  </tbody>\n",
       "</table>\n",
       "</div>"
      ],
      "text/plain": [
       "          Aktivität Durchschnitt  Median  Minimum  Maximum Standardabweichung  \\\n",
       "15  Payment Handled         87.1    77.8      2.3   6821.6               93.1   \n",
       "16  Request Payment         75.9    27.4      0.0   5631.3              172.4   \n",
       "\n",
       "    Absolute Häufigkeit Relative Häufigkeit  \n",
       "15                10044               17.8%  \n",
       "16                10040               17.8%  "
      ]
     },
     "metadata": {},
     "output_type": "display_data"
    },
    {
     "name": "stdout",
     "output_type": "stream",
     "text": [
      "Aktivitäten im Prozess der internationalen Reiseanträge mit mindestens 5% relativer Häufigkeit und einer vergleichsweise langen Median-Dauer:\n"
     ]
    },
    {
     "data": {
      "text/html": [
       "<div>\n",
       "<style scoped>\n",
       "    .dataframe tbody tr th:only-of-type {\n",
       "        vertical-align: middle;\n",
       "    }\n",
       "\n",
       "    .dataframe tbody tr th {\n",
       "        vertical-align: top;\n",
       "    }\n",
       "\n",
       "    .dataframe thead th {\n",
       "        text-align: right;\n",
       "    }\n",
       "</style>\n",
       "<table border=\"1\" class=\"dataframe\">\n",
       "  <thead>\n",
       "    <tr style=\"text-align: right;\">\n",
       "      <th></th>\n",
       "      <th>Aktivität</th>\n",
       "      <th>Durchschnitt</th>\n",
       "      <th>Median</th>\n",
       "      <th>Minimum</th>\n",
       "      <th>Maximum</th>\n",
       "      <th>Standardabweichung</th>\n",
       "      <th>Absolute Häufigkeit</th>\n",
       "      <th>Relative Häufigkeit</th>\n",
       "    </tr>\n",
       "  </thead>\n",
       "  <tbody>\n",
       "    <tr>\n",
       "      <th>33</th>\n",
       "      <td>Start trip</td>\n",
       "      <td>1159.3</td>\n",
       "      <td>678.5</td>\n",
       "      <td>0.1</td>\n",
       "      <td>10905.7</td>\n",
       "      <td>1684.4</td>\n",
       "      <td>6449</td>\n",
       "      <td>8.9%</td>\n",
       "    </tr>\n",
       "    <tr>\n",
       "      <th>30</th>\n",
       "      <td>Permit SUBMITTED by EMPLOYEE</td>\n",
       "      <td>485.7</td>\n",
       "      <td>110.1</td>\n",
       "      <td>0.0</td>\n",
       "      <td>8795.3</td>\n",
       "      <td>1056.6</td>\n",
       "      <td>6255</td>\n",
       "      <td>8.7%</td>\n",
       "    </tr>\n",
       "    <tr>\n",
       "      <th>14</th>\n",
       "      <td>Declaration SUBMITTED by EMPLOYEE</td>\n",
       "      <td>282.4</td>\n",
       "      <td>109.2</td>\n",
       "      <td>0.0</td>\n",
       "      <td>7968.3</td>\n",
       "      <td>598.2</td>\n",
       "      <td>8099</td>\n",
       "      <td>11.2%</td>\n",
       "    </tr>\n",
       "  </tbody>\n",
       "</table>\n",
       "</div>"
      ],
      "text/plain": [
       "                            Aktivität Durchschnitt  Median  Minimum  Maximum  \\\n",
       "33                         Start trip       1159.3   678.5      0.1  10905.7   \n",
       "30       Permit SUBMITTED by EMPLOYEE        485.7   110.1      0.0   8795.3   \n",
       "14  Declaration SUBMITTED by EMPLOYEE        282.4   109.2      0.0   7968.3   \n",
       "\n",
       "   Standardabweichung  Absolute Häufigkeit Relative Häufigkeit  \n",
       "33             1684.4                 6449                8.9%  \n",
       "30             1056.6                 6255                8.7%  \n",
       "14              598.2                 8099               11.2%  "
      ]
     },
     "metadata": {},
     "output_type": "display_data"
    }
   ],
   "source": [
    "# Funktion zur Berechnung der Aktivitätsdauer in Stunden\n",
    "def calculate_activity_durations_in_hours(log):\n",
    "    df = pm4py.convert_to_dataframe(log)\n",
    "    df['duration'] = df.groupby('case:concept:name')['time:timestamp'].diff().dt.total_seconds()\n",
    "    df['duration'] = df['duration'] / 3600  # Umrechnung in Stunden\n",
    "    df['duration'] = df['duration'].round(1)  # Rundung auf eine Nachkommastelle\n",
    "    return df\n",
    "\n",
    "# Aktivitätsdauer für jeden Log berechnen\n",
    "df_domestic = calculate_activity_durations_in_hours(log_domestic)\n",
    "df_international = calculate_activity_durations_in_hours(log_international)\n",
    "\n",
    "# Funktion zur Berechnung von Statistiken pro Aktivität\n",
    "def activity_duration_statistics(df):\n",
    "    stats = df.groupby('concept:name')['duration'].agg(['mean', 'median', 'min', 'max', 'std']).reset_index()\n",
    "    frequency = df['concept:name'].value_counts().reset_index()\n",
    "    frequency.columns = ['concept:name', 'frequency']\n",
    "    total_frequency = frequency['frequency'].sum()\n",
    "    frequency['frequency_percentage'] = (frequency['frequency'] / total_frequency) * 100\n",
    "    frequency['frequency_percentage'] = frequency['frequency_percentage'].round(1)  # Rundung auf eine Nachkommastelle\n",
    "    frequency['frequency_percentage'] = frequency['frequency_percentage'].astype(str) + '%'  # Hinzufügen des % Zeichens\n",
    "    stats = stats.merge(frequency, on='concept:name', how='left')\n",
    "    return stats\n",
    "\n",
    "# Statistiken für inländische und internationale Aktivitäten berechnen\n",
    "domestic_stats = activity_duration_statistics(df_domestic)\n",
    "international_stats = activity_duration_statistics(df_international)\n",
    "\n",
    "# Sortierung nach 'median' in absteigender Reihenfolge\n",
    "domestic_stats_sorted = domestic_stats.sort_values(by='median', ascending=False)\n",
    "international_stats_sorted = international_stats.sort_values(by='median', ascending=False)\n",
    "\n",
    "# Berechnung des 90. Perzentils der Median-Dauer für inländische und internationale Aktivitäten\n",
    "domestic_80th_percentile = domestic_stats_sorted['median'].quantile(0.80)\n",
    "international_80th_percentile = international_stats_sorted['median'].quantile(0.80)\n",
    "\n",
    "# Überschriften in Deutsch ändern und Formatierung anpassen\n",
    "domestic_stats_sorted.rename(columns={\n",
    "    'concept:name': 'Aktivität',\n",
    "    'mean': 'Durchschnitt',\n",
    "    'median': 'Median',\n",
    "    'min': 'Minimum',\n",
    "    'max': 'Maximum',\n",
    "    'std': 'Standardabweichung',\n",
    "    'frequency': 'Absolute Häufigkeit',\n",
    "    'frequency_percentage': 'Relative Häufigkeit'\n",
    "}, inplace=True)\n",
    "\n",
    "international_stats_sorted.rename(columns={\n",
    "    'concept:name': 'Aktivität',\n",
    "    'mean': 'Durchschnitt',\n",
    "    'median': 'Median',\n",
    "    'min': 'Minimum',\n",
    "    'max': 'Maximum',\n",
    "    'std': 'Standardabweichung',\n",
    "    'frequency': 'Absolute Häufigkeit',\n",
    "    'frequency_percentage': 'Relative Häufigkeit'\n",
    "}, inplace=True)\n",
    "\n",
    "# Zahlenformate anpassen\n",
    "domestic_stats_sorted['Durchschnitt'] = domestic_stats_sorted['Durchschnitt'].map('{:.1f}'.format)\n",
    "domestic_stats_sorted['Standardabweichung'] = domestic_stats_sorted['Standardabweichung'].map('{:.1f}'.format)\n",
    "\n",
    "international_stats_sorted['Durchschnitt'] = international_stats_sorted['Durchschnitt'].map('{:.1f}'.format)\n",
    "international_stats_sorted['Standardabweichung'] = international_stats_sorted['Standardabweichung'].map('{:.1f}'.format)\n",
    "\n",
    "frequency_percentage_threshold = 5\n",
    "\n",
    "# Filter auf die sortierten Daten anwenden (Median > 80. Perzentil)\n",
    "filtered_domestic_stats = domestic_stats_sorted[\n",
    "    (domestic_stats_sorted['Relative Häufigkeit'].str.rstrip('%').astype(float) > frequency_percentage_threshold) &\n",
    "    (domestic_stats_sorted['Median'] > domestic_80th_percentile)\n",
    "]\n",
    "\n",
    "filtered_international_stats = international_stats_sorted[\n",
    "    (international_stats_sorted['Relative Häufigkeit'].str.rstrip('%').astype(float) > frequency_percentage_threshold) &\n",
    "    (international_stats_sorted['Median'] > international_80th_percentile)\n",
    "]\n",
    "\n",
    "# Ergebnisse als Tabellen anzeigen\n",
    "print(f\"Aktivitäten im Prozess der inländischen Reiseanträge mit mindestens 5% relativer Häufigkeit und einer vergleichsweise langen Median-Dauer:\")\n",
    "display(filtered_domestic_stats)\n",
    "\n",
    "print(f\"Aktivitäten im Prozess der internationalen Reiseanträge mit mindestens 5% relativer Häufigkeit und einer vergleichsweise langen Median-Dauer:\")\n",
    "display(filtered_international_stats)"
   ]
  },
  {
   "cell_type": "markdown",
   "metadata": {},
   "source": [
    "[Kehre zurück zum Hauptnotebook](../0_Hauptnotebook.ipynb)"
   ]
  }
 ],
 "metadata": {
  "kernelspec": {
   "display_name": "code-ha-process-mining-7DfTBFwn-py3.11",
   "language": "python",
   "name": "python3"
  },
  "language_info": {
   "codemirror_mode": {
    "name": "ipython",
    "version": 3
   },
   "file_extension": ".py",
   "mimetype": "text/x-python",
   "name": "python",
   "nbconvert_exporter": "python",
   "pygments_lexer": "ipython3",
   "version": "3.11.0"
  }
 },
 "nbformat": 4,
 "nbformat_minor": 2
}
