{
 "cells": [
  {
   "cell_type": "markdown",
   "metadata": {},
   "source": [
    "## Inhaltsverzeichnis\n",
    "1. [Einleitung](#einleitung)\n",
    "2. [Methodik](#methodik) <br>\n",
    "    2.1 [Pm4py](#pm4py)"
   ]
  },
  {
   "cell_type": "markdown",
   "metadata": {},
   "source": [
    "## 1 Einleitung"
   ]
  },
  {
   "cell_type": "markdown",
   "metadata": {},
   "source": [
    "Die vorliegende Ausarbeitung untersucht Datensätze zur _[BPI Challenge 2020](https://icpmconference.org/2020/bpi-challenge/)_. <br>\n",
    "Die BPI Challenge ist ein internationaler Wettbewerb im Bereich Process Mining, der Teilnehmer dazu auffordert, reale Ereignisprotokolle zu analysieren. <br>\n",
    "Ziel ist es, mithilfe verschiedener Techniken wertvolle Einblicke in die erfassten Geschäftsprozesse zu gewinnen und spezifische Fragen des Prozessinhabers zu beantworten. <br>\n",
    "\n",
    "Im Rahmen der für dieses Ausarbeitung untersuchten Fragestellungen werden Event-Logs beantwortet, die sich fachlich auf den Ablauf von Reisegenehmigungen und Kostenerstattungen beziehen. <br>\n",
    "Nach Einreichung durch den Mitarbeiter durchlaufen die zugehörigen Anträge verschiedene Genehmigungsstufen, darunter die Reiseverwaltung, Budgetverantwortliche und Vorgesetzte. <br>\n",
    "  \n",
    "Im Rahmen dieser Ausarbeitung werden zwei Event-Logs untersucht:\n",
    "- _DomesticDeclarations.xes_ für inlandsbezogene Anträge und\n",
    "- _InternationalDeclarations.xes_ für auslandsbezogene Anträge\n"
   ]
  },
  {
   "cell_type": "markdown",
   "metadata": {},
   "source": [
    "Die für diese Arbeit verwendeten Werkzeuge umfassen _Pm4py_ sowie einen _LLM-Agenten_. Im Abschnitt [Methodik](#methodik) werden diese Werkzeuge näher erläutert und ihre Auswahl begründet."
   ]
  },
  {
   "cell_type": "markdown",
   "metadata": {},
   "source": [
    "Diese Ausarbeitung zielt darauf ab, Fragestellungen aus den drei Bereichen _Process Discovery_, _Process Conformance_ sowie _Process Enhancement_ zu adressieren, dies erfolgt im Abschnitt [Analyse](##analyse). <br>\n",
    "Für jede dieser Fragestellungen wurde ein eigenes Jupyter-Notebook erstellt. Dieses _Hauptnotebook_ verlinkt auf die Fragebezogenen _Unternotebooks_, <br> \n",
    "wobei jedes Unternotebook und damit jede Fragestellung einem der benannten Bereiche _Discovery_, _Conformance_ oder _Enhancement_ zugeordnet ist.\n",
    "\n",
    "Eine vertiefende Analyse in Verbindung mit Leserführenden Kommentaren findet sich in den fragebezogenen Unternotebooks, die wichtigsten Erkenntnisse zur Beantwortung der Fragestellungen werden <br> \n",
    "im Abschnitt [Ergebnisse](#ergebnisse) textuell erläutet und visuell aufbereitet.\n",
    "\n",
    "Für diese Ausarbeitung stehen die nachfolgenden Fragestellungen für die nachfolgend gelisteten Bereiche im Fokus: <br>\n",
    "- Process Discovery\n",
    "    - Welcher Prozessablauf liegt den Datensätzen unter Berücksichtigung eines geeigneten Maßes an Abstraktion zugrunde?\n",
    "    - Wie lange dauern die Prozessdurchläufe und gibt es beschreibenswerte Muster?\n",
    "    - Wie viele Anträge werden abgewiesen und welche Gründe könnten ggf. zu einer Abweisung führen?\n",
    "- Process Conformance\n",
    "    - Gibt es Muster, die auf Nicht-Konformität im Prozessablauf hindeuten?\n",
    "- Process Enhancement\n",
    "    - Welche Engpässe existieren möglicherweise und was könnten Gründe hierfür sein?\n",
    "    - Welche zielführenden Kennzahlen könnten für die Prozesse erhoben werden?\n",
    "\n",
    "Eine Verlinkung auf die zugehörigen Unternotebooks aus dem Hauptnotebook heraus erfolgt im Zuge der [Analyse](#analyse).\n",
    "<br>\n",
    "Die Ausarbeitung endet mit einer [Schlussbetrachtung](#schlussbetrachtung), in welcher die getätigten Untersuchungen einer kritischen Würdigung unterzogen werden <br> \n",
    "und ein Resümee für die Prozesseigner auf Basis der getätigten Untersuchungen gezogen wird.\n"
   ]
  },
  {
   "cell_type": "markdown",
   "metadata": {},
   "source": [
    "## Methodik"
   ]
  },
  {
   "cell_type": "markdown",
   "metadata": {},
   "source": [
    "### Pm4py"
   ]
  },
  {
   "cell_type": "markdown",
   "metadata": {},
   "source": []
  },
  {
   "cell_type": "markdown",
   "metadata": {},
   "source": [
    "### Agent"
   ]
  },
  {
   "cell_type": "markdown",
   "metadata": {},
   "source": []
  },
  {
   "cell_type": "markdown",
   "metadata": {},
   "source": [
    "## Analyse"
   ]
  },
  {
   "cell_type": "markdown",
   "metadata": {},
   "source": [
    "### Process Discovery"
   ]
  },
  {
   "cell_type": "markdown",
   "metadata": {},
   "source": []
  },
  {
   "cell_type": "markdown",
   "metadata": {},
   "source": [
    "### Process Conformance"
   ]
  },
  {
   "cell_type": "markdown",
   "metadata": {},
   "source": []
  },
  {
   "cell_type": "markdown",
   "metadata": {},
   "source": [
    "### Process Enhancement"
   ]
  },
  {
   "cell_type": "markdown",
   "metadata": {},
   "source": []
  },
  {
   "cell_type": "markdown",
   "metadata": {},
   "source": [
    "## Ergebnisse"
   ]
  },
  {
   "cell_type": "markdown",
   "metadata": {},
   "source": []
  },
  {
   "cell_type": "markdown",
   "metadata": {},
   "source": [
    "## Schlussbetrachtung"
   ]
  },
  {
   "cell_type": "markdown",
   "metadata": {},
   "source": [
    "### Kritische Würdigung"
   ]
  },
  {
   "cell_type": "markdown",
   "metadata": {},
   "source": []
  },
  {
   "cell_type": "markdown",
   "metadata": {},
   "source": [
    "### Resümee"
   ]
  },
  {
   "cell_type": "markdown",
   "metadata": {},
   "source": []
  }
 ],
 "metadata": {
  "kernelspec": {
   "display_name": "code-ha-process-mining-2oP8IPjh-py3.11",
   "language": "python",
   "name": "python3"
  },
  "language_info": {
   "codemirror_mode": {
    "name": "ipython",
    "version": 3
   },
   "file_extension": ".py",
   "mimetype": "text/x-python",
   "name": "python",
   "nbconvert_exporter": "python",
   "pygments_lexer": "ipython3",
   "version": "3.11.0"
  }
 },
 "nbformat": 4,
 "nbformat_minor": 2
}
