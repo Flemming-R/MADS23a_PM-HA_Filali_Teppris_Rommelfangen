{
 "cells": [
  {
   "cell_type": "markdown",
   "metadata": {},
   "source": [
    "Logfiles laden"
   ]
  },
  {
   "cell_type": "code",
   "execution_count": 1,
   "metadata": {},
   "outputs": [],
   "source": [
    "from src.loader import load_data"
   ]
  },
  {
   "cell_type": "markdown",
   "metadata": {},
   "source": [
    "# Daten vorbereiten"
   ]
  },
  {
   "cell_type": "code",
   "execution_count": 19,
   "metadata": {},
   "outputs": [
    {
     "data": {
      "application/vnd.jupyter.widget-view+json": {
       "model_id": "f3cfadfcbfad4d039f77d9f63be4eba3",
       "version_major": 2,
       "version_minor": 0
      },
      "text/plain": [
       "parsing log, completed traces ::   0%|          | 0/10500 [00:00<?, ?it/s]"
      ]
     },
     "metadata": {},
     "output_type": "display_data"
    },
    {
     "data": {
      "application/vnd.jupyter.widget-view+json": {
       "model_id": "c8a974965f7d4da1901f47c941d11954",
       "version_major": 2,
       "version_minor": 0
      },
      "text/plain": [
       "parsing log, completed traces ::   0%|          | 0/6449 [00:00<?, ?it/s]"
      ]
     },
     "metadata": {},
     "output_type": "display_data"
    },
    {
     "data": {
      "application/vnd.jupyter.widget-view+json": {
       "model_id": "dea015a94e5745729e8e5af6dd535732",
       "version_major": 2,
       "version_minor": 0
      },
      "text/plain": [
       "parsing log, completed traces ::   0%|          | 0/9899 [00:00<?, ?it/s]"
      ]
     },
     "metadata": {},
     "output_type": "display_data"
    },
    {
     "data": {
      "application/vnd.jupyter.widget-view+json": {
       "model_id": "cc790c20c4934088b5358550b5a827ec",
       "version_major": 2,
       "version_minor": 0
      },
      "text/plain": [
       "parsing log, completed traces ::   0%|          | 0/3781 [00:00<?, ?it/s]"
      ]
     },
     "metadata": {},
     "output_type": "display_data"
    },
    {
     "name": "stdout",
     "output_type": "stream",
     "text": [
      "Petri net for Domestic - Normal:\n",
      "places: [ p_10, p_11, p_12, p_13, p_14, p_15, p_17, p_18, p_19, p_20, p_21, p_22, p_23, p_24, p_26, p_27, p_28, p_29, p_3, p_30, p_4, p_5, p_6, p_7, sink, source ]\n",
      "transitions: [ (04692a87-fa78-464d-8ad7-f4dc3769a25a, 'Payment Handled'), (0c8f6366-2117-41d4-a639-9006ac70d07b, 'Declaration FINAL_APPROVED by SUPERVISOR'), (131e0c1e-56de-4c45-a210-58b304a051df, 'Declaration FOR_APPROVAL by PRE_APPROVER'), (2afb5de9-32fc-4385-bfe2-65aec24d66c1, 'Request Payment'), (2c0844b7-a3d2-4e3c-a70d-d64610544f45, 'Declaration APPROVED by ADMINISTRATION'), (3ef7dbda-7108-43f0-b1a6-c0bf99bb2223, 'Declaration SUBMITTED by EMPLOYEE'), (463036fa-375c-479e-bedc-de3ca1e8671c, 'Declaration FOR_APPROVAL by ADMINISTRATION'), (49a70374-c47d-4418-be19-44b5a956ba4d, 'Declaration REJECTED by SUPERVISOR'), (6832fc8f-639c-4689-87ca-84b9b0bcbb14, 'Declaration REJECTED by PRE_APPROVER'), (6eb91a53-29b1-4030-a1ef-b5fc45b9928b, 'Declaration REJECTED by BUDGET OWNER'), (84d825a0-5ed7-436e-bd91-79844d48cea3, 'Declaration APPROVED by PRE_APPROVER'), (8a1fd287-b957-470f-8499-2f07373d8630, 'Declaration APPROVED by BUDGET OWNER'), (99f11cdf-329b-4af1-a8d4-0e9b007820c2, 'Declaration REJECTED by ADMINISTRATION'), (ced39de6-a2bc-4617-8eb7-dbf00a23cec0, 'Declaration REJECTED by MISSING'), (e277f47d-0030-492d-b104-6e3923a603db, 'Declaration REJECTED by EMPLOYEE'), (f7ec8e5d-de37-4e9e-8476-103dad9792ab, 'Declaration FOR_APPROVAL by SUPERVISOR'), (fe46798c-1dfc-41e3-9233-90ff03d26343, 'Declaration SAVED by EMPLOYEE'), (init_loop_13, None), (init_loop_18, None), (init_loop_20, None), (init_loop_6, None), (skip_1, None), (skip_12, None), (skip_15, None), (skip_16, None), (skip_17, None), (skip_2, None), (skip_22, None), (skip_23, None), (skip_26, None), (skip_27, None), (skip_28, None), (skip_29, None), (skip_30, None), (skip_31, None), (skip_5, None), (skip_8, None), (skip_9, None), (tauJoin_11, None), (tauJoin_25, None), (tauJoin_4, None), (tauSplit_24, None), (tauSplit_3, None) ]\n",
      "arcs: [ (04692a87-fa78-464d-8ad7-f4dc3769a25a, 'Payment Handled')->p_10, (0c8f6366-2117-41d4-a639-9006ac70d07b, 'Declaration FINAL_APPROVED by SUPERVISOR')->p_29, (131e0c1e-56de-4c45-a210-58b304a051df, 'Declaration FOR_APPROVAL by PRE_APPROVER')->p_18, (2afb5de9-32fc-4385-bfe2-65aec24d66c1, 'Request Payment')->p_18, (2c0844b7-a3d2-4e3c-a70d-d64610544f45, 'Declaration APPROVED by ADMINISTRATION')->p_27, (3ef7dbda-7108-43f0-b1a6-c0bf99bb2223, 'Declaration SUBMITTED by EMPLOYEE')->p_24, (463036fa-375c-479e-bedc-de3ca1e8671c, 'Declaration FOR_APPROVAL by ADMINISTRATION')->p_23, (49a70374-c47d-4418-be19-44b5a956ba4d, 'Declaration REJECTED by SUPERVISOR')->p_29, (6832fc8f-639c-4689-87ca-84b9b0bcbb14, 'Declaration REJECTED by PRE_APPROVER')->p_21, (6eb91a53-29b1-4030-a1ef-b5fc45b9928b, 'Declaration REJECTED by BUDGET OWNER')->p_29, (84d825a0-5ed7-436e-bd91-79844d48cea3, 'Declaration APPROVED by PRE_APPROVER')->p_30, (8a1fd287-b957-470f-8499-2f07373d8630, 'Declaration APPROVED by BUDGET OWNER')->p_30, (99f11cdf-329b-4af1-a8d4-0e9b007820c2, 'Declaration REJECTED by ADMINISTRATION')->p_21, (ced39de6-a2bc-4617-8eb7-dbf00a23cec0, 'Declaration REJECTED by MISSING')->p_15, (e277f47d-0030-492d-b104-6e3923a603db, 'Declaration REJECTED by EMPLOYEE')->p_7, (f7ec8e5d-de37-4e9e-8476-103dad9792ab, 'Declaration FOR_APPROVAL by SUPERVISOR')->p_18, (fe46798c-1dfc-41e3-9233-90ff03d26343, 'Declaration SAVED by EMPLOYEE')->p_3, (init_loop_13, None)->p_14, (init_loop_18, None)->p_20, (init_loop_20, None)->p_23, (init_loop_6, None)->p_6, (skip_1, None)->p_3, (skip_12, None)->p_13, (skip_15, None)->p_14, (skip_16, None)->p_13, (skip_17, None)->p_19, (skip_2, None)->sink, (skip_22, None)->p_22, (skip_23, None)->p_21, (skip_26, None)->p_27, (skip_27, None)->p_30, (skip_28, None)->p_20, (skip_29, None)->p_19, (skip_30, None)->p_18, (skip_31, None)->p_10, (skip_5, None)->p_5, (skip_8, None)->p_6, (skip_9, None)->p_5, (tauJoin_11, None)->p_11, (tauJoin_25, None)->p_21, (tauJoin_4, None)->sink, (tauSplit_24, None)->p_26, (tauSplit_24, None)->p_28, (tauSplit_3, None)->p_12, (tauSplit_3, None)->p_17, (tauSplit_3, None)->p_4, p_10->(tauJoin_4, None), p_11->(04692a87-fa78-464d-8ad7-f4dc3769a25a, 'Payment Handled'), p_11->(skip_31, None), p_12->(init_loop_13, None), p_12->(skip_12, None), p_13->(tauJoin_11, None), p_14->(ced39de6-a2bc-4617-8eb7-dbf00a23cec0, 'Declaration REJECTED by MISSING'), p_15->(skip_15, None), p_15->(skip_16, None), p_17->(init_loop_18, None), p_17->(skip_17, None), p_18->(tauJoin_11, None), p_19->(131e0c1e-56de-4c45-a210-58b304a051df, 'Declaration FOR_APPROVAL by PRE_APPROVER'), p_19->(2afb5de9-32fc-4385-bfe2-65aec24d66c1, 'Request Payment'), p_19->(f7ec8e5d-de37-4e9e-8476-103dad9792ab, 'Declaration FOR_APPROVAL by SUPERVISOR'), p_19->(skip_30, None), p_20->(init_loop_20, None), p_21->(skip_28, None), p_21->(skip_29, None), p_22->(6832fc8f-639c-4689-87ca-84b9b0bcbb14, 'Declaration REJECTED by PRE_APPROVER'), p_22->(99f11cdf-329b-4af1-a8d4-0e9b007820c2, 'Declaration REJECTED by ADMINISTRATION'), p_22->(skip_23, None), p_22->(tauSplit_24, None), p_23->(3ef7dbda-7108-43f0-b1a6-c0bf99bb2223, 'Declaration SUBMITTED by EMPLOYEE'), p_24->(463036fa-375c-479e-bedc-de3ca1e8671c, 'Declaration FOR_APPROVAL by ADMINISTRATION'), p_24->(skip_22, None), p_26->(2c0844b7-a3d2-4e3c-a70d-d64610544f45, 'Declaration APPROVED by ADMINISTRATION'), p_26->(skip_26, None), p_27->(tauJoin_25, None), p_28->(6eb91a53-29b1-4030-a1ef-b5fc45b9928b, 'Declaration REJECTED by BUDGET OWNER'), p_28->(84d825a0-5ed7-436e-bd91-79844d48cea3, 'Declaration APPROVED by PRE_APPROVER'), p_28->(8a1fd287-b957-470f-8499-2f07373d8630, 'Declaration APPROVED by BUDGET OWNER'), p_28->(skip_27, None), p_29->(tauJoin_25, None), p_3->(skip_2, None), p_3->(tauSplit_3, None), p_30->(0c8f6366-2117-41d4-a639-9006ac70d07b, 'Declaration FINAL_APPROVED by SUPERVISOR'), p_30->(49a70374-c47d-4418-be19-44b5a956ba4d, 'Declaration REJECTED by SUPERVISOR'), p_4->(init_loop_6, None), p_4->(skip_5, None), p_5->(tauJoin_4, None), p_6->(e277f47d-0030-492d-b104-6e3923a603db, 'Declaration REJECTED by EMPLOYEE'), p_7->(skip_8, None), p_7->(skip_9, None), source->(fe46798c-1dfc-41e3-9233-90ff03d26343, 'Declaration SAVED by EMPLOYEE'), source->(skip_1, None) ]\n",
      "\n",
      "Petri net for Domestic - Non-Anomaly:\n",
      "places: [ p_11, p_12, p_13, p_14, p_15, p_16, p_17, p_3, p_4, p_5, p_8, p_9, sink, source ]\n",
      "transitions: [ (048ec6a8-e138-47b1-bf34-dcb7e08b764e, 'Declaration REJECTED by EMPLOYEE'), (241aa04c-dc2f-4219-83ed-3025376697ab, 'Declaration REJECTED by ADMINISTRATION'), (2d17f015-c047-4abe-a82a-185cbbcb2be6, 'Declaration APPROVED by ADMINISTRATION'), (46486f76-004e-4e6e-93a1-170c124e4051, 'Declaration FINAL_APPROVED by SUPERVISOR'), (4becdcb1-e62a-418b-a852-706cf732db34, 'Declaration SAVED by EMPLOYEE'), (4f818e8b-00a3-47fa-b728-87b65d0f0863, 'Declaration APPROVED by BUDGET OWNER'), (c449746b-0ac2-4799-a295-aa8965b2eecb, 'Declaration APPROVED by PRE_APPROVER'), (ccac1c2d-22b3-4e13-a3e8-51c89c25d955, 'Payment Handled'), (d43bf0c6-b67b-46c8-8553-2e3f0648caf2, 'Declaration SUBMITTED by EMPLOYEE'), (ddfa6059-2f09-4394-8a3d-4c843048c895, 'Request Payment'), (skip_10, None), (skip_11, None), (skip_12, None), (skip_7, None), (skip_9, None), (tauJoin_4, None), (tauSplit_3, None), (tau_1, None), (tau_2, None) ]\n",
      "arcs: [ (048ec6a8-e138-47b1-bf34-dcb7e08b764e, 'Declaration REJECTED by EMPLOYEE')->p_12, (241aa04c-dc2f-4219-83ed-3025376697ab, 'Declaration REJECTED by ADMINISTRATION')->p_13, (2d17f015-c047-4abe-a82a-185cbbcb2be6, 'Declaration APPROVED by ADMINISTRATION')->p_15, (46486f76-004e-4e6e-93a1-170c124e4051, 'Declaration FINAL_APPROVED by SUPERVISOR')->p_16, (4becdcb1-e62a-418b-a852-706cf732db34, 'Declaration SAVED by EMPLOYEE')->p_4, (4f818e8b-00a3-47fa-b728-87b65d0f0863, 'Declaration APPROVED by BUDGET OWNER')->p_14, (c449746b-0ac2-4799-a295-aa8965b2eecb, 'Declaration APPROVED by PRE_APPROVER')->p_14, (ccac1c2d-22b3-4e13-a3e8-51c89c25d955, 'Payment Handled')->p_4, (d43bf0c6-b67b-46c8-8553-2e3f0648caf2, 'Declaration SUBMITTED by EMPLOYEE')->p_9, (ddfa6059-2f09-4394-8a3d-4c843048c895, 'Request Payment')->p_17, (skip_10, None)->p_4, (skip_11, None)->p_14, (skip_12, None)->p_14, (skip_7, None)->p_8, (skip_9, None)->p_12, (tauJoin_4, None)->p_5, (tauSplit_3, None)->p_11, (tauSplit_3, None)->p_8, (tau_1, None)->p_3, (tau_2, None)->sink, p_11->(241aa04c-dc2f-4219-83ed-3025376697ab, 'Declaration REJECTED by ADMINISTRATION'), p_11->(skip_9, None), p_12->(tauJoin_4, None), p_13->(048ec6a8-e138-47b1-bf34-dcb7e08b764e, 'Declaration REJECTED by EMPLOYEE'), p_14->(46486f76-004e-4e6e-93a1-170c124e4051, 'Declaration FINAL_APPROVED by SUPERVISOR'), p_15->(4f818e8b-00a3-47fa-b728-87b65d0f0863, 'Declaration APPROVED by BUDGET OWNER'), p_15->(skip_12, None), p_16->(ddfa6059-2f09-4394-8a3d-4c843048c895, 'Request Payment'), p_17->(ccac1c2d-22b3-4e13-a3e8-51c89c25d955, 'Payment Handled'), p_3->(4becdcb1-e62a-418b-a852-706cf732db34, 'Declaration SAVED by EMPLOYEE'), p_3->(tauSplit_3, None), p_4->(tau_2, None), p_5->(2d17f015-c047-4abe-a82a-185cbbcb2be6, 'Declaration APPROVED by ADMINISTRATION'), p_5->(c449746b-0ac2-4799-a295-aa8965b2eecb, 'Declaration APPROVED by PRE_APPROVER'), p_5->(skip_10, None), p_5->(skip_11, None), p_8->(d43bf0c6-b67b-46c8-8553-2e3f0648caf2, 'Declaration SUBMITTED by EMPLOYEE'), p_9->(skip_7, None), p_9->(tauJoin_4, None), source->(tau_1, None) ]\n",
      "\n",
      "Petri net for International - Normal:\n",
      "places: [ p_10, p_100, p_101, p_102, p_103, p_105, p_106, p_107, p_108, p_109, p_11, p_110, p_111, p_112, p_113, p_114, p_115, p_118, p_119, p_12, p_120, p_121, p_14, p_15, p_16, p_17, p_18, p_19, p_20, p_23, p_24, p_25, p_26, p_27, p_28, p_30, p_31, p_32, p_33, p_34, p_35, p_36, p_37, p_38, p_41, p_42, p_43, p_44, p_45, p_46, p_49, p_5, p_50, p_51, p_52, p_53, p_54, p_58, p_59, p_6, p_62, p_63, p_65, p_66, p_67, p_68, p_7, p_72, p_73, p_75, p_76, p_77, p_78, p_79, p_8, p_81, p_82, p_83, p_85, p_86, p_9, p_90, p_91, p_92, p_93, p_94, p_95, p_96, p_97, p_98, p_99, sink, source ]\n",
      "transitions: [ (046d4cc1-3f14-409c-9c0e-4118f276ccec, 'Permit REJECTED by DIRECTOR'), (0e3a8867-bc05-4d2b-9678-23e5e6fc7dc0, 'Permit APPROVED by BUDGET OWNER'), (1b9c8927-da7e-49cd-a2e4-571e50b9fdc4, 'Declaration REJECTED by PRE_APPROVER'), (1cfa581c-aa8e-4c9a-bb0d-88cb345f2665, 'Permit FINAL_APPROVED by SUPERVISOR'), (217b6395-1f73-4604-8892-4d2d9b4745e3, 'Declaration APPROVED by ADMINISTRATION'), (22130af0-c18e-4a5d-8d47-85cc6d45c1aa, 'Permit FINAL_APPROVED by DIRECTOR'), (24e83f14-f45b-4aa5-b869-978dc8a02e2f, 'Permit APPROVED by PRE_APPROVER'), (2a5bba4c-37d0-4043-88f7-486ba2df5dd2, 'Declaration REJECTED by SUPERVISOR'), (38b3fb43-1b37-44e9-bdd0-25654244b9e1, 'Permit APPROVED by ADMINISTRATION'), (39d9b1d4-1ab8-4308-89b3-4bfe767a115f, 'Permit APPROVED by SUPERVISOR'), (3b0b3e51-0889-44aa-9422-99f74f174fae, 'Permit REJECTED by EMPLOYEE'), (4cd59046-0b34-4e9a-ad86-00ef4c56cb00, 'Permit REJECTED by SUPERVISOR'), (4cf3d271-db11-4330-9112-40fd5bf5c19c, 'Declaration REJECTED by ADMINISTRATION'), (5a8cf369-fa42-4512-85f1-c90c0ea8255f, 'Send Reminder'), (5c6b3941-9e6a-445c-bbed-077350db4773, 'Permit REJECTED by ADMINISTRATION'), (5cd3eb71-8749-4fdb-857a-70ed893089a8, 'Declaration REJECTED by EMPLOYEE'), (5d277b6e-d708-4ebf-bcd8-b694432bdca2, 'Permit REJECTED by MISSING'), (6cc3747e-57e5-4d70-926d-cdff0ef7e8fa, 'Declaration SUBMITTED by EMPLOYEE'), (6eb52e93-7339-4579-bd34-d3115602d1af, 'Declaration REJECTED by BUDGET OWNER'), (74c323e2-f37b-4835-a847-322e98f2fe37, 'Payment Handled'), (7ff640f3-d7cb-478f-bef8-73a2f96185b7, 'Declaration APPROVED by BUDGET OWNER'), (88a040d1-0879-4002-a74e-b849c41e4d12, 'Declaration APPROVED by SUPERVISOR'), (8909fe56-e3a6-4a6b-8e2d-bd984d65efdf, 'Permit REJECTED by BUDGET OWNER'), (98019869-d49b-4344-aea2-4600136014ef, 'Declaration FINAL_APPROVED by DIRECTOR'), (a0adcdfa-1e06-435a-ab3c-fd29f406219f, 'Declaration FINAL_APPROVED by SUPERVISOR'), (a7aed13e-fb12-4a0b-981a-1b21d11e144e, 'Declaration SAVED by EMPLOYEE'), (b0102d16-f33c-4eea-91ce-5908010cdf29, 'Permit REJECTED by PRE_APPROVER'), (caadb4b8-5a7a-40a4-8d0a-4804087b810e, 'Start trip'), (ce69ae4d-1497-4fdd-aac5-ceed072fc6d6, 'Request Payment'), (dc015faf-98b9-4b16-949d-2b4413befb44, 'Declaration REJECTED by DIRECTOR'), (dd3c573f-9742-4108-9889-bdce3951ce51, 'Declaration APPROVED by PRE_APPROVER'), (ed7f8717-1f8e-450d-bf32-84e9befa126e, 'Declaration REJECTED by MISSING'), (f0a5649d-1049-477e-adb1-56cc6b64f560, 'End trip'), (f1114703-056b-4887-a941-d1ef91234143, 'Permit SUBMITTED by EMPLOYEE'), (init_loop_115, None), (init_loop_14, None), (init_loop_21, None), (init_loop_26, None), (init_loop_31, None), (init_loop_38, None), (init_loop_45, None), (init_loop_58, None), (init_loop_6, None), (init_loop_70, None), (init_loop_75, None), (init_loop_80, None), (init_loop_89, None), (init_loop_99, None), (skip_10, None), (skip_101, None), (skip_102, None), (skip_103, None), (skip_104, None), (skip_107, None), (skip_108, None), (skip_109, None), (skip_110, None), (skip_113, None), (skip_114, None), (skip_117, None), (skip_118, None), (skip_119, None), (skip_120, None), (skip_121, None), (skip_124, None), (skip_125, None), (skip_13, None), (skip_16, None), (skip_17, None), (skip_20, None), (skip_23, None), (skip_24, None), (skip_25, None), (skip_30, None), (skip_33, None), (skip_34, None), (skip_37, None), (skip_40, None), (skip_41, None), (skip_44, None), (skip_47, None), (skip_48, None), (skip_5, None), (skip_55, None), (skip_57, None), (skip_60, None), (skip_61, None), (skip_66, None), (skip_68, None), (skip_69, None), (skip_72, None), (skip_73, None), (skip_74, None), (skip_77, None), (skip_78, None), (skip_79, None), (skip_8, None), (skip_82, None), (skip_84, None), (skip_85, None), (skip_86, None), (skip_87, None), (skip_88, None), (skip_9, None), (skip_93, None), (skip_96, None), (skip_97, None), (skip_98, None), (tauJoin_106, None), (tauJoin_112, None), (tauJoin_12, None), (tauJoin_123, None), (tauJoin_19, None), (tauJoin_29, None), (tauJoin_36, None), (tauJoin_4, None), (tauJoin_43, None), (tauJoin_52, None), (tauJoin_63, None), (tauJoin_92, None), (tauJoin_95, None), (tauSplit_105, None), (tauSplit_11, None), (tauSplit_111, None), (tauSplit_122, None), (tauSplit_28, None), (tauSplit_51, None), (tauSplit_62, None), (tauSplit_91, None), (tauSplit_94, None), (tau_1, None) ]\n",
      "arcs: [ (046d4cc1-3f14-409c-9c0e-4118f276ccec, 'Permit REJECTED by DIRECTOR')->p_85, (0e3a8867-bc05-4d2b-9678-23e5e6fc7dc0, 'Permit APPROVED by BUDGET OWNER')->p_86, (1b9c8927-da7e-49cd-a2e4-571e50b9fdc4, 'Declaration REJECTED by PRE_APPROVER')->p_95, (1cfa581c-aa8e-4c9a-bb0d-88cb345f2665, 'Permit FINAL_APPROVED by SUPERVISOR')->p_41, (217b6395-1f73-4604-8892-4d2d9b4745e3, 'Declaration APPROVED by ADMINISTRATION')->p_97, (22130af0-c18e-4a5d-8d47-85cc6d45c1aa, 'Permit FINAL_APPROVED by DIRECTOR')->p_49, (24e83f14-f45b-4aa5-b869-978dc8a02e2f, 'Permit APPROVED by PRE_APPROVER')->p_38, (2a5bba4c-37d0-4043-88f7-486ba2df5dd2, 'Declaration REJECTED by SUPERVISOR')->p_99, (38b3fb43-1b37-44e9-bdd0-25654244b9e1, 'Permit APPROVED by ADMINISTRATION')->p_73, (39d9b1d4-1ab8-4308-89b3-4bfe767a115f, 'Permit APPROVED by SUPERVISOR')->p_46, (3b0b3e51-0889-44aa-9422-99f74f174fae, 'Permit REJECTED by EMPLOYEE')->p_54, (4cd59046-0b34-4e9a-ad86-00ef4c56cb00, 'Permit REJECTED by SUPERVISOR')->p_58, (4cf3d271-db11-4330-9112-40fd5bf5c19c, 'Declaration REJECTED by ADMINISTRATION')->p_103, (5a8cf369-fa42-4512-85f1-c90c0ea8255f, 'Send Reminder')->p_20, (5c6b3941-9e6a-445c-bbed-077350db4773, 'Permit REJECTED by ADMINISTRATION')->p_83, (5cd3eb71-8749-4fdb-857a-70ed893089a8, 'Declaration REJECTED by EMPLOYEE')->p_93, (5d277b6e-d708-4ebf-bcd8-b694432bdca2, 'Permit REJECTED by MISSING')->p_12, (6cc3747e-57e5-4d70-926d-cdff0ef7e8fa, 'Declaration SUBMITTED by EMPLOYEE')->p_28, (6eb52e93-7339-4579-bd34-d3115602d1af, 'Declaration REJECTED by BUDGET OWNER')->p_99, (74c323e2-f37b-4835-a847-322e98f2fe37, 'Payment Handled')->p_121, (7ff640f3-d7cb-478f-bef8-73a2f96185b7, 'Declaration APPROVED by BUDGET OWNER')->p_100, (88a040d1-0879-4002-a74e-b849c41e4d12, 'Declaration APPROVED by SUPERVISOR')->p_106, (8909fe56-e3a6-4a6b-8e2d-bd984d65efdf, 'Permit REJECTED by BUDGET OWNER')->p_79, (98019869-d49b-4344-aea2-4600136014ef, 'Declaration FINAL_APPROVED by DIRECTOR')->p_115, (a0adcdfa-1e06-435a-ab3c-fd29f406219f, 'Declaration FINAL_APPROVED by SUPERVISOR')->p_109, (a7aed13e-fb12-4a0b-981a-1b21d11e144e, 'Declaration SAVED by EMPLOYEE')->p_15, (b0102d16-f33c-4eea-91ce-5908010cdf29, 'Permit REJECTED by PRE_APPROVER')->p_68, (caadb4b8-5a7a-40a4-8d0a-4804087b810e, 'Start trip')->p_6, (ce69ae4d-1497-4fdd-aac5-ceed072fc6d6, 'Request Payment')->p_119, (dc015faf-98b9-4b16-949d-2b4413befb44, 'Declaration REJECTED by DIRECTOR')->p_108, (dd3c573f-9742-4108-9889-bdce3951ce51, 'Declaration APPROVED by PRE_APPROVER')->p_100, (ed7f8717-1f8e-450d-bf32-84e9befa126e, 'Declaration REJECTED by MISSING')->p_111, (f0a5649d-1049-477e-adb1-56cc6b64f560, 'End trip')->p_8, (f1114703-056b-4887-a941-d1ef91234143, 'Permit SUBMITTED by EMPLOYEE')->p_63, (init_loop_115, None)->p_114, (init_loop_14, None)->p_19, (init_loop_21, None)->p_27, (init_loop_26, None)->p_33, (init_loop_31, None)->p_37, (init_loop_38, None)->p_45, (init_loop_45, None)->p_53, (init_loop_58, None)->p_67, (init_loop_6, None)->p_11, (init_loop_70, None)->p_78, (init_loop_75, None)->p_82, (init_loop_80, None)->p_85, (init_loop_89, None)->p_90, (init_loop_99, None)->p_102, (skip_10, None)->p_16, (skip_101, None)->p_102, (skip_102, None)->p_101, (skip_103, None)->p_100, (skip_104, None)->p_99, (skip_107, None)->p_106, (skip_108, None)->p_108, (skip_109, None)->p_109, (skip_110, None)->p_108, (skip_113, None)->p_111, (skip_114, None)->p_113, (skip_117, None)->p_114, (skip_118, None)->p_113, (skip_119, None)->p_90, (skip_120, None)->p_31, (skip_121, None)->p_23, (skip_124, None)->p_119, (skip_125, None)->p_15, (skip_13, None)->p_18, (skip_16, None)->p_19, (skip_17, None)->p_18, (skip_20, None)->p_26, (skip_23, None)->p_27, (skip_24, None)->p_26, (skip_25, None)->p_32, (skip_30, None)->p_36, (skip_33, None)->p_37, (skip_34, None)->p_36, (skip_37, None)->p_44, (skip_40, None)->p_45, (skip_41, None)->p_44, (skip_44, None)->p_52, (skip_47, None)->p_53, (skip_48, None)->p_52, (skip_5, None)->p_10, (skip_55, None)->p_62, (skip_57, None)->p_66, (skip_60, None)->p_67, (skip_61, None)->p_66, (skip_66, None)->p_72, (skip_68, None)->p_76, (skip_69, None)->p_77, (skip_72, None)->p_78, (skip_73, None)->p_77, (skip_74, None)->p_81, (skip_77, None)->p_82, (skip_78, None)->p_81, (skip_79, None)->p_76, (skip_8, None)->p_11, (skip_82, None)->p_76, (skip_84, None)->p_49, (skip_85, None)->p_41, (skip_86, None)->p_33, (skip_87, None)->p_32, (skip_88, None)->p_31, (skip_9, None)->p_10, (skip_93, None)->p_93, (skip_96, None)->p_97, (skip_97, None)->p_100, (skip_98, None)->p_101, (tauJoin_106, None)->p_99, (tauJoin_112, None)->p_108, (tauJoin_12, None)->p_16, (tauJoin_123, None)->p_23, (tauJoin_19, None)->p_24, (tauJoin_29, None)->p_34, (tauJoin_36, None)->p_42, (tauJoin_4, None)->sink, (tauJoin_43, None)->p_50, (tauJoin_52, None)->p_59, (tauJoin_63, None)->p_66, (tauJoin_92, None)->p_91, (tauJoin_95, None)->p_95, (tauSplit_105, None)->p_105, (tauSplit_105, None)->p_107, (tauSplit_11, None)->p_17, (tauSplit_11, None)->p_25, (tauSplit_11, None)->p_30, (tauSplit_111, None)->p_110, (tauSplit_111, None)->p_112, (tauSplit_122, None)->p_118, (tauSplit_122, None)->p_120, (tauSplit_28, None)->p_35, (tauSplit_28, None)->p_43, (tauSplit_28, None)->p_51, (tauSplit_28, None)->p_58, (tauSplit_51, None)->p_62, (tauSplit_51, None)->p_65, (tauSplit_62, None)->p_72, (tauSplit_62, None)->p_75, (tauSplit_91, None)->p_92, (tauSplit_91, None)->p_94, (tauSplit_94, None)->p_96, (tauSplit_94, None)->p_98, (tau_1, None)->p_14, (tau_1, None)->p_5, (tau_1, None)->p_7, (tau_1, None)->p_9, p_10->(tauJoin_4, None), p_100->(2a5bba4c-37d0-4043-88f7-486ba2df5dd2, 'Declaration REJECTED by SUPERVISOR'), p_100->(skip_104, None), p_100->(tauSplit_105, None), p_101->(7ff640f3-d7cb-478f-bef8-73a2f96185b7, 'Declaration APPROVED by BUDGET OWNER'), p_101->(skip_103, None), p_102->(4cf3d271-db11-4330-9112-40fd5bf5c19c, 'Declaration REJECTED by ADMINISTRATION'), p_103->(skip_101, None), p_103->(skip_102, None), p_105->(88a040d1-0879-4002-a74e-b849c41e4d12, 'Declaration APPROVED by SUPERVISOR'), p_105->(skip_107, None), p_106->(tauJoin_106, None), p_107->(a0adcdfa-1e06-435a-ab3c-fd29f406219f, 'Declaration FINAL_APPROVED by SUPERVISOR'), p_107->(dc015faf-98b9-4b16-949d-2b4413befb44, 'Declaration REJECTED by DIRECTOR'), p_107->(skip_108, None), p_107->(skip_109, None), p_108->(tauJoin_106, None), p_109->(skip_110, None), p_109->(tauSplit_111, None), p_11->(5d277b6e-d708-4ebf-bcd8-b694432bdca2, 'Permit REJECTED by MISSING'), p_110->(ed7f8717-1f8e-450d-bf32-84e9befa126e, 'Declaration REJECTED by MISSING'), p_110->(skip_113, None), p_111->(tauJoin_112, None), p_112->(init_loop_115, None), p_112->(skip_114, None), p_113->(tauJoin_112, None), p_114->(98019869-d49b-4344-aea2-4600136014ef, 'Declaration FINAL_APPROVED by DIRECTOR'), p_115->(skip_117, None), p_115->(skip_118, None), p_118->(ce69ae4d-1497-4fdd-aac5-ceed072fc6d6, 'Request Payment'), p_118->(skip_124, None), p_119->(tauJoin_123, None), p_12->(skip_8, None), p_12->(skip_9, None), p_120->(74c323e2-f37b-4835-a847-322e98f2fe37, 'Payment Handled'), p_121->(tauJoin_123, None), p_14->(skip_10, None), p_14->(tauSplit_11, None), p_15->(tauJoin_4, None), p_16->(a7aed13e-fb12-4a0b-981a-1b21d11e144e, 'Declaration SAVED by EMPLOYEE'), p_16->(skip_125, None), p_17->(init_loop_14, None), p_17->(skip_13, None), p_18->(tauJoin_12, None), p_19->(5a8cf369-fa42-4512-85f1-c90c0ea8255f, 'Send Reminder'), p_20->(skip_16, None), p_20->(skip_17, None), p_23->(tauJoin_12, None), p_24->(skip_121, None), p_24->(tauSplit_122, None), p_25->(init_loop_21, None), p_25->(skip_20, None), p_26->(tauJoin_19, None), p_27->(6cc3747e-57e5-4d70-926d-cdff0ef7e8fa, 'Declaration SUBMITTED by EMPLOYEE'), p_28->(skip_23, None), p_28->(skip_24, None), p_30->(init_loop_26, None), p_30->(skip_25, None), p_31->(tauJoin_19, None), p_32->(init_loop_89, None), p_32->(skip_88, None), p_33->(tauSplit_28, None), p_34->(skip_86, None), p_34->(skip_87, None), p_35->(init_loop_31, None), p_35->(skip_30, None), p_36->(tauJoin_29, None), p_37->(24e83f14-f45b-4aa5-b869-978dc8a02e2f, 'Permit APPROVED by PRE_APPROVER'), p_38->(skip_33, None), p_38->(skip_34, None), p_41->(tauJoin_29, None), p_42->(1cfa581c-aa8e-4c9a-bb0d-88cb345f2665, 'Permit FINAL_APPROVED by SUPERVISOR'), p_42->(skip_85, None), p_43->(init_loop_38, None), p_43->(skip_37, None), p_44->(tauJoin_36, None), p_45->(39d9b1d4-1ab8-4308-89b3-4bfe767a115f, 'Permit APPROVED by SUPERVISOR'), p_46->(skip_40, None), p_46->(skip_41, None), p_49->(tauJoin_36, None), p_5->(caadb4b8-5a7a-40a4-8d0a-4804087b810e, 'Start trip'), p_50->(22130af0-c18e-4a5d-8d47-85cc6d45c1aa, 'Permit FINAL_APPROVED by DIRECTOR'), p_50->(skip_84, None), p_51->(init_loop_45, None), p_51->(skip_44, None), p_52->(tauJoin_43, None), p_53->(3b0b3e51-0889-44aa-9422-99f74f174fae, 'Permit REJECTED by EMPLOYEE'), p_54->(skip_47, None), p_54->(skip_48, None), p_58->(tauSplit_51, None), p_59->(4cd59046-0b34-4e9a-ad86-00ef4c56cb00, 'Permit REJECTED by SUPERVISOR'), p_59->(tauJoin_43, None), p_6->(tauJoin_4, None), p_62->(f1114703-056b-4887-a941-d1ef91234143, 'Permit SUBMITTED by EMPLOYEE'), p_63->(skip_55, None), p_63->(tauJoin_52, None), p_65->(init_loop_58, None), p_65->(skip_57, None), p_65->(tauSplit_62, None), p_66->(tauJoin_52, None), p_67->(b0102d16-f33c-4eea-91ce-5908010cdf29, 'Permit REJECTED by PRE_APPROVER'), p_68->(skip_60, None), p_68->(skip_61, None), p_7->(f0a5649d-1049-477e-adb1-56cc6b64f560, 'End trip'), p_72->(38b3fb43-1b37-44e9-bdd0-25654244b9e1, 'Permit APPROVED by ADMINISTRATION'), p_73->(skip_66, None), p_73->(tauJoin_63, None), p_75->(init_loop_70, None), p_75->(skip_68, None), p_75->(skip_69, None), p_76->(tauJoin_63, None), p_77->(init_loop_75, None), p_77->(skip_74, None), p_78->(8909fe56-e3a6-4a6b-8e2d-bd984d65efdf, 'Permit REJECTED by BUDGET OWNER'), p_79->(skip_72, None), p_79->(skip_73, None), p_8->(tauJoin_4, None), p_81->(init_loop_80, None), p_81->(skip_79, None), p_82->(5c6b3941-9e6a-445c-bbed-077350db4773, 'Permit REJECTED by ADMINISTRATION'), p_83->(skip_77, None), p_83->(skip_78, None), p_85->(0e3a8867-bc05-4d2b-9678-23e5e6fc7dc0, 'Permit APPROVED by BUDGET OWNER'), p_86->(046d4cc1-3f14-409c-9c0e-4118f276ccec, 'Permit REJECTED by DIRECTOR'), p_86->(skip_82, None), p_9->(init_loop_6, None), p_9->(skip_5, None), p_90->(tauSplit_91, None), p_91->(skip_119, None), p_91->(skip_120, None), p_92->(5cd3eb71-8749-4fdb-857a-70ed893089a8, 'Declaration REJECTED by EMPLOYEE'), p_92->(skip_93, None), p_93->(tauJoin_92, None), p_94->(1b9c8927-da7e-49cd-a2e4-571e50b9fdc4, 'Declaration REJECTED by PRE_APPROVER'), p_94->(tauSplit_94, None), p_95->(tauJoin_92, None), p_96->(217b6395-1f73-4604-8892-4d2d9b4745e3, 'Declaration APPROVED by ADMINISTRATION'), p_96->(skip_96, None), p_97->(tauJoin_95, None), p_98->(6eb52e93-7339-4579-bd34-d3115602d1af, 'Declaration REJECTED by BUDGET OWNER'), p_98->(dd3c573f-9742-4108-9889-bdce3951ce51, 'Declaration APPROVED by PRE_APPROVER'), p_98->(init_loop_99, None), p_98->(skip_97, None), p_98->(skip_98, None), p_99->(tauJoin_95, None), source->(tau_1, None) ]\n",
      "\n",
      "Petri net for International - Non-Anomaly:\n",
      "places: [ p_10, p_11, p_12, p_14, p_15, p_16, p_17, p_18, p_19, p_20, p_22, p_23, p_24, p_25, p_26, p_27, p_28, p_29, p_30, p_31, p_33, p_34, p_5, p_6, p_7, p_8, p_9, sink, source ]\n",
      "transitions: [ (0a5459b3-0e18-47d0-b37e-68a794dce1b3, 'Permit APPROVED by PRE_APPROVER'), (19c737a4-d401-4652-857b-0b23e859a106, 'Permit SUBMITTED by EMPLOYEE'), (1ce5532d-f884-4ad5-94d6-ca008ff29295, 'Payment Handled'), (21d4d30a-3abe-49c3-b5c1-0b5f3e75f971, 'Permit APPROVED by BUDGET OWNER'), (240f38be-b622-4f31-9c26-b3ad9b04529e, 'Permit APPROVED by SUPERVISOR'), (2c599714-cdea-402b-a8b4-329dc71d77a4, 'Declaration REJECTED by EMPLOYEE'), (2c63623a-fbdc-4cd1-99c2-ccaf0f1d35fb, 'Permit FINAL_APPROVED by SUPERVISOR'), (326f8729-3e6d-4c05-a308-2151aac77bf1, 'Declaration APPROVED by BUDGET OWNER'), (410da722-2497-4de0-a2e8-bd414ecd4b26, 'Permit APPROVED by ADMINISTRATION'), (7676818c-af57-4224-8858-5765bccdc524, 'Declaration REJECTED by ADMINISTRATION'), (8f4ce2f6-425f-4c30-b4f3-0d24ffb38800, 'Declaration FINAL_APPROVED by SUPERVISOR'), (910a1260-d9ad-4175-8541-b1f67955b0e5, 'Start trip'), (9fe200a4-80f0-4de9-846a-d5b6daa505a1, 'Declaration APPROVED by ADMINISTRATION'), (a3c27f57-1b01-4531-a548-9c4302451ae3, 'Request Payment'), (b230b0a6-f60d-4113-89e1-8b72d21ae7bc, 'Declaration SUBMITTED by EMPLOYEE'), (be9d4051-895e-40e8-9c35-91ef953f017c, 'Permit FINAL_APPROVED by DIRECTOR'), (c8fcbd07-b26f-4884-a58f-2c6b8aadd529, 'End trip'), (ca471c92-196a-40a3-815f-35b05cdc404f, 'Send Reminder'), (f99214a9-69dc-46c7-9a82-8e405df848fe, 'Declaration APPROVED by PRE_APPROVER'), (init_loop_13, None), (skip_10, None), (skip_11, None), (skip_12, None), (skip_15, None), (skip_16, None), (skip_17, None), (skip_18, None), (skip_7, None), (tauJoin_4, None), (tauJoin_6, None), (tauJoin_9, None), (tau_1, None) ]\n",
      "arcs: [ (0a5459b3-0e18-47d0-b37e-68a794dce1b3, 'Permit APPROVED by PRE_APPROVER')->p_27, (19c737a4-d401-4652-857b-0b23e859a106, 'Permit SUBMITTED by EMPLOYEE')->p_22, (19c737a4-d401-4652-857b-0b23e859a106, 'Permit SUBMITTED by EMPLOYEE')->p_24, (1ce5532d-f884-4ad5-94d6-ca008ff29295, 'Payment Handled')->p_12, (21d4d30a-3abe-49c3-b5c1-0b5f3e75f971, 'Permit APPROVED by BUDGET OWNER')->p_27, (240f38be-b622-4f31-9c26-b3ad9b04529e, 'Permit APPROVED by SUPERVISOR')->p_26, (2c599714-cdea-402b-a8b4-329dc71d77a4, 'Declaration REJECTED by EMPLOYEE')->p_30, (2c63623a-fbdc-4cd1-99c2-ccaf0f1d35fb, 'Permit FINAL_APPROVED by SUPERVISOR')->p_28, (326f8729-3e6d-4c05-a308-2151aac77bf1, 'Declaration APPROVED by BUDGET OWNER')->p_19, (410da722-2497-4de0-a2e8-bd414ecd4b26, 'Permit APPROVED by ADMINISTRATION')->p_23, (7676818c-af57-4224-8858-5765bccdc524, 'Declaration REJECTED by ADMINISTRATION')->p_33, (8f4ce2f6-425f-4c30-b4f3-0d24ffb38800, 'Declaration FINAL_APPROVED by SUPERVISOR')->p_8, (910a1260-d9ad-4175-8541-b1f67955b0e5, 'Start trip')->p_17, (9fe200a4-80f0-4de9-846a-d5b6daa505a1, 'Declaration APPROVED by ADMINISTRATION')->p_34, (a3c27f57-1b01-4531-a548-9c4302451ae3, 'Request Payment')->p_6, (b230b0a6-f60d-4113-89e1-8b72d21ae7bc, 'Declaration SUBMITTED by EMPLOYEE')->p_31, (be9d4051-895e-40e8-9c35-91ef953f017c, 'Permit FINAL_APPROVED by DIRECTOR')->p_25, (c8fcbd07-b26f-4884-a58f-2c6b8aadd529, 'End trip')->p_10, (ca471c92-196a-40a3-815f-35b05cdc404f, 'Send Reminder')->p_25, (f99214a9-69dc-46c7-9a82-8e405df848fe, 'Declaration APPROVED by PRE_APPROVER')->p_14, (init_loop_13, None)->p_30, (skip_10, None)->p_23, (skip_11, None)->p_27, (skip_12, None)->p_25, (skip_15, None)->p_29, (skip_16, None)->p_19, (skip_17, None)->p_19, (skip_18, None)->p_14, (skip_7, None)->p_20, (tauJoin_4, None)->sink, (tauJoin_6, None)->p_15, (tauJoin_9, None)->p_20, (tau_1, None)->p_11, (tau_1, None)->p_16, (tau_1, None)->p_18, (tau_1, None)->p_5, (tau_1, None)->p_7, (tau_1, None)->p_9, p_10->(tauJoin_4, None), p_11->(1ce5532d-f884-4ad5-94d6-ca008ff29295, 'Payment Handled'), p_12->(tauJoin_4, None), p_14->(tauJoin_4, None), p_15->(f99214a9-69dc-46c7-9a82-8e405df848fe, 'Declaration APPROVED by PRE_APPROVER'), p_15->(skip_18, None), p_16->(910a1260-d9ad-4175-8541-b1f67955b0e5, 'Start trip'), p_17->(tauJoin_6, None), p_18->(19c737a4-d401-4652-857b-0b23e859a106, 'Permit SUBMITTED by EMPLOYEE'), p_18->(skip_7, None), p_19->(tauJoin_6, None), p_20->(init_loop_13, None), p_22->(410da722-2497-4de0-a2e8-bd414ecd4b26, 'Permit APPROVED by ADMINISTRATION'), p_22->(skip_10, None), p_23->(tauJoin_9, None), p_24->(0a5459b3-0e18-47d0-b37e-68a794dce1b3, 'Permit APPROVED by PRE_APPROVER'), p_24->(21d4d30a-3abe-49c3-b5c1-0b5f3e75f971, 'Permit APPROVED by BUDGET OWNER'), p_24->(240f38be-b622-4f31-9c26-b3ad9b04529e, 'Permit APPROVED by SUPERVISOR'), p_24->(skip_11, None), p_25->(tauJoin_9, None), p_26->(be9d4051-895e-40e8-9c35-91ef953f017c, 'Permit FINAL_APPROVED by DIRECTOR'), p_27->(2c63623a-fbdc-4cd1-99c2-ccaf0f1d35fb, 'Permit FINAL_APPROVED by SUPERVISOR'), p_28->(ca471c92-196a-40a3-815f-35b05cdc404f, 'Send Reminder'), p_28->(skip_12, None), p_29->(9fe200a4-80f0-4de9-846a-d5b6daa505a1, 'Declaration APPROVED by ADMINISTRATION'), p_29->(skip_16, None), p_30->(b230b0a6-f60d-4113-89e1-8b72d21ae7bc, 'Declaration SUBMITTED by EMPLOYEE'), p_31->(7676818c-af57-4224-8858-5765bccdc524, 'Declaration REJECTED by ADMINISTRATION'), p_31->(skip_15, None), p_33->(2c599714-cdea-402b-a8b4-329dc71d77a4, 'Declaration REJECTED by EMPLOYEE'), p_34->(326f8729-3e6d-4c05-a308-2151aac77bf1, 'Declaration APPROVED by BUDGET OWNER'), p_34->(skip_17, None), p_5->(a3c27f57-1b01-4531-a548-9c4302451ae3, 'Request Payment'), p_6->(tauJoin_4, None), p_7->(8f4ce2f6-425f-4c30-b4f3-0d24ffb38800, 'Declaration FINAL_APPROVED by SUPERVISOR'), p_8->(tauJoin_4, None), p_9->(c8fcbd07-b26f-4884-a58f-2c6b8aadd529, 'End trip'), source->(tau_1, None) ]\n"
     ]
    }
   ],
   "source": [
    "import pm4py\n",
    "\n",
    "# Load the logs\n",
    "log_domestic = load_data('domestic')\n",
    "log_international = load_data('international')\n",
    "log_domestic_nonanomaly = pm4py.read_xes(\"Data/nonanomaly_DomesticDeclarations.xes\")\n",
    "log_international_nonanomaly = pm4py.read_xes(\"Data/nonanomaly_InternationalDeclarations.xes\")\n",
    "\n",
    "# Discover Petri net for Domestic - Normal\n",
    "dom_petri_net, dom_initial_marking, dom_final_marking = pm4py.discover_petri_net_inductive(log_domestic)\n",
    "\n",
    "# Discover Petri net for Domestic - Non-Anomaly\n",
    "dom_petri_net_non_a, dom_initial_marking_non_a, dom_final_marking_non_a = pm4py.discover_petri_net_inductive(log_domestic_nonanomaly)\n",
    "\n",
    "# Discover Petri net for International - Normal\n",
    "int_petri_net, int_initial_marking, int_final_marking = pm4py.discover_petri_net_inductive(log_international)\n",
    "\n",
    "# Discover Petri net for International - Non-Anomaly\n",
    "int_petri_net_non_a, int_initial_marking_non_a, int_final_marking_non_a = pm4py.discover_petri_net_inductive(log_international_nonanomaly)\n",
    "\n",
    "# Displaying the results for clarity\n",
    "print(\"Petri net for Domestic - Normal:\")\n",
    "print(dom_petri_net)\n",
    "\n",
    "print(\"\\nPetri net for Domestic - Non-Anomaly:\")\n",
    "print(dom_petri_net_non_a)\n",
    "\n",
    "print(\"\\nPetri net for International - Normal:\")\n",
    "print(int_petri_net)\n",
    "\n",
    "print(\"\\nPetri net for International - Non-Anomaly:\")\n",
    "print(int_petri_net_non_a)\n"
   ]
  },
  {
   "cell_type": "markdown",
   "metadata": {},
   "source": [
    "# Process Conformance"
   ]
  },
  {
   "cell_type": "markdown",
   "metadata": {},
   "source": [
    "## Fitness"
   ]
  },
  {
   "cell_type": "markdown",
   "metadata": {},
   "source": [
    "### Token-based Replay Fitness"
   ]
  },
  {
   "cell_type": "code",
   "execution_count": 21,
   "metadata": {},
   "outputs": [
    {
     "data": {
      "application/vnd.jupyter.widget-view+json": {
       "model_id": "95aa872849de474b86bd7ca0c029022e",
       "version_major": 2,
       "version_minor": 0
      },
      "text/plain": [
       "replaying log with TBR, completed traces ::   0%|          | 0/99 [00:00<?, ?it/s]"
      ]
     },
     "metadata": {},
     "output_type": "display_data"
    },
    {
     "data": {
      "application/vnd.jupyter.widget-view+json": {
       "model_id": "e000b2d992004d108f2fc954162d2669",
       "version_major": 2,
       "version_minor": 0
      },
      "text/plain": [
       "replaying log with TBR, completed traces ::   0%|          | 0/8 [00:00<?, ?it/s]"
      ]
     },
     "metadata": {},
     "output_type": "display_data"
    },
    {
     "data": {
      "application/vnd.jupyter.widget-view+json": {
       "model_id": "5f09184eed2b49aea884c88a38c6f60e",
       "version_major": 2,
       "version_minor": 0
      },
      "text/plain": [
       "replaying log with TBR, completed traces ::   0%|          | 0/753 [00:00<?, ?it/s]"
      ]
     },
     "metadata": {},
     "output_type": "display_data"
    },
    {
     "data": {
      "application/vnd.jupyter.widget-view+json": {
       "model_id": "39dd42f5722c4843bf1a2a163fd86dd6",
       "version_major": 2,
       "version_minor": 0
      },
      "text/plain": [
       "replaying log with TBR, completed traces ::   0%|          | 0/13 [00:00<?, ?it/s]"
      ]
     },
     "metadata": {},
     "output_type": "display_data"
    },
    {
     "name": "stdout",
     "output_type": "stream",
     "text": [
      "Token-based Replay Fitness for Domestic - Normal:\n",
      "{'perc_fit_traces': 100.0, 'average_trace_fitness': 1.0, 'log_fitness': 1.0, 'percentage_of_fitting_traces': 100.0}\n",
      "\n",
      "Token-based Replay Fitness for Domestic - Non-Anomaly:\n",
      "{'perc_fit_traces': 100.0, 'average_trace_fitness': 1.0, 'log_fitness': 1.0, 'percentage_of_fitting_traces': 100.0}\n",
      "\n",
      "Token-based Replay Fitness for International - Normal:\n",
      "{'perc_fit_traces': 6.946813459451078, 'average_trace_fitness': 0.971365449043232, 'log_fitness': 0.9707533277618512, 'percentage_of_fitting_traces': 6.946813459451078}\n",
      "\n",
      "Token-based Replay Fitness for International - Non-Anomaly:\n",
      "{'perc_fit_traces': 100.0, 'average_trace_fitness': 1.0, 'log_fitness': 1.0, 'percentage_of_fitting_traces': 100.0}\n"
     ]
    }
   ],
   "source": [
    "import pm4py\n",
    "\n",
    "# Token-based Replay Fitness for Domestic - Normal\n",
    "fitness_domestic_normal = pm4py.fitness_token_based_replay(\n",
    "    log_domestic, \n",
    "    dom_petri_net, \n",
    "    dom_initial_marking, \n",
    "    dom_final_marking\n",
    ")\n",
    "\n",
    "# Token-based Replay Fitness for Domestic - Non-Anomaly\n",
    "fitness_domestic_nonanomaly = pm4py.fitness_token_based_replay(\n",
    "    log_domestic_nonanomaly, \n",
    "    dom_petri_net_non_a, \n",
    "    dom_initial_marking_non_a, \n",
    "    dom_final_marking_non_a\n",
    ")\n",
    "\n",
    "# Token-based Replay Fitness for International - Normal\n",
    "fitness_international_normal = pm4py.fitness_token_based_replay(\n",
    "    log_international, \n",
    "    int_petri_net, \n",
    "    int_initial_marking, \n",
    "    int_final_marking\n",
    ")\n",
    "\n",
    "# Token-based Replay Fitness for International - Non-Anomaly\n",
    "fitness_international_nonanomaly = pm4py.fitness_token_based_replay(\n",
    "    log_international_nonanomaly, \n",
    "    int_petri_net_non_a, \n",
    "    int_initial_marking_non_a, \n",
    "    int_final_marking_non_a\n",
    ")\n",
    "\n",
    "# Displaying the fitness results\n",
    "print(\"Token-based Replay Fitness for Domestic - Normal:\")\n",
    "print(fitness_domestic_normal)\n",
    "\n",
    "print(\"\\nToken-based Replay Fitness for Domestic - Non-Anomaly:\")\n",
    "print(fitness_domestic_nonanomaly)\n",
    "\n",
    "print(\"\\nToken-based Replay Fitness for International - Normal:\")\n",
    "print(fitness_international_normal)\n",
    "\n",
    "print(\"\\nToken-based Replay Fitness for International - Non-Anomaly:\")\n",
    "print(fitness_international_nonanomaly)\n"
   ]
  },
  {
   "cell_type": "markdown",
   "metadata": {},
   "source": [
    "- **Domestic - Normal**: \n",
    "  - Alle Prozessvarianten passen perfekt zum Modell. Der Fitness-Wert von 1.0 für alle Metriken zeigt, dass das Modell den realen Prozess vollständig repräsentiert. Es gibt keine Anomalien oder Abweichungen in den Daten.\n",
    "\n",
    "- **Domestic - Non-Anomaly**:\n",
    "  - Auch nach dem Entfernen der seltenen Varianten (weniger als 1% der Gesamttraces) bleibt die Fitness perfekt. Dies zeigt, dass die Anomalien keinen Einfluss auf die allgemeine Prozessstruktur hatten.\n",
    "\n",
    "- **International - Normal**:\n",
    "  - Nur etwa 6.95% der Traces passen vollständig zum Modell. Der durchschnittliche Trace-Fitness-Wert von 0.971 zeigt jedoch, dass die meisten Traces dem Modell recht nahe kommen, aber es gibt signifikante Abweichungen oder Varianten, die nicht gut durch das Modell erfasst werden.\n",
    "\n",
    "- **International - Non-Anomaly**:\n",
    "  - Nach dem Entfernen der seltenen Varianten passen alle verbleibenden Traces perfekt zum Modell. Dies deutet darauf hin, dass die Anomalien hauptsächlich für die Abweichungen im normalen Datensatz verantwortlich waren."
   ]
  },
  {
   "cell_type": "markdown",
   "metadata": {},
   "source": [
    "### Alignment-based Fitness"
   ]
  },
  {
   "cell_type": "code",
   "execution_count": 23,
   "metadata": {},
   "outputs": [
    {
     "data": {
      "application/vnd.jupyter.widget-view+json": {
       "model_id": "206615da9071428698dc753a8b669b18",
       "version_major": 2,
       "version_minor": 0
      },
      "text/plain": [
       "aligning log, completed variants ::   0%|          | 0/99 [00:00<?, ?it/s]"
      ]
     },
     "metadata": {},
     "output_type": "display_data"
    },
    {
     "data": {
      "application/vnd.jupyter.widget-view+json": {
       "model_id": "4bceb7f1c52848fa9a8f750b686cc3a5",
       "version_major": 2,
       "version_minor": 0
      },
      "text/plain": [
       "aligning log, completed variants ::   0%|          | 0/8 [00:00<?, ?it/s]"
      ]
     },
     "metadata": {},
     "output_type": "display_data"
    },
    {
     "data": {
      "application/vnd.jupyter.widget-view+json": {
       "model_id": "0956333c40e9412691a3d12682c9f578",
       "version_major": 2,
       "version_minor": 0
      },
      "text/plain": [
       "aligning log, completed variants ::   0%|          | 0/753 [00:00<?, ?it/s]"
      ]
     },
     "metadata": {},
     "output_type": "display_data"
    },
    {
     "data": {
      "application/vnd.jupyter.widget-view+json": {
       "model_id": "2656782e1fc74f05be9e0e446fc4fa1b",
       "version_major": 2,
       "version_minor": 0
      },
      "text/plain": [
       "aligning log, completed variants ::   0%|          | 0/13 [00:00<?, ?it/s]"
      ]
     },
     "metadata": {},
     "output_type": "display_data"
    },
    {
     "name": "stdout",
     "output_type": "stream",
     "text": [
      "Alignment-based Fitness for Domestic - Normal:\n",
      "{'percFitTraces': 100.0, 'averageFitness': 1.0, 'percentage_of_fitting_traces': 100.0, 'average_trace_fitness': 1.0, 'log_fitness': 0.9997527210745741}\n",
      "\n",
      "Alignment-based Fitness for Domestic - Non-Anomaly:\n",
      "{'percFitTraces': 100.0, 'averageFitness': 1.0, 'percentage_of_fitting_traces': 100.0, 'average_trace_fitness': 1.0, 'log_fitness': 0.9999096643560642}\n",
      "\n",
      "Alignment-based Fitness for International - Normal:\n",
      "{'percFitTraces': 100.0, 'averageFitness': 1.0, 'percentage_of_fitting_traces': 100.0, 'average_trace_fitness': 1.0, 'log_fitness': 0.9996963994751248}\n",
      "\n",
      "Alignment-based Fitness for International - Non-Anomaly:\n",
      "{'percFitTraces': 100.0, 'averageFitness': 1.0, 'percentage_of_fitting_traces': 100.0, 'average_trace_fitness': 1.0, 'log_fitness': 0.9999430903417306}\n"
     ]
    }
   ],
   "source": [
    "import pm4py\n",
    "\n",
    "# Alignment-based Fitness for Domestic - Normal\n",
    "alignment_domestic_normal = pm4py.fitness_alignments(\n",
    "    log_domestic, \n",
    "    dom_petri_net, \n",
    "    dom_initial_marking, \n",
    "    dom_final_marking,\n",
    "    multi_processing=True\n",
    ")\n",
    "\n",
    "# Alignment-based Fitness for Domestic - Non-Anomaly\n",
    "alignment_domestic_nonanomaly = pm4py.fitness_alignments(\n",
    "    log_domestic_nonanomaly, \n",
    "    dom_petri_net_non_a, \n",
    "    dom_initial_marking_non_a, \n",
    "    dom_final_marking_non_a,\n",
    "    multi_processing=True\n",
    ")\n",
    "\n",
    "# Alignment-based Fitness for International - Normal\n",
    "alignment_international_normal = pm4py.fitness_alignments(\n",
    "    log_international, \n",
    "    int_petri_net, \n",
    "    int_initial_marking, \n",
    "    int_final_marking,\n",
    "    multi_processing=True\n",
    ")\n",
    "\n",
    "# Alignment-based Fitness for International - Non-Anomaly\n",
    "alignment_international_nonanomaly = pm4py.fitness_alignments(\n",
    "    log_international_nonanomaly, \n",
    "    int_petri_net_non_a, \n",
    "    int_initial_marking_non_a, \n",
    "    int_final_marking_non_a,\n",
    "    multi_processing=True\n",
    ")\n",
    "\n",
    "# Displaying the fitness results\n",
    "print(\"Alignment-based Fitness for Domestic - Normal:\")\n",
    "print(alignment_domestic_normal)\n",
    "\n",
    "print(\"\\nAlignment-based Fitness for Domestic - Non-Anomaly:\")\n",
    "print(alignment_domestic_nonanomaly)\n",
    "\n",
    "print(\"\\nAlignment-based Fitness for International - Normal:\")\n",
    "print(alignment_international_normal)\n",
    "\n",
    "print(\"\\nAlignment-based Fitness for International - Non-Anomaly:\")\n",
    "print(alignment_international_nonanomaly)\n"
   ]
  },
  {
   "cell_type": "markdown",
   "metadata": {},
   "source": [
    "- **Domestic - Normal**:\n",
    "  - Das Modell repräsentiert den realen Prozess fast perfekt, wobei alle Traces vollständig zum Modell passen. Der Log-Fitness-Wert von 0.99975 zeigt, dass es nur minimale Abweichungen gibt, die jedoch vernachlässigbar sind.\n",
    "\n",
    "- **Domestic - Non-Anomaly**:\n",
    "  - Nach dem Entfernen der seltenen Varianten zeigt das Modell eine nahezu perfekte Übereinstimmung mit den verbleibenden Daten, was durch den leicht verbesserten Log-Fitness-Wert von 0.99991 bestätigt wird.\n",
    "\n",
    "- **International - Normal**:\n",
    "  - Trotz der Komplexität des internationalen Prozesses zeigt das Modell eine fast perfekte Übereinstimmung mit den Traces. Der Log-Fitness-Wert von 0.99969 deutet darauf hin, dass es nur sehr geringe Abweichungen gibt.\n",
    "\n",
    "- **International - Non-Anomaly**:\n",
    "  - Durch das Entfernen der seltenen Varianten wird eine nahezu perfekte Fitness von 0.99994 erreicht. Dies unterstreicht, dass die Anomalien in den normalen Daten für die geringen Abweichungen verantwortlich waren."
   ]
  },
  {
   "cell_type": "markdown",
   "metadata": {},
   "source": [
    "Zusammenfassend zeigen die Fitness-Analysen, sowohl auf Token- als auch auf Alignment-Basis, dass die Modelle die Prozesse insgesamt sehr gut repräsentieren. Insbesondere nach dem Entfernen der seltenen Anomalien erreichen alle Modelle nahezu perfekte Fitness-Werte, was darauf hindeutet, dass die Hauptprozesse konsistent und korrekt erfasst wurden. Die geringen Abweichungen in den Fitness-Werten der normalen Datensätze sind größtenteils auf seltene Prozessvarianten zurückzuführen, die als Anomalien identifiziert wurden."
   ]
  },
  {
   "cell_type": "markdown",
   "metadata": {},
   "source": [
    "## Precision Token-based Replay"
   ]
  },
  {
   "cell_type": "code",
   "execution_count": 24,
   "metadata": {},
   "outputs": [
    {
     "data": {
      "application/vnd.jupyter.widget-view+json": {
       "model_id": "3b389c0efce64575a4de296a507bc187",
       "version_major": 2,
       "version_minor": 0
      },
      "text/plain": [
       "replaying log with TBR, completed traces ::   0%|          | 0/324 [00:00<?, ?it/s]"
      ]
     },
     "metadata": {},
     "output_type": "display_data"
    },
    {
     "data": {
      "application/vnd.jupyter.widget-view+json": {
       "model_id": "5bd2afa4734942d29159c671d69d8abb",
       "version_major": 2,
       "version_minor": 0
      },
      "text/plain": [
       "replaying log with TBR, completed traces ::   0%|          | 0/21 [00:00<?, ?it/s]"
      ]
     },
     "metadata": {},
     "output_type": "display_data"
    },
    {
     "data": {
      "application/vnd.jupyter.widget-view+json": {
       "model_id": "01c6f01d849d480d893fb36a2843a660",
       "version_major": 2,
       "version_minor": 0
      },
      "text/plain": [
       "replaying log with TBR, completed traces ::   0%|          | 0/4077 [00:00<?, ?it/s]"
      ]
     },
     "metadata": {},
     "output_type": "display_data"
    },
    {
     "data": {
      "application/vnd.jupyter.widget-view+json": {
       "model_id": "0446f13cc75e4ad1bd9ff47ea09372a4",
       "version_major": 2,
       "version_minor": 0
      },
      "text/plain": [
       "replaying log with TBR, completed traces ::   0%|          | 0/89 [00:00<?, ?it/s]"
      ]
     },
     "metadata": {},
     "output_type": "display_data"
    },
    {
     "name": "stdout",
     "output_type": "stream",
     "text": [
      "Precision Token-based Replay für Domestic - Normal:\n",
      "0.3284064804374959\n",
      "\n",
      "Precision Token-based Replay für Domestic - Non-Anomaly:\n",
      "0.7002038553041494\n",
      "\n",
      "Precision Token-based Replay für International - Normal:\n",
      "0.1593363814500327\n",
      "\n",
      "Precision Token-based Replay für International - Non-Anomaly:\n",
      "0.35798937642537076\n"
     ]
    }
   ],
   "source": [
    "import pm4py\n",
    "\n",
    "# Precision Token-based Replay für Domestic - Normal\n",
    "precision_domestic_normal = pm4py.conformance.precision_token_based_replay(\n",
    "    log_domestic, dom_petri_net, dom_initial_marking, dom_final_marking\n",
    ")\n",
    "\n",
    "# Precision Token-based Replay für Domestic - Non-Anomaly\n",
    "precision_domestic_nonanomaly = pm4py.conformance.precision_token_based_replay(\n",
    "    log_domestic_nonanomaly, dom_petri_net_non_a, dom_initial_marking_non_a, dom_final_marking_non_a\n",
    ")\n",
    "\n",
    "# Precision Token-based Replay für International - Normal\n",
    "precision_international_normal = pm4py.conformance.precision_token_based_replay(\n",
    "    log_international, int_petri_net, int_initial_marking, int_final_marking\n",
    ")\n",
    "\n",
    "# Precision Token-based Replay für International - Non-Anomaly\n",
    "precision_international_nonanomaly = pm4py.conformance.precision_token_based_replay(\n",
    "    log_international_nonanomaly, int_petri_net_non_a, int_initial_marking_non_a, int_final_marking_non_a\n",
    ")\n",
    "\n",
    "# Ergebnisse anzeigen\n",
    "print(\"Precision Token-based Replay für Domestic - Normal:\")\n",
    "print(precision_domestic_normal)\n",
    "\n",
    "print(\"\\nPrecision Token-based Replay für Domestic - Non-Anomaly:\")\n",
    "print(precision_domestic_nonanomaly)\n",
    "\n",
    "print(\"\\nPrecision Token-based Replay für International - Normal:\")\n",
    "print(precision_international_normal)\n",
    "\n",
    "print(\"\\nPrecision Token-based Replay für International - Non-Anomaly:\")\n",
    "print(precision_international_nonanomaly)\n"
   ]
  },
  {
   "cell_type": "markdown",
   "metadata": {},
   "source": [
    "Die Precision-Ergebnisse des Token-based Replay zeigen, dass die Modelle bei den **Domestic-Daten** deutlich präziser sind als bei den **International-Daten**. Insbesondere nach dem Entfernen der seltenen Varianten (**Non-Anomaly**) steigt die Precision bei beiden Prozessen, was darauf hinweist, dass die Anomalien die Präzision des Modells signifikant beeinträchtigt haben. Allerdings bleibt die Precision insgesamt relativ niedrig, was darauf hindeutet, dass die Modelle noch unnötiges oder überflüssiges Verhalten zulassen."
   ]
  },
  {
   "cell_type": "markdown",
   "metadata": {},
   "source": [
    "## Generalization"
   ]
  },
  {
   "cell_type": "code",
   "execution_count": 29,
   "metadata": {},
   "outputs": [
    {
     "data": {
      "application/vnd.jupyter.widget-view+json": {
       "model_id": "a4e19bfd945646aabf25e46bc78c43b6",
       "version_major": 2,
       "version_minor": 0
      },
      "text/plain": [
       "replaying log with TBR, completed traces ::   0%|          | 0/99 [00:00<?, ?it/s]"
      ]
     },
     "metadata": {},
     "output_type": "display_data"
    },
    {
     "data": {
      "application/vnd.jupyter.widget-view+json": {
       "model_id": "230081c2853847768a0fc2162c98ebf2",
       "version_major": 2,
       "version_minor": 0
      },
      "text/plain": [
       "replaying log with TBR, completed traces ::   0%|          | 0/8 [00:00<?, ?it/s]"
      ]
     },
     "metadata": {},
     "output_type": "display_data"
    },
    {
     "data": {
      "application/vnd.jupyter.widget-view+json": {
       "model_id": "4cda85c029a3492998f4541169026a23",
       "version_major": 2,
       "version_minor": 0
      },
      "text/plain": [
       "replaying log with TBR, completed traces ::   0%|          | 0/753 [00:00<?, ?it/s]"
      ]
     },
     "metadata": {},
     "output_type": "display_data"
    },
    {
     "data": {
      "application/vnd.jupyter.widget-view+json": {
       "model_id": "dfda6290255c4b09b3fc4c26eb232616",
       "version_major": 2,
       "version_minor": 0
      },
      "text/plain": [
       "replaying log with TBR, completed traces ::   0%|          | 0/13 [00:00<?, ?it/s]"
      ]
     },
     "metadata": {},
     "output_type": "display_data"
    },
    {
     "name": "stdout",
     "output_type": "stream",
     "text": [
      "Generalization Token-based Replay für Domestic - Normal:\n",
      "0.8554073029005208\n",
      "\n",
      "Generalization Token-based Replay für Domestic - Non-Anomaly:\n",
      "0.9744419345910126\n",
      "\n",
      "Generalization Token-based Replay für International - Normal:\n",
      "0.8766720880937127\n",
      "\n",
      "Generalization Token-based Replay für International - Non-Anomaly:\n",
      "0.9661188835125442\n"
     ]
    }
   ],
   "source": [
    "import pm4py\n",
    "\n",
    "# Generalization Token-based Replay für Domestic - Normal\n",
    "generalization_domestic_normal = pm4py.conformance.generalization_tbr(\n",
    "    log_domestic, dom_petri_net, dom_initial_marking, dom_final_marking\n",
    ")\n",
    "\n",
    "# Generalization Token-based Replay für Domestic - Non-Anomaly\n",
    "generalization_domestic_nonanomaly = pm4py.conformance.generalization_tbr(\n",
    "    log_domestic_nonanomaly, dom_petri_net_non_a, dom_initial_marking_non_a, dom_final_marking_non_a\n",
    ")\n",
    "\n",
    "# Generalization Token-based Replay für International - Normal\n",
    "generalization_international_normal = pm4py.conformance.generalization_tbr(\n",
    "    log_international, int_petri_net, int_initial_marking, int_final_marking\n",
    ")\n",
    "\n",
    "# Generalization Token-based Replay für International - Non-Anomaly\n",
    "generalization_international_nonanomaly = pm4py.conformance.generalization_tbr(\n",
    "    log_international_nonanomaly, int_petri_net_non_a, int_initial_marking_non_a, int_final_marking_non_a\n",
    ")\n",
    "\n",
    "# Ergebnisse anzeigen\n",
    "print(\"Generalization Token-based Replay für Domestic - Normal:\")\n",
    "print(generalization_domestic_normal)\n",
    "\n",
    "print(\"\\nGeneralization Token-based Replay für Domestic - Non-Anomaly:\")\n",
    "print(generalization_domestic_nonanomaly)\n",
    "\n",
    "print(\"\\nGeneralization Token-based Replay für International - Normal:\")\n",
    "print(generalization_international_normal)\n",
    "\n",
    "print(\"\\nGeneralization Token-based Replay für International - Non-Anomaly:\")\n",
    "print(generalization_international_nonanomaly)\n"
   ]
  },
  {
   "cell_type": "markdown",
   "metadata": {},
   "source": [
    "Die Generalization-Ergebnisse des Token-based Replay zeigen, dass die Modelle eine gute Generalisierungsfähigkeit besitzen, insbesondere nach dem Entfernen der seltenen Varianten (Nicht-Anomaly). Sowohl bei den Domestic- als auch bei den International-Daten verbessern sich die Generalisierungswerte deutlich, was darauf hindeutet, dass die Modelle nach dem Ausschluss von Anomalien besser in der Lage sind, plausible zukünftige Prozessvarianten abzudecken. Die Generalization-Werte liegen insgesamt auf einem hohen Niveau, was auf eine robuste Modellierung der Prozesse hinweist."
   ]
  }
 ],
 "metadata": {
  "kernelspec": {
   "display_name": "code-ha-process-mining-2oP8IPjh-py3.11",
   "language": "python",
   "name": "python3"
  },
  "language_info": {
   "codemirror_mode": {
    "name": "ipython",
    "version": 3
   },
   "file_extension": ".py",
   "mimetype": "text/x-python",
   "name": "python",
   "nbconvert_exporter": "python",
   "pygments_lexer": "ipython3",
   "version": "3.11.7"
  }
 },
 "nbformat": 4,
 "nbformat_minor": 2
}
