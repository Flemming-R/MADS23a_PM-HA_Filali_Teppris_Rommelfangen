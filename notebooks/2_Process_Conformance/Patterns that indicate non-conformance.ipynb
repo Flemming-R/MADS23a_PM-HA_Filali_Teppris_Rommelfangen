{
 "cells": [
  {
   "cell_type": "code",
   "execution_count": 1,
   "metadata": {},
   "outputs": [],
   "source": [
    "import pm4py\n",
    "import io\n",
    "import pandas as pd\n",
    "import numpy as np\n",
    "import matplotlib as plt\n",
    "import seaborn as sns\n",
    "\n",
    "from pm4py.objects.log.importer.xes import importer as xes_importer\n",
    "from pm4py.algo.discovery.alpha import algorithm as alpha_miner\n",
    "from pm4py.visualization.petri_net import visualizer as pn_visualizer\n",
    "from pm4py.visualization.bpmn import visualizer as bpmn_vis\n",
    "from pm4py.statistics.traces.generic.log import case_statistics\n",
    "from IPython.display import Markdown, display"
   ]
  },
  {
   "cell_type": "markdown",
   "metadata": {},
   "source": [
    "Logfiles laden"
   ]
  },
  {
   "cell_type": "code",
   "execution_count": 2,
   "metadata": {},
   "outputs": [
    {
     "data": {
      "application/vnd.jupyter.widget-view+json": {
       "model_id": "68dcacb51b534ad69b678deb08d77cca",
       "version_major": 2,
       "version_minor": 0
      },
      "text/plain": [
       "parsing log, completed traces ::   0%|          | 0/10500 [00:00<?, ?it/s]"
      ]
     },
     "metadata": {},
     "output_type": "display_data"
    },
    {
     "ename": "KeyboardInterrupt",
     "evalue": "",
     "output_type": "error",
     "traceback": [
      "\u001b[1;31m---------------------------------------------------------------------------\u001b[0m",
      "\u001b[1;31mKeyboardInterrupt\u001b[0m                         Traceback (most recent call last)",
      "Cell \u001b[1;32mIn[2], line 2\u001b[0m\n\u001b[0;32m      1\u001b[0m log_domestic \u001b[38;5;241m=\u001b[39m pm4py\u001b[38;5;241m.\u001b[39mread_xes(\u001b[38;5;124m'\u001b[39m\u001b[38;5;124mData/DomesticDeclarations.xes\u001b[39m\u001b[38;5;124m'\u001b[39m)\n\u001b[1;32m----> 2\u001b[0m log_international \u001b[38;5;241m=\u001b[39m \u001b[43mpm4py\u001b[49m\u001b[38;5;241;43m.\u001b[39;49m\u001b[43mread_xes\u001b[49m\u001b[43m(\u001b[49m\u001b[38;5;124;43m'\u001b[39;49m\u001b[38;5;124;43mData/InternationalDeclarations.xes\u001b[39;49m\u001b[38;5;124;43m'\u001b[39;49m\u001b[43m)\u001b[49m\n\u001b[0;32m      3\u001b[0m log_domestic_nonanomaly \u001b[38;5;241m=\u001b[39m pm4py\u001b[38;5;241m.\u001b[39mread_xes(\u001b[38;5;124m\"\u001b[39m\u001b[38;5;124mData/nonanomaly_DomesticDeclarations.xes\u001b[39m\u001b[38;5;124m\"\u001b[39m)\n\u001b[0;32m      4\u001b[0m log_international_nonanomaly \u001b[38;5;241m=\u001b[39m pm4py\u001b[38;5;241m.\u001b[39mread_xes(\u001b[38;5;124m\"\u001b[39m\u001b[38;5;124mData/nonanomaly_InternationalDeclarations.xes\u001b[39m\u001b[38;5;124m\"\u001b[39m)\n",
      "File \u001b[1;32mc:\\Users\\flemm\\AppData\\Local\\pypoetry\\Cache\\virtualenvs\\code-ha-process-mining-2oP8IPjh-py3.11\\Lib\\site-packages\\pm4py\\read.py:87\u001b[0m, in \u001b[0;36mread_xes\u001b[1;34m(file_path, variant, return_legacy_log_object, encoding, **kwargs)\u001b[0m\n\u001b[0;32m     84\u001b[0m parameters[\u001b[38;5;124m\"\u001b[39m\u001b[38;5;124mencoding\u001b[39m\u001b[38;5;124m\"\u001b[39m] \u001b[38;5;241m=\u001b[39m encoding\n\u001b[0;32m     85\u001b[0m parameters[\u001b[38;5;124m\"\u001b[39m\u001b[38;5;124mreturn_legacy_log_object\u001b[39m\u001b[38;5;124m\"\u001b[39m] \u001b[38;5;241m=\u001b[39m return_legacy_log_object\n\u001b[1;32m---> 87\u001b[0m log \u001b[38;5;241m=\u001b[39m \u001b[43mxes_importer\u001b[49m\u001b[38;5;241;43m.\u001b[39;49m\u001b[43mapply\u001b[49m\u001b[43m(\u001b[49m\u001b[43mfile_path\u001b[49m\u001b[43m,\u001b[49m\u001b[43m \u001b[49m\u001b[43mvariant\u001b[49m\u001b[38;5;241;43m=\u001b[39;49m\u001b[43mv\u001b[49m\u001b[43m,\u001b[49m\u001b[43m \u001b[49m\u001b[43mparameters\u001b[49m\u001b[38;5;241;43m=\u001b[39;49m\u001b[43mparameters\u001b[49m\u001b[43m)\u001b[49m\n\u001b[0;32m     89\u001b[0m \u001b[38;5;28;01mif\u001b[39;00m \u001b[38;5;28mtype\u001b[39m(log) \u001b[38;5;129;01mis\u001b[39;00m EventLog \u001b[38;5;129;01mand\u001b[39;00m \u001b[38;5;129;01mnot\u001b[39;00m return_legacy_log_object:\n\u001b[0;32m     90\u001b[0m     log \u001b[38;5;241m=\u001b[39m log_converter\u001b[38;5;241m.\u001b[39mapply(log, variant\u001b[38;5;241m=\u001b[39mlog_converter\u001b[38;5;241m.\u001b[39mVariants\u001b[38;5;241m.\u001b[39mTO_DATA_FRAME)\n",
      "File \u001b[1;32mc:\\Users\\flemm\\AppData\\Local\\pypoetry\\Cache\\virtualenvs\\code-ha-process-mining-2oP8IPjh-py3.11\\Lib\\site-packages\\pm4py\\objects\\log\\importer\\xes\\importer.py:86\u001b[0m, in \u001b[0;36mapply\u001b[1;34m(path, parameters, variant)\u001b[0m\n\u001b[0;32m     83\u001b[0m \u001b[38;5;28;01mif\u001b[39;00m \u001b[38;5;28mtype\u001b[39m(variant) \u001b[38;5;129;01mis\u001b[39;00m \u001b[38;5;28mstr\u001b[39m:\n\u001b[0;32m     84\u001b[0m     variant \u001b[38;5;241m=\u001b[39m __get_variant(variant)\n\u001b[1;32m---> 86\u001b[0m log \u001b[38;5;241m=\u001b[39m \u001b[43mvariant\u001b[49m\u001b[38;5;241;43m.\u001b[39;49m\u001b[43mvalue\u001b[49m\u001b[38;5;241;43m.\u001b[39;49m\u001b[43mapply\u001b[49m\u001b[43m(\u001b[49m\u001b[43mpath\u001b[49m\u001b[43m,\u001b[49m\u001b[43m \u001b[49m\u001b[43mparameters\u001b[49m\u001b[38;5;241;43m=\u001b[39;49m\u001b[43mparameters\u001b[49m\u001b[43m)\u001b[49m\n\u001b[0;32m     88\u001b[0m \u001b[38;5;28;01mreturn\u001b[39;00m log\n",
      "File \u001b[1;32mc:\\Users\\flemm\\AppData\\Local\\pypoetry\\Cache\\virtualenvs\\code-ha-process-mining-2oP8IPjh-py3.11\\Lib\\site-packages\\pm4py\\objects\\log\\importer\\xes\\variants\\iterparse.py:300\u001b[0m, in \u001b[0;36mapply\u001b[1;34m(filename, parameters)\u001b[0m\n\u001b[0;32m    278\u001b[0m \u001b[38;5;28;01mdef\u001b[39;00m \u001b[38;5;21mapply\u001b[39m(filename, parameters\u001b[38;5;241m=\u001b[39m\u001b[38;5;28;01mNone\u001b[39;00m):\n\u001b[0;32m    279\u001b[0m \u001b[38;5;250m    \u001b[39m\u001b[38;5;124;03m\"\"\"\u001b[39;00m\n\u001b[0;32m    280\u001b[0m \u001b[38;5;124;03m    Imports an XES file into a log object\u001b[39;00m\n\u001b[0;32m    281\u001b[0m \n\u001b[1;32m   (...)\u001b[0m\n\u001b[0;32m    298\u001b[0m \u001b[38;5;124;03m        A log\u001b[39;00m\n\u001b[0;32m    299\u001b[0m \u001b[38;5;124;03m    \"\"\"\u001b[39;00m\n\u001b[1;32m--> 300\u001b[0m     \u001b[38;5;28;01mreturn\u001b[39;00m \u001b[43mimport_log\u001b[49m\u001b[43m(\u001b[49m\u001b[43mfilename\u001b[49m\u001b[43m,\u001b[49m\u001b[43m \u001b[49m\u001b[43mparameters\u001b[49m\u001b[43m)\u001b[49m\n",
      "File \u001b[1;32mc:\\Users\\flemm\\AppData\\Local\\pypoetry\\Cache\\virtualenvs\\code-ha-process-mining-2oP8IPjh-py3.11\\Lib\\site-packages\\pm4py\\objects\\log\\importer\\xes\\variants\\iterparse.py:340\u001b[0m, in \u001b[0;36mimport_log\u001b[1;34m(filename, parameters)\u001b[0m\n\u001b[0;32m    338\u001b[0m         f \u001b[38;5;241m=\u001b[39m \u001b[38;5;28mopen\u001b[39m(filename, \u001b[38;5;124m\"\u001b[39m\u001b[38;5;124mrb\u001b[39m\u001b[38;5;124m\"\u001b[39m)\n\u001b[0;32m    339\u001b[0m     context \u001b[38;5;241m=\u001b[39m etree\u001b[38;5;241m.\u001b[39miterparse(f, events\u001b[38;5;241m=\u001b[39m[_EVENT_START, _EVENT_END], encoding\u001b[38;5;241m=\u001b[39mencoding)\n\u001b[1;32m--> 340\u001b[0m     num_traces \u001b[38;5;241m=\u001b[39m \u001b[43mcount_traces\u001b[49m\u001b[43m(\u001b[49m\u001b[43mcontext\u001b[49m\u001b[43m)\u001b[49m\n\u001b[0;32m    341\u001b[0m     f\u001b[38;5;241m.\u001b[39mclose()\n\u001b[0;32m    342\u001b[0m \u001b[38;5;28;01melse\u001b[39;00m:\n\u001b[0;32m    343\u001b[0m     \u001b[38;5;66;03m# avoid the iteration to calculate the number of traces is \"tqdm\" is not used\u001b[39;00m\n",
      "File \u001b[1;32mc:\\Users\\flemm\\AppData\\Local\\pypoetry\\Cache\\virtualenvs\\code-ha-process-mining-2oP8IPjh-py3.11\\Lib\\site-packages\\pm4py\\objects\\log\\importer\\xes\\variants\\iterparse.py:63\u001b[0m, in \u001b[0;36mcount_traces\u001b[1;34m(context)\u001b[0m\n\u001b[0;32m     61\u001b[0m \u001b[38;5;28;01mfor\u001b[39;00m tree_event, elem \u001b[38;5;129;01min\u001b[39;00m context:\n\u001b[0;32m     62\u001b[0m     \u001b[38;5;28;01mif\u001b[39;00m tree_event \u001b[38;5;241m==\u001b[39m _EVENT_START:  \u001b[38;5;66;03m# starting to read\u001b[39;00m\n\u001b[1;32m---> 63\u001b[0m         \u001b[38;5;28;01mif\u001b[39;00m \u001b[43melem\u001b[49m\u001b[38;5;241;43m.\u001b[39;49m\u001b[43mtag\u001b[49m\u001b[38;5;241;43m.\u001b[39;49m\u001b[43mendswith\u001b[49m\u001b[43m(\u001b[49m\u001b[43mxes_constants\u001b[49m\u001b[38;5;241;43m.\u001b[39;49m\u001b[43mTAG_TRACE\u001b[49m\u001b[43m)\u001b[49m:\n\u001b[0;32m     64\u001b[0m             num_traces \u001b[38;5;241m=\u001b[39m num_traces \u001b[38;5;241m+\u001b[39m \u001b[38;5;241m1\u001b[39m\n\u001b[0;32m     65\u001b[0m     elem\u001b[38;5;241m.\u001b[39mclear()\n",
      "\u001b[1;31mKeyboardInterrupt\u001b[0m: "
     ]
    }
   ],
   "source": [
    "log_domestic = pm4py.read_xes('Data/DomesticDeclarations.xes')\n",
    "log_international = pm4py.read_xes('Data/InternationalDeclarations.xes')\n",
    "log_domestic_nonanomaly = pm4py.read_xes(\"Data/nonanomaly_DomesticDeclarations.xes\")\n",
    "log_international_nonanomaly = pm4py.read_xes(\"Data/nonanomaly_InternationalDeclarations.xes\")"
   ]
  },
  {
   "cell_type": "markdown",
   "metadata": {},
   "source": [
    "# Daten vorbereiten"
   ]
  },
  {
   "cell_type": "code",
   "execution_count": null,
   "metadata": {},
   "outputs": [
    {
     "name": "stdout",
     "output_type": "stream",
     "text": [
      "Petri net for Domestic - Normal:\n",
      "places: [ p_10, p_11, p_12, p_13, p_14, p_15, p_17, p_18, p_19, p_20, p_21, p_22, p_23, p_24, p_26, p_27, p_28, p_29, p_3, p_30, p_4, p_5, p_6, p_7, sink, source ]\n",
      "transitions: [ (0839e3aa-fba3-4306-b248-dad8aba8edfd, 'Declaration FINAL_APPROVED by SUPERVISOR'), (096b1c96-a1f3-4c55-8125-b79f2dc816ee, 'Declaration REJECTED by BUDGET OWNER'), (2ed13a61-4dbf-4d9c-b92e-680fafe86c69, 'Declaration APPROVED by BUDGET OWNER'), (30af7b30-fb6c-4626-ab40-110ed78380c0, 'Declaration REJECTED by SUPERVISOR'), (3533726d-2c0d-4cd4-be93-6b49133e00f2, 'Request Payment'), (3b78a95a-d6fd-4228-aa36-69693a2d0df9, 'Declaration FOR_APPROVAL by SUPERVISOR'), (3d2b7a16-bbf5-4781-b583-dfa3e1f90c5c, 'Declaration REJECTED by MISSING'), (3d907219-011f-457b-88ba-321c0433fb77, 'Declaration FOR_APPROVAL by ADMINISTRATION'), (62b2bef5-bc4d-4828-acb8-f78c5bcc36cb, 'Declaration APPROVED by ADMINISTRATION'), (6fcc2e74-8e52-43df-a491-afe08a00b1a7, 'Declaration REJECTED by PRE_APPROVER'), (7ff0918e-1a8e-404a-8b22-6a8979849295, 'Declaration FOR_APPROVAL by PRE_APPROVER'), (82e30baa-652c-47ee-8053-f2bb2b43fb9f, 'Declaration SUBMITTED by EMPLOYEE'), (c5c9a9e8-4de6-4770-bc6f-6d9c1c5bd5ea, 'Declaration SAVED by EMPLOYEE'), (c7c82f5a-c143-45b9-82c3-f5d84b0eb054, 'Declaration REJECTED by ADMINISTRATION'), (e821eeb4-b9e3-42c3-9077-d7318ad1dfd4, 'Declaration REJECTED by EMPLOYEE'), (ec5f1b29-043d-4e8e-ab7d-ea9e2d8e666b, 'Declaration APPROVED by PRE_APPROVER'), (fa944e1f-84e1-4414-bc1d-eacba41ecd03, 'Payment Handled'), (init_loop_13, None), (init_loop_18, None), (init_loop_20, None), (init_loop_6, None), (skip_1, None), (skip_12, None), (skip_15, None), (skip_16, None), (skip_17, None), (skip_2, None), (skip_22, None), (skip_23, None), (skip_26, None), (skip_27, None), (skip_28, None), (skip_29, None), (skip_30, None), (skip_31, None), (skip_5, None), (skip_8, None), (skip_9, None), (tauJoin_11, None), (tauJoin_25, None), (tauJoin_4, None), (tauSplit_24, None), (tauSplit_3, None) ]\n",
      "arcs: [ (0839e3aa-fba3-4306-b248-dad8aba8edfd, 'Declaration FINAL_APPROVED by SUPERVISOR')->p_29, (096b1c96-a1f3-4c55-8125-b79f2dc816ee, 'Declaration REJECTED by BUDGET OWNER')->p_29, (2ed13a61-4dbf-4d9c-b92e-680fafe86c69, 'Declaration APPROVED by BUDGET OWNER')->p_30, (30af7b30-fb6c-4626-ab40-110ed78380c0, 'Declaration REJECTED by SUPERVISOR')->p_29, (3533726d-2c0d-4cd4-be93-6b49133e00f2, 'Request Payment')->p_18, (3b78a95a-d6fd-4228-aa36-69693a2d0df9, 'Declaration FOR_APPROVAL by SUPERVISOR')->p_18, (3d2b7a16-bbf5-4781-b583-dfa3e1f90c5c, 'Declaration REJECTED by MISSING')->p_15, (3d907219-011f-457b-88ba-321c0433fb77, 'Declaration FOR_APPROVAL by ADMINISTRATION')->p_23, (62b2bef5-bc4d-4828-acb8-f78c5bcc36cb, 'Declaration APPROVED by ADMINISTRATION')->p_27, (6fcc2e74-8e52-43df-a491-afe08a00b1a7, 'Declaration REJECTED by PRE_APPROVER')->p_21, (7ff0918e-1a8e-404a-8b22-6a8979849295, 'Declaration FOR_APPROVAL by PRE_APPROVER')->p_18, (82e30baa-652c-47ee-8053-f2bb2b43fb9f, 'Declaration SUBMITTED by EMPLOYEE')->p_24, (c5c9a9e8-4de6-4770-bc6f-6d9c1c5bd5ea, 'Declaration SAVED by EMPLOYEE')->p_3, (c7c82f5a-c143-45b9-82c3-f5d84b0eb054, 'Declaration REJECTED by ADMINISTRATION')->p_21, (e821eeb4-b9e3-42c3-9077-d7318ad1dfd4, 'Declaration REJECTED by EMPLOYEE')->p_7, (ec5f1b29-043d-4e8e-ab7d-ea9e2d8e666b, 'Declaration APPROVED by PRE_APPROVER')->p_30, (fa944e1f-84e1-4414-bc1d-eacba41ecd03, 'Payment Handled')->p_10, (init_loop_13, None)->p_14, (init_loop_18, None)->p_20, (init_loop_20, None)->p_23, (init_loop_6, None)->p_6, (skip_1, None)->p_3, (skip_12, None)->p_13, (skip_15, None)->p_14, (skip_16, None)->p_13, (skip_17, None)->p_19, (skip_2, None)->sink, (skip_22, None)->p_22, (skip_23, None)->p_21, (skip_26, None)->p_27, (skip_27, None)->p_30, (skip_28, None)->p_20, (skip_29, None)->p_19, (skip_30, None)->p_18, (skip_31, None)->p_10, (skip_5, None)->p_5, (skip_8, None)->p_6, (skip_9, None)->p_5, (tauJoin_11, None)->p_11, (tauJoin_25, None)->p_21, (tauJoin_4, None)->sink, (tauSplit_24, None)->p_26, (tauSplit_24, None)->p_28, (tauSplit_3, None)->p_12, (tauSplit_3, None)->p_17, (tauSplit_3, None)->p_4, p_10->(tauJoin_4, None), p_11->(fa944e1f-84e1-4414-bc1d-eacba41ecd03, 'Payment Handled'), p_11->(skip_31, None), p_12->(init_loop_13, None), p_12->(skip_12, None), p_13->(tauJoin_11, None), p_14->(3d2b7a16-bbf5-4781-b583-dfa3e1f90c5c, 'Declaration REJECTED by MISSING'), p_15->(skip_15, None), p_15->(skip_16, None), p_17->(init_loop_18, None), p_17->(skip_17, None), p_18->(tauJoin_11, None), p_19->(3533726d-2c0d-4cd4-be93-6b49133e00f2, 'Request Payment'), p_19->(3b78a95a-d6fd-4228-aa36-69693a2d0df9, 'Declaration FOR_APPROVAL by SUPERVISOR'), p_19->(7ff0918e-1a8e-404a-8b22-6a8979849295, 'Declaration FOR_APPROVAL by PRE_APPROVER'), p_19->(skip_30, None), p_20->(init_loop_20, None), p_21->(skip_28, None), p_21->(skip_29, None), p_22->(6fcc2e74-8e52-43df-a491-afe08a00b1a7, 'Declaration REJECTED by PRE_APPROVER'), p_22->(c7c82f5a-c143-45b9-82c3-f5d84b0eb054, 'Declaration REJECTED by ADMINISTRATION'), p_22->(skip_23, None), p_22->(tauSplit_24, None), p_23->(82e30baa-652c-47ee-8053-f2bb2b43fb9f, 'Declaration SUBMITTED by EMPLOYEE'), p_24->(3d907219-011f-457b-88ba-321c0433fb77, 'Declaration FOR_APPROVAL by ADMINISTRATION'), p_24->(skip_22, None), p_26->(62b2bef5-bc4d-4828-acb8-f78c5bcc36cb, 'Declaration APPROVED by ADMINISTRATION'), p_26->(skip_26, None), p_27->(tauJoin_25, None), p_28->(096b1c96-a1f3-4c55-8125-b79f2dc816ee, 'Declaration REJECTED by BUDGET OWNER'), p_28->(2ed13a61-4dbf-4d9c-b92e-680fafe86c69, 'Declaration APPROVED by BUDGET OWNER'), p_28->(ec5f1b29-043d-4e8e-ab7d-ea9e2d8e666b, 'Declaration APPROVED by PRE_APPROVER'), p_28->(skip_27, None), p_29->(tauJoin_25, None), p_3->(skip_2, None), p_3->(tauSplit_3, None), p_30->(0839e3aa-fba3-4306-b248-dad8aba8edfd, 'Declaration FINAL_APPROVED by SUPERVISOR'), p_30->(30af7b30-fb6c-4626-ab40-110ed78380c0, 'Declaration REJECTED by SUPERVISOR'), p_4->(init_loop_6, None), p_4->(skip_5, None), p_5->(tauJoin_4, None), p_6->(e821eeb4-b9e3-42c3-9077-d7318ad1dfd4, 'Declaration REJECTED by EMPLOYEE'), p_7->(skip_8, None), p_7->(skip_9, None), source->(c5c9a9e8-4de6-4770-bc6f-6d9c1c5bd5ea, 'Declaration SAVED by EMPLOYEE'), source->(skip_1, None) ]\n",
      "\n",
      "Petri net for Domestic - Non-Anomaly:\n",
      "places: [ p_11, p_12, p_13, p_14, p_15, p_16, p_17, p_3, p_4, p_5, p_8, p_9, sink, source ]\n",
      "transitions: [ (0386e1f6-40db-4a87-92a8-09a04a1ec911, 'Declaration APPROVED by ADMINISTRATION'), (3eebe7c6-eb63-47e5-8731-d0b08456e8fd, 'Declaration SUBMITTED by EMPLOYEE'), (7d5f7092-e0fb-4960-8cb3-24709629d339, 'Request Payment'), (9ba27317-000e-47eb-87f6-dbba6519c5eb, 'Declaration SAVED by EMPLOYEE'), (acae72f4-a65a-4a88-bdb7-a0f132c3585a, 'Declaration FINAL_APPROVED by SUPERVISOR'), (b0662b05-3d75-483f-84f2-51171538af36, 'Declaration REJECTED by EMPLOYEE'), (b67acee2-259f-424c-8c6c-d2dc14c91272, 'Payment Handled'), (c79e492c-360f-4344-b784-21912a18bb6c, 'Declaration APPROVED by BUDGET OWNER'), (f0337e68-ced0-4a62-b324-bfffd1a7cfc1, 'Declaration REJECTED by ADMINISTRATION'), (f11c2658-87ff-4923-a0d7-984fab792340, 'Declaration APPROVED by PRE_APPROVER'), (skip_10, None), (skip_11, None), (skip_12, None), (skip_7, None), (skip_9, None), (tauJoin_4, None), (tauSplit_3, None), (tau_1, None), (tau_2, None) ]\n",
      "arcs: [ (0386e1f6-40db-4a87-92a8-09a04a1ec911, 'Declaration APPROVED by ADMINISTRATION')->p_15, (3eebe7c6-eb63-47e5-8731-d0b08456e8fd, 'Declaration SUBMITTED by EMPLOYEE')->p_9, (7d5f7092-e0fb-4960-8cb3-24709629d339, 'Request Payment')->p_17, (9ba27317-000e-47eb-87f6-dbba6519c5eb, 'Declaration SAVED by EMPLOYEE')->p_4, (acae72f4-a65a-4a88-bdb7-a0f132c3585a, 'Declaration FINAL_APPROVED by SUPERVISOR')->p_16, (b0662b05-3d75-483f-84f2-51171538af36, 'Declaration REJECTED by EMPLOYEE')->p_12, (b67acee2-259f-424c-8c6c-d2dc14c91272, 'Payment Handled')->p_4, (c79e492c-360f-4344-b784-21912a18bb6c, 'Declaration APPROVED by BUDGET OWNER')->p_14, (f0337e68-ced0-4a62-b324-bfffd1a7cfc1, 'Declaration REJECTED by ADMINISTRATION')->p_13, (f11c2658-87ff-4923-a0d7-984fab792340, 'Declaration APPROVED by PRE_APPROVER')->p_14, (skip_10, None)->p_4, (skip_11, None)->p_14, (skip_12, None)->p_14, (skip_7, None)->p_8, (skip_9, None)->p_12, (tauJoin_4, None)->p_5, (tauSplit_3, None)->p_11, (tauSplit_3, None)->p_8, (tau_1, None)->p_3, (tau_2, None)->sink, p_11->(f0337e68-ced0-4a62-b324-bfffd1a7cfc1, 'Declaration REJECTED by ADMINISTRATION'), p_11->(skip_9, None), p_12->(tauJoin_4, None), p_13->(b0662b05-3d75-483f-84f2-51171538af36, 'Declaration REJECTED by EMPLOYEE'), p_14->(acae72f4-a65a-4a88-bdb7-a0f132c3585a, 'Declaration FINAL_APPROVED by SUPERVISOR'), p_15->(c79e492c-360f-4344-b784-21912a18bb6c, 'Declaration APPROVED by BUDGET OWNER'), p_15->(skip_12, None), p_16->(7d5f7092-e0fb-4960-8cb3-24709629d339, 'Request Payment'), p_17->(b67acee2-259f-424c-8c6c-d2dc14c91272, 'Payment Handled'), p_3->(9ba27317-000e-47eb-87f6-dbba6519c5eb, 'Declaration SAVED by EMPLOYEE'), p_3->(tauSplit_3, None), p_4->(tau_2, None), p_5->(0386e1f6-40db-4a87-92a8-09a04a1ec911, 'Declaration APPROVED by ADMINISTRATION'), p_5->(f11c2658-87ff-4923-a0d7-984fab792340, 'Declaration APPROVED by PRE_APPROVER'), p_5->(skip_10, None), p_5->(skip_11, None), p_8->(3eebe7c6-eb63-47e5-8731-d0b08456e8fd, 'Declaration SUBMITTED by EMPLOYEE'), p_9->(skip_7, None), p_9->(tauJoin_4, None), source->(tau_1, None) ]\n",
      "\n",
      "Petri net for International - Normal:\n",
      "places: [ p_10, p_100, p_101, p_102, p_103, p_105, p_106, p_107, p_108, p_109, p_11, p_110, p_111, p_112, p_113, p_114, p_115, p_118, p_119, p_12, p_120, p_121, p_14, p_15, p_16, p_17, p_18, p_19, p_20, p_23, p_24, p_25, p_26, p_27, p_28, p_30, p_31, p_32, p_33, p_34, p_35, p_36, p_37, p_38, p_41, p_42, p_43, p_44, p_45, p_46, p_49, p_5, p_50, p_51, p_52, p_53, p_54, p_58, p_59, p_6, p_62, p_63, p_65, p_66, p_67, p_68, p_7, p_72, p_73, p_75, p_76, p_77, p_78, p_79, p_8, p_81, p_82, p_83, p_85, p_86, p_9, p_90, p_91, p_92, p_93, p_94, p_95, p_96, p_97, p_98, p_99, sink, source ]\n",
      "transitions: [ (0719c6a0-2930-4f04-8ee5-8fcc831c015e, 'Permit APPROVED by SUPERVISOR'), (0fc8b7c1-034c-401e-ba95-5d598cefeedf, 'Permit REJECTED by DIRECTOR'), (1515d5aa-1a58-4ba1-8587-d417088e1e5c, 'Send Reminder'), (1e04e100-e042-4368-bc85-6c0c036e98b0, 'Permit REJECTED by BUDGET OWNER'), (235fdb12-d548-46ad-a7ee-1a7e90375755, 'Permit REJECTED by MISSING'), (42179bca-1505-49e4-bf2a-0c682ff8aacb, 'Permit APPROVED by PRE_APPROVER'), (46090d4f-7f31-4659-b261-02b094c2b1be, 'Permit SUBMITTED by EMPLOYEE'), (463f330a-9b31-47d5-85ef-3cf17e29d47d, 'Declaration FINAL_APPROVED by SUPERVISOR'), (4fee8fc7-ca94-42c7-af1b-4cedb6bb9d59, 'Declaration REJECTED by BUDGET OWNER'), (562adc1d-098b-4639-b287-fd9d7b5b0024, 'Permit REJECTED by EMPLOYEE'), (58d9e649-314f-4852-8f94-5218f0cf705a, 'Declaration SUBMITTED by EMPLOYEE'), (6247a5de-df2e-4c71-9993-4b4d2e99e8a3, 'Declaration APPROVED by SUPERVISOR'), (651842c3-901a-4978-868d-1d11bbe34c60, 'Declaration APPROVED by PRE_APPROVER'), (66e6dc94-775c-45fd-80b3-b098883aed44, 'Payment Handled'), (788cfe21-a567-40f5-80a7-30819c314b8b, 'Declaration REJECTED by DIRECTOR'), (88006943-0494-4352-a799-55c7db9fc296, 'Permit REJECTED by SUPERVISOR'), (915e8a4b-93f7-4bc5-971d-2bfe67b28848, 'Declaration REJECTED by ADMINISTRATION'), (988e75c5-6349-4ab1-990f-703b536687ab, 'Declaration REJECTED by PRE_APPROVER'), (9c7278cc-5e90-4819-b2df-1937759f46f1, 'Permit FINAL_APPROVED by DIRECTOR'), (a2d4146e-720f-49a9-9526-56f8bef7b73b, 'Start trip'), (aafa8d5e-b46c-4349-86d7-07262c095c17, 'Request Payment'), (b174554d-6440-4d7b-a1bd-c307525a11bd, 'Permit APPROVED by ADMINISTRATION'), (b99ca862-3c35-4ea2-9caf-b81be43beb6c, 'Declaration SAVED by EMPLOYEE'), (c7141f2a-6735-4005-b3ce-d7a069cf787f, 'Declaration APPROVED by BUDGET OWNER'), (cbf5b480-150c-454b-9933-fc6d3e70e39d, 'Declaration FINAL_APPROVED by DIRECTOR'), (d39b577e-36e7-487c-b479-9682f3b57fc7, 'Declaration REJECTED by MISSING'), (d46c1ae3-8063-4d6d-837c-4c6585dbc395, 'End trip'), (ea3df477-d70b-4cd1-b21f-bf58d18c4853, 'Permit REJECTED by PRE_APPROVER'), (f028012e-c7b8-46eb-a24f-652d13af20c2, 'Permit FINAL_APPROVED by SUPERVISOR'), (f250166a-3324-48c9-836e-6f4c6575a99e, 'Declaration REJECTED by SUPERVISOR'), (f68cc62e-8bfe-4acf-98ed-4ca3f2e69537, 'Permit REJECTED by ADMINISTRATION'), (f8681e07-0870-4b5e-8242-c156a87439c7, 'Permit APPROVED by BUDGET OWNER'), (f8d7416c-2bfe-4620-aaf8-04e3b6e3a29f, 'Declaration APPROVED by ADMINISTRATION'), (fc83e6c3-3109-4f77-9545-04eca82a8f1f, 'Declaration REJECTED by EMPLOYEE'), (init_loop_115, None), (init_loop_14, None), (init_loop_21, None), (init_loop_26, None), (init_loop_31, None), (init_loop_38, None), (init_loop_45, None), (init_loop_58, None), (init_loop_6, None), (init_loop_70, None), (init_loop_75, None), (init_loop_80, None), (init_loop_89, None), (init_loop_99, None), (skip_10, None), (skip_101, None), (skip_102, None), (skip_103, None), (skip_104, None), (skip_107, None), (skip_108, None), (skip_109, None), (skip_110, None), (skip_113, None), (skip_114, None), (skip_117, None), (skip_118, None), (skip_119, None), (skip_120, None), (skip_121, None), (skip_124, None), (skip_125, None), (skip_13, None), (skip_16, None), (skip_17, None), (skip_20, None), (skip_23, None), (skip_24, None), (skip_25, None), (skip_30, None), (skip_33, None), (skip_34, None), (skip_37, None), (skip_40, None), (skip_41, None), (skip_44, None), (skip_47, None), (skip_48, None), (skip_5, None), (skip_55, None), (skip_57, None), (skip_60, None), (skip_61, None), (skip_66, None), (skip_68, None), (skip_69, None), (skip_72, None), (skip_73, None), (skip_74, None), (skip_77, None), (skip_78, None), (skip_79, None), (skip_8, None), (skip_82, None), (skip_84, None), (skip_85, None), (skip_86, None), (skip_87, None), (skip_88, None), (skip_9, None), (skip_93, None), (skip_96, None), (skip_97, None), (skip_98, None), (tauJoin_106, None), (tauJoin_112, None), (tauJoin_12, None), (tauJoin_123, None), (tauJoin_19, None), (tauJoin_29, None), (tauJoin_36, None), (tauJoin_4, None), (tauJoin_43, None), (tauJoin_52, None), (tauJoin_63, None), (tauJoin_92, None), (tauJoin_95, None), (tauSplit_105, None), (tauSplit_11, None), (tauSplit_111, None), (tauSplit_122, None), (tauSplit_28, None), (tauSplit_51, None), (tauSplit_62, None), (tauSplit_91, None), (tauSplit_94, None), (tau_1, None) ]\n",
      "arcs: [ (0719c6a0-2930-4f04-8ee5-8fcc831c015e, 'Permit APPROVED by SUPERVISOR')->p_46, (0fc8b7c1-034c-401e-ba95-5d598cefeedf, 'Permit REJECTED by DIRECTOR')->p_85, (1515d5aa-1a58-4ba1-8587-d417088e1e5c, 'Send Reminder')->p_20, (1e04e100-e042-4368-bc85-6c0c036e98b0, 'Permit REJECTED by BUDGET OWNER')->p_79, (235fdb12-d548-46ad-a7ee-1a7e90375755, 'Permit REJECTED by MISSING')->p_12, (42179bca-1505-49e4-bf2a-0c682ff8aacb, 'Permit APPROVED by PRE_APPROVER')->p_38, (46090d4f-7f31-4659-b261-02b094c2b1be, 'Permit SUBMITTED by EMPLOYEE')->p_63, (463f330a-9b31-47d5-85ef-3cf17e29d47d, 'Declaration FINAL_APPROVED by SUPERVISOR')->p_109, (4fee8fc7-ca94-42c7-af1b-4cedb6bb9d59, 'Declaration REJECTED by BUDGET OWNER')->p_99, (562adc1d-098b-4639-b287-fd9d7b5b0024, 'Permit REJECTED by EMPLOYEE')->p_54, (58d9e649-314f-4852-8f94-5218f0cf705a, 'Declaration SUBMITTED by EMPLOYEE')->p_28, (6247a5de-df2e-4c71-9993-4b4d2e99e8a3, 'Declaration APPROVED by SUPERVISOR')->p_106, (651842c3-901a-4978-868d-1d11bbe34c60, 'Declaration APPROVED by PRE_APPROVER')->p_100, (66e6dc94-775c-45fd-80b3-b098883aed44, 'Payment Handled')->p_121, (788cfe21-a567-40f5-80a7-30819c314b8b, 'Declaration REJECTED by DIRECTOR')->p_108, (88006943-0494-4352-a799-55c7db9fc296, 'Permit REJECTED by SUPERVISOR')->p_58, (915e8a4b-93f7-4bc5-971d-2bfe67b28848, 'Declaration REJECTED by ADMINISTRATION')->p_103, (988e75c5-6349-4ab1-990f-703b536687ab, 'Declaration REJECTED by PRE_APPROVER')->p_95, (9c7278cc-5e90-4819-b2df-1937759f46f1, 'Permit FINAL_APPROVED by DIRECTOR')->p_49, (a2d4146e-720f-49a9-9526-56f8bef7b73b, 'Start trip')->p_6, (aafa8d5e-b46c-4349-86d7-07262c095c17, 'Request Payment')->p_119, (b174554d-6440-4d7b-a1bd-c307525a11bd, 'Permit APPROVED by ADMINISTRATION')->p_73, (b99ca862-3c35-4ea2-9caf-b81be43beb6c, 'Declaration SAVED by EMPLOYEE')->p_15, (c7141f2a-6735-4005-b3ce-d7a069cf787f, 'Declaration APPROVED by BUDGET OWNER')->p_100, (cbf5b480-150c-454b-9933-fc6d3e70e39d, 'Declaration FINAL_APPROVED by DIRECTOR')->p_115, (d39b577e-36e7-487c-b479-9682f3b57fc7, 'Declaration REJECTED by MISSING')->p_111, (d46c1ae3-8063-4d6d-837c-4c6585dbc395, 'End trip')->p_8, (ea3df477-d70b-4cd1-b21f-bf58d18c4853, 'Permit REJECTED by PRE_APPROVER')->p_68, (f028012e-c7b8-46eb-a24f-652d13af20c2, 'Permit FINAL_APPROVED by SUPERVISOR')->p_41, (f250166a-3324-48c9-836e-6f4c6575a99e, 'Declaration REJECTED by SUPERVISOR')->p_99, (f68cc62e-8bfe-4acf-98ed-4ca3f2e69537, 'Permit REJECTED by ADMINISTRATION')->p_83, (f8681e07-0870-4b5e-8242-c156a87439c7, 'Permit APPROVED by BUDGET OWNER')->p_86, (f8d7416c-2bfe-4620-aaf8-04e3b6e3a29f, 'Declaration APPROVED by ADMINISTRATION')->p_97, (fc83e6c3-3109-4f77-9545-04eca82a8f1f, 'Declaration REJECTED by EMPLOYEE')->p_93, (init_loop_115, None)->p_114, (init_loop_14, None)->p_19, (init_loop_21, None)->p_27, (init_loop_26, None)->p_33, (init_loop_31, None)->p_37, (init_loop_38, None)->p_45, (init_loop_45, None)->p_53, (init_loop_58, None)->p_67, (init_loop_6, None)->p_11, (init_loop_70, None)->p_78, (init_loop_75, None)->p_82, (init_loop_80, None)->p_85, (init_loop_89, None)->p_90, (init_loop_99, None)->p_102, (skip_10, None)->p_16, (skip_101, None)->p_102, (skip_102, None)->p_101, (skip_103, None)->p_100, (skip_104, None)->p_99, (skip_107, None)->p_106, (skip_108, None)->p_108, (skip_109, None)->p_109, (skip_110, None)->p_108, (skip_113, None)->p_111, (skip_114, None)->p_113, (skip_117, None)->p_114, (skip_118, None)->p_113, (skip_119, None)->p_90, (skip_120, None)->p_31, (skip_121, None)->p_23, (skip_124, None)->p_119, (skip_125, None)->p_15, (skip_13, None)->p_18, (skip_16, None)->p_19, (skip_17, None)->p_18, (skip_20, None)->p_26, (skip_23, None)->p_27, (skip_24, None)->p_26, (skip_25, None)->p_32, (skip_30, None)->p_36, (skip_33, None)->p_37, (skip_34, None)->p_36, (skip_37, None)->p_44, (skip_40, None)->p_45, (skip_41, None)->p_44, (skip_44, None)->p_52, (skip_47, None)->p_53, (skip_48, None)->p_52, (skip_5, None)->p_10, (skip_55, None)->p_62, (skip_57, None)->p_66, (skip_60, None)->p_67, (skip_61, None)->p_66, (skip_66, None)->p_72, (skip_68, None)->p_76, (skip_69, None)->p_77, (skip_72, None)->p_78, (skip_73, None)->p_77, (skip_74, None)->p_81, (skip_77, None)->p_82, (skip_78, None)->p_81, (skip_79, None)->p_76, (skip_8, None)->p_11, (skip_82, None)->p_76, (skip_84, None)->p_49, (skip_85, None)->p_41, (skip_86, None)->p_33, (skip_87, None)->p_32, (skip_88, None)->p_31, (skip_9, None)->p_10, (skip_93, None)->p_93, (skip_96, None)->p_97, (skip_97, None)->p_100, (skip_98, None)->p_101, (tauJoin_106, None)->p_99, (tauJoin_112, None)->p_108, (tauJoin_12, None)->p_16, (tauJoin_123, None)->p_23, (tauJoin_19, None)->p_24, (tauJoin_29, None)->p_34, (tauJoin_36, None)->p_42, (tauJoin_4, None)->sink, (tauJoin_43, None)->p_50, (tauJoin_52, None)->p_59, (tauJoin_63, None)->p_66, (tauJoin_92, None)->p_91, (tauJoin_95, None)->p_95, (tauSplit_105, None)->p_105, (tauSplit_105, None)->p_107, (tauSplit_11, None)->p_17, (tauSplit_11, None)->p_25, (tauSplit_11, None)->p_30, (tauSplit_111, None)->p_110, (tauSplit_111, None)->p_112, (tauSplit_122, None)->p_118, (tauSplit_122, None)->p_120, (tauSplit_28, None)->p_35, (tauSplit_28, None)->p_43, (tauSplit_28, None)->p_51, (tauSplit_28, None)->p_58, (tauSplit_51, None)->p_62, (tauSplit_51, None)->p_65, (tauSplit_62, None)->p_72, (tauSplit_62, None)->p_75, (tauSplit_91, None)->p_92, (tauSplit_91, None)->p_94, (tauSplit_94, None)->p_96, (tauSplit_94, None)->p_98, (tau_1, None)->p_14, (tau_1, None)->p_5, (tau_1, None)->p_7, (tau_1, None)->p_9, p_10->(tauJoin_4, None), p_100->(f250166a-3324-48c9-836e-6f4c6575a99e, 'Declaration REJECTED by SUPERVISOR'), p_100->(skip_104, None), p_100->(tauSplit_105, None), p_101->(c7141f2a-6735-4005-b3ce-d7a069cf787f, 'Declaration APPROVED by BUDGET OWNER'), p_101->(skip_103, None), p_102->(915e8a4b-93f7-4bc5-971d-2bfe67b28848, 'Declaration REJECTED by ADMINISTRATION'), p_103->(skip_101, None), p_103->(skip_102, None), p_105->(6247a5de-df2e-4c71-9993-4b4d2e99e8a3, 'Declaration APPROVED by SUPERVISOR'), p_105->(skip_107, None), p_106->(tauJoin_106, None), p_107->(463f330a-9b31-47d5-85ef-3cf17e29d47d, 'Declaration FINAL_APPROVED by SUPERVISOR'), p_107->(788cfe21-a567-40f5-80a7-30819c314b8b, 'Declaration REJECTED by DIRECTOR'), p_107->(skip_108, None), p_107->(skip_109, None), p_108->(tauJoin_106, None), p_109->(skip_110, None), p_109->(tauSplit_111, None), p_11->(235fdb12-d548-46ad-a7ee-1a7e90375755, 'Permit REJECTED by MISSING'), p_110->(d39b577e-36e7-487c-b479-9682f3b57fc7, 'Declaration REJECTED by MISSING'), p_110->(skip_113, None), p_111->(tauJoin_112, None), p_112->(init_loop_115, None), p_112->(skip_114, None), p_113->(tauJoin_112, None), p_114->(cbf5b480-150c-454b-9933-fc6d3e70e39d, 'Declaration FINAL_APPROVED by DIRECTOR'), p_115->(skip_117, None), p_115->(skip_118, None), p_118->(aafa8d5e-b46c-4349-86d7-07262c095c17, 'Request Payment'), p_118->(skip_124, None), p_119->(tauJoin_123, None), p_12->(skip_8, None), p_12->(skip_9, None), p_120->(66e6dc94-775c-45fd-80b3-b098883aed44, 'Payment Handled'), p_121->(tauJoin_123, None), p_14->(skip_10, None), p_14->(tauSplit_11, None), p_15->(tauJoin_4, None), p_16->(b99ca862-3c35-4ea2-9caf-b81be43beb6c, 'Declaration SAVED by EMPLOYEE'), p_16->(skip_125, None), p_17->(init_loop_14, None), p_17->(skip_13, None), p_18->(tauJoin_12, None), p_19->(1515d5aa-1a58-4ba1-8587-d417088e1e5c, 'Send Reminder'), p_20->(skip_16, None), p_20->(skip_17, None), p_23->(tauJoin_12, None), p_24->(skip_121, None), p_24->(tauSplit_122, None), p_25->(init_loop_21, None), p_25->(skip_20, None), p_26->(tauJoin_19, None), p_27->(58d9e649-314f-4852-8f94-5218f0cf705a, 'Declaration SUBMITTED by EMPLOYEE'), p_28->(skip_23, None), p_28->(skip_24, None), p_30->(init_loop_26, None), p_30->(skip_25, None), p_31->(tauJoin_19, None), p_32->(init_loop_89, None), p_32->(skip_88, None), p_33->(tauSplit_28, None), p_34->(skip_86, None), p_34->(skip_87, None), p_35->(init_loop_31, None), p_35->(skip_30, None), p_36->(tauJoin_29, None), p_37->(42179bca-1505-49e4-bf2a-0c682ff8aacb, 'Permit APPROVED by PRE_APPROVER'), p_38->(skip_33, None), p_38->(skip_34, None), p_41->(tauJoin_29, None), p_42->(f028012e-c7b8-46eb-a24f-652d13af20c2, 'Permit FINAL_APPROVED by SUPERVISOR'), p_42->(skip_85, None), p_43->(init_loop_38, None), p_43->(skip_37, None), p_44->(tauJoin_36, None), p_45->(0719c6a0-2930-4f04-8ee5-8fcc831c015e, 'Permit APPROVED by SUPERVISOR'), p_46->(skip_40, None), p_46->(skip_41, None), p_49->(tauJoin_36, None), p_5->(a2d4146e-720f-49a9-9526-56f8bef7b73b, 'Start trip'), p_50->(9c7278cc-5e90-4819-b2df-1937759f46f1, 'Permit FINAL_APPROVED by DIRECTOR'), p_50->(skip_84, None), p_51->(init_loop_45, None), p_51->(skip_44, None), p_52->(tauJoin_43, None), p_53->(562adc1d-098b-4639-b287-fd9d7b5b0024, 'Permit REJECTED by EMPLOYEE'), p_54->(skip_47, None), p_54->(skip_48, None), p_58->(tauSplit_51, None), p_59->(88006943-0494-4352-a799-55c7db9fc296, 'Permit REJECTED by SUPERVISOR'), p_59->(tauJoin_43, None), p_6->(tauJoin_4, None), p_62->(46090d4f-7f31-4659-b261-02b094c2b1be, 'Permit SUBMITTED by EMPLOYEE'), p_63->(skip_55, None), p_63->(tauJoin_52, None), p_65->(init_loop_58, None), p_65->(skip_57, None), p_65->(tauSplit_62, None), p_66->(tauJoin_52, None), p_67->(ea3df477-d70b-4cd1-b21f-bf58d18c4853, 'Permit REJECTED by PRE_APPROVER'), p_68->(skip_60, None), p_68->(skip_61, None), p_7->(d46c1ae3-8063-4d6d-837c-4c6585dbc395, 'End trip'), p_72->(b174554d-6440-4d7b-a1bd-c307525a11bd, 'Permit APPROVED by ADMINISTRATION'), p_73->(skip_66, None), p_73->(tauJoin_63, None), p_75->(init_loop_70, None), p_75->(skip_68, None), p_75->(skip_69, None), p_76->(tauJoin_63, None), p_77->(init_loop_75, None), p_77->(skip_74, None), p_78->(1e04e100-e042-4368-bc85-6c0c036e98b0, 'Permit REJECTED by BUDGET OWNER'), p_79->(skip_72, None), p_79->(skip_73, None), p_8->(tauJoin_4, None), p_81->(init_loop_80, None), p_81->(skip_79, None), p_82->(f68cc62e-8bfe-4acf-98ed-4ca3f2e69537, 'Permit REJECTED by ADMINISTRATION'), p_83->(skip_77, None), p_83->(skip_78, None), p_85->(f8681e07-0870-4b5e-8242-c156a87439c7, 'Permit APPROVED by BUDGET OWNER'), p_86->(0fc8b7c1-034c-401e-ba95-5d598cefeedf, 'Permit REJECTED by DIRECTOR'), p_86->(skip_82, None), p_9->(init_loop_6, None), p_9->(skip_5, None), p_90->(tauSplit_91, None), p_91->(skip_119, None), p_91->(skip_120, None), p_92->(fc83e6c3-3109-4f77-9545-04eca82a8f1f, 'Declaration REJECTED by EMPLOYEE'), p_92->(skip_93, None), p_93->(tauJoin_92, None), p_94->(988e75c5-6349-4ab1-990f-703b536687ab, 'Declaration REJECTED by PRE_APPROVER'), p_94->(tauSplit_94, None), p_95->(tauJoin_92, None), p_96->(f8d7416c-2bfe-4620-aaf8-04e3b6e3a29f, 'Declaration APPROVED by ADMINISTRATION'), p_96->(skip_96, None), p_97->(tauJoin_95, None), p_98->(4fee8fc7-ca94-42c7-af1b-4cedb6bb9d59, 'Declaration REJECTED by BUDGET OWNER'), p_98->(651842c3-901a-4978-868d-1d11bbe34c60, 'Declaration APPROVED by PRE_APPROVER'), p_98->(init_loop_99, None), p_98->(skip_97, None), p_98->(skip_98, None), p_99->(tauJoin_95, None), source->(tau_1, None) ]\n",
      "\n",
      "Petri net for International - Non-Anomaly:\n",
      "places: [ p_10, p_11, p_12, p_14, p_15, p_16, p_17, p_18, p_19, p_20, p_22, p_23, p_24, p_25, p_26, p_27, p_28, p_29, p_30, p_31, p_33, p_34, p_5, p_6, p_7, p_8, p_9, sink, source ]\n",
      "transitions: [ (0bcae38c-f1b1-421b-8a06-dc6ec057af88, 'Declaration REJECTED by EMPLOYEE'), (308a8938-fce7-43ec-8a18-f2ee80e69ed7, 'Declaration REJECTED by ADMINISTRATION'), (3a2c1983-4b12-442e-aaa2-8b3205b347dc, 'Payment Handled'), (4919e210-bea4-4dee-95f6-60c3066b34b4, 'Declaration FINAL_APPROVED by SUPERVISOR'), (4e290c6a-6b3a-4b81-b443-866c19ca179a, 'Permit FINAL_APPROVED by SUPERVISOR'), (7b53efc6-bc45-4426-b5ef-bf37d81b1e40, 'Permit APPROVED by SUPERVISOR'), (8325de74-6608-4624-9d09-1120fde1604b, 'Send Reminder'), (9026ecdc-337b-4145-afc9-644c0c129df2, 'Declaration SUBMITTED by EMPLOYEE'), (a5c1f21c-79d1-493b-8746-f22cda1b1541, 'Declaration APPROVED by ADMINISTRATION'), (ae3eec59-600a-4acb-b40c-ce11255c66ed, 'End trip'), (baa78c9c-8a1f-4508-a771-0e34435ab258, 'Start trip'), (bbf25195-420f-47ac-9025-5902c7554987, 'Declaration APPROVED by PRE_APPROVER'), (bfd495f1-7754-4e67-bd49-5d33cf6f9a05, 'Permit FINAL_APPROVED by DIRECTOR'), (d3cdeeb8-f903-49cd-9fe6-2c990e4aca35, 'Permit APPROVED by BUDGET OWNER'), (db9e5a47-7c2b-4ebf-a054-c8511f38209e, 'Permit SUBMITTED by EMPLOYEE'), (e5122855-62b1-4ae7-9b8a-5a3aea5cb031, 'Permit APPROVED by ADMINISTRATION'), (e7d69b31-3a00-46ed-9386-ef94a3627f19, 'Permit APPROVED by PRE_APPROVER'), (ef5aefcc-55aa-43ac-93f6-af000b42b433, 'Declaration APPROVED by BUDGET OWNER'), (f33b4ab7-8ba7-41ed-b18b-fe003b634c9c, 'Request Payment'), (init_loop_13, None), (skip_10, None), (skip_11, None), (skip_12, None), (skip_15, None), (skip_16, None), (skip_17, None), (skip_18, None), (skip_7, None), (tauJoin_4, None), (tauJoin_6, None), (tauJoin_9, None), (tau_1, None) ]\n",
      "arcs: [ (0bcae38c-f1b1-421b-8a06-dc6ec057af88, 'Declaration REJECTED by EMPLOYEE')->p_30, (308a8938-fce7-43ec-8a18-f2ee80e69ed7, 'Declaration REJECTED by ADMINISTRATION')->p_33, (3a2c1983-4b12-442e-aaa2-8b3205b347dc, 'Payment Handled')->p_12, (4919e210-bea4-4dee-95f6-60c3066b34b4, 'Declaration FINAL_APPROVED by SUPERVISOR')->p_8, (4e290c6a-6b3a-4b81-b443-866c19ca179a, 'Permit FINAL_APPROVED by SUPERVISOR')->p_28, (7b53efc6-bc45-4426-b5ef-bf37d81b1e40, 'Permit APPROVED by SUPERVISOR')->p_26, (8325de74-6608-4624-9d09-1120fde1604b, 'Send Reminder')->p_25, (9026ecdc-337b-4145-afc9-644c0c129df2, 'Declaration SUBMITTED by EMPLOYEE')->p_31, (a5c1f21c-79d1-493b-8746-f22cda1b1541, 'Declaration APPROVED by ADMINISTRATION')->p_34, (ae3eec59-600a-4acb-b40c-ce11255c66ed, 'End trip')->p_10, (baa78c9c-8a1f-4508-a771-0e34435ab258, 'Start trip')->p_17, (bbf25195-420f-47ac-9025-5902c7554987, 'Declaration APPROVED by PRE_APPROVER')->p_14, (bfd495f1-7754-4e67-bd49-5d33cf6f9a05, 'Permit FINAL_APPROVED by DIRECTOR')->p_25, (d3cdeeb8-f903-49cd-9fe6-2c990e4aca35, 'Permit APPROVED by BUDGET OWNER')->p_27, (db9e5a47-7c2b-4ebf-a054-c8511f38209e, 'Permit SUBMITTED by EMPLOYEE')->p_22, (db9e5a47-7c2b-4ebf-a054-c8511f38209e, 'Permit SUBMITTED by EMPLOYEE')->p_24, (e5122855-62b1-4ae7-9b8a-5a3aea5cb031, 'Permit APPROVED by ADMINISTRATION')->p_23, (e7d69b31-3a00-46ed-9386-ef94a3627f19, 'Permit APPROVED by PRE_APPROVER')->p_27, (ef5aefcc-55aa-43ac-93f6-af000b42b433, 'Declaration APPROVED by BUDGET OWNER')->p_19, (f33b4ab7-8ba7-41ed-b18b-fe003b634c9c, 'Request Payment')->p_6, (init_loop_13, None)->p_30, (skip_10, None)->p_23, (skip_11, None)->p_27, (skip_12, None)->p_25, (skip_15, None)->p_29, (skip_16, None)->p_19, (skip_17, None)->p_19, (skip_18, None)->p_14, (skip_7, None)->p_20, (tauJoin_4, None)->sink, (tauJoin_6, None)->p_15, (tauJoin_9, None)->p_20, (tau_1, None)->p_11, (tau_1, None)->p_16, (tau_1, None)->p_18, (tau_1, None)->p_5, (tau_1, None)->p_7, (tau_1, None)->p_9, p_10->(tauJoin_4, None), p_11->(3a2c1983-4b12-442e-aaa2-8b3205b347dc, 'Payment Handled'), p_12->(tauJoin_4, None), p_14->(tauJoin_4, None), p_15->(bbf25195-420f-47ac-9025-5902c7554987, 'Declaration APPROVED by PRE_APPROVER'), p_15->(skip_18, None), p_16->(baa78c9c-8a1f-4508-a771-0e34435ab258, 'Start trip'), p_17->(tauJoin_6, None), p_18->(db9e5a47-7c2b-4ebf-a054-c8511f38209e, 'Permit SUBMITTED by EMPLOYEE'), p_18->(skip_7, None), p_19->(tauJoin_6, None), p_20->(init_loop_13, None), p_22->(e5122855-62b1-4ae7-9b8a-5a3aea5cb031, 'Permit APPROVED by ADMINISTRATION'), p_22->(skip_10, None), p_23->(tauJoin_9, None), p_24->(7b53efc6-bc45-4426-b5ef-bf37d81b1e40, 'Permit APPROVED by SUPERVISOR'), p_24->(d3cdeeb8-f903-49cd-9fe6-2c990e4aca35, 'Permit APPROVED by BUDGET OWNER'), p_24->(e7d69b31-3a00-46ed-9386-ef94a3627f19, 'Permit APPROVED by PRE_APPROVER'), p_24->(skip_11, None), p_25->(tauJoin_9, None), p_26->(bfd495f1-7754-4e67-bd49-5d33cf6f9a05, 'Permit FINAL_APPROVED by DIRECTOR'), p_27->(4e290c6a-6b3a-4b81-b443-866c19ca179a, 'Permit FINAL_APPROVED by SUPERVISOR'), p_28->(8325de74-6608-4624-9d09-1120fde1604b, 'Send Reminder'), p_28->(skip_12, None), p_29->(a5c1f21c-79d1-493b-8746-f22cda1b1541, 'Declaration APPROVED by ADMINISTRATION'), p_29->(skip_16, None), p_30->(9026ecdc-337b-4145-afc9-644c0c129df2, 'Declaration SUBMITTED by EMPLOYEE'), p_31->(308a8938-fce7-43ec-8a18-f2ee80e69ed7, 'Declaration REJECTED by ADMINISTRATION'), p_31->(skip_15, None), p_33->(0bcae38c-f1b1-421b-8a06-dc6ec057af88, 'Declaration REJECTED by EMPLOYEE'), p_34->(ef5aefcc-55aa-43ac-93f6-af000b42b433, 'Declaration APPROVED by BUDGET OWNER'), p_34->(skip_17, None), p_5->(f33b4ab7-8ba7-41ed-b18b-fe003b634c9c, 'Request Payment'), p_6->(tauJoin_4, None), p_7->(4919e210-bea4-4dee-95f6-60c3066b34b4, 'Declaration FINAL_APPROVED by SUPERVISOR'), p_8->(tauJoin_4, None), p_9->(ae3eec59-600a-4acb-b40c-ce11255c66ed, 'End trip'), source->(tau_1, None) ]\n"
     ]
    }
   ],
   "source": [
    "import pm4py\n",
    "\n",
    "# Load the logs\n",
    "log_domestic = pm4py.read_xes('Data/DomesticDeclarations.xes')\n",
    "log_international = pm4py.read_xes('Data/InternationalDeclarations.xes')\n",
    "\n",
    "log_domestic_nonanomaly = pm4py.read_xes(\"Data/nonanomaly_DomesticDeclarations.xes\")\n",
    "log_international_nonanomaly = pm4py.read_xes(\"Data/nonanomaly_InternationalDeclarations.xes\")\n",
    "\n",
    "# Discover Petri net for Domestic - Normal\n",
    "dom_petri_net, dom_initial_marking, dom_final_marking = pm4py.discover_petri_net_inductive(log_domestic)\n",
    "\n",
    "# Discover Petri net for Domestic - Non-Anomaly\n",
    "dom_petri_net_non_a, dom_initial_marking_non_a, dom_final_marking_non_a = pm4py.discover_petri_net_inductive(log_domestic_nonanomaly)\n",
    "\n",
    "# Discover Petri net for International - Normal\n",
    "int_petri_net, int_initial_marking, int_final_marking = pm4py.discover_petri_net_inductive(log_international)\n",
    "\n",
    "# Discover Petri net for International - Non-Anomaly\n",
    "int_petri_net_non_a, int_initial_marking_non_a, int_final_marking_non_a = pm4py.discover_petri_net_inductive(log_international_nonanomaly)\n",
    "\n",
    "# Displaying the results for clarity\n",
    "print(\"Petri net for Domestic - Normal:\")\n",
    "print(dom_petri_net)\n",
    "\n",
    "print(\"\\nPetri net for Domestic - Non-Anomaly:\")\n",
    "print(dom_petri_net_non_a)\n",
    "\n",
    "print(\"\\nPetri net for International - Normal:\")\n",
    "print(int_petri_net)\n",
    "\n",
    "print(\"\\nPetri net for International - Non-Anomaly:\")\n",
    "print(int_petri_net_non_a)\n"
   ]
  },
  {
   "cell_type": "markdown",
   "metadata": {},
   "source": [
    "# Process Conformance"
   ]
  },
  {
   "cell_type": "markdown",
   "metadata": {},
   "source": [
    "## Fitness"
   ]
  },
  {
   "cell_type": "markdown",
   "metadata": {},
   "source": [
    "### Token-based Replay Fitness"
   ]
  },
  {
   "cell_type": "code",
   "execution_count": null,
   "metadata": {},
   "outputs": [
    {
     "data": {
      "application/vnd.jupyter.widget-view+json": {
       "model_id": "95aa872849de474b86bd7ca0c029022e",
       "version_major": 2,
       "version_minor": 0
      },
      "text/plain": [
       "replaying log with TBR, completed traces ::   0%|          | 0/99 [00:00<?, ?it/s]"
      ]
     },
     "metadata": {},
     "output_type": "display_data"
    },
    {
     "data": {
      "application/vnd.jupyter.widget-view+json": {
       "model_id": "e000b2d992004d108f2fc954162d2669",
       "version_major": 2,
       "version_minor": 0
      },
      "text/plain": [
       "replaying log with TBR, completed traces ::   0%|          | 0/8 [00:00<?, ?it/s]"
      ]
     },
     "metadata": {},
     "output_type": "display_data"
    },
    {
     "data": {
      "application/vnd.jupyter.widget-view+json": {
       "model_id": "5f09184eed2b49aea884c88a38c6f60e",
       "version_major": 2,
       "version_minor": 0
      },
      "text/plain": [
       "replaying log with TBR, completed traces ::   0%|          | 0/753 [00:00<?, ?it/s]"
      ]
     },
     "metadata": {},
     "output_type": "display_data"
    },
    {
     "data": {
      "application/vnd.jupyter.widget-view+json": {
       "model_id": "39dd42f5722c4843bf1a2a163fd86dd6",
       "version_major": 2,
       "version_minor": 0
      },
      "text/plain": [
       "replaying log with TBR, completed traces ::   0%|          | 0/13 [00:00<?, ?it/s]"
      ]
     },
     "metadata": {},
     "output_type": "display_data"
    },
    {
     "name": "stdout",
     "output_type": "stream",
     "text": [
      "Token-based Replay Fitness for Domestic - Normal:\n",
      "{'perc_fit_traces': 100.0, 'average_trace_fitness': 1.0, 'log_fitness': 1.0, 'percentage_of_fitting_traces': 100.0}\n",
      "\n",
      "Token-based Replay Fitness for Domestic - Non-Anomaly:\n",
      "{'perc_fit_traces': 100.0, 'average_trace_fitness': 1.0, 'log_fitness': 1.0, 'percentage_of_fitting_traces': 100.0}\n",
      "\n",
      "Token-based Replay Fitness for International - Normal:\n",
      "{'perc_fit_traces': 6.946813459451078, 'average_trace_fitness': 0.971365449043232, 'log_fitness': 0.9707533277618512, 'percentage_of_fitting_traces': 6.946813459451078}\n",
      "\n",
      "Token-based Replay Fitness for International - Non-Anomaly:\n",
      "{'perc_fit_traces': 100.0, 'average_trace_fitness': 1.0, 'log_fitness': 1.0, 'percentage_of_fitting_traces': 100.0}\n"
     ]
    }
   ],
   "source": [
    "import pm4py\n",
    "\n",
    "# Token-based Replay Fitness for Domestic - Normal\n",
    "fitness_domestic_normal = pm4py.fitness_token_based_replay(\n",
    "    log_domestic, \n",
    "    dom_petri_net, \n",
    "    dom_initial_marking, \n",
    "    dom_final_marking\n",
    ")\n",
    "\n",
    "# Token-based Replay Fitness for Domestic - Non-Anomaly\n",
    "fitness_domestic_nonanomaly = pm4py.fitness_token_based_replay(\n",
    "    log_domestic_nonanomaly, \n",
    "    dom_petri_net_non_a, \n",
    "    dom_initial_marking_non_a, \n",
    "    dom_final_marking_non_a\n",
    ")\n",
    "\n",
    "# Token-based Replay Fitness for International - Normal\n",
    "fitness_international_normal = pm4py.fitness_token_based_replay(\n",
    "    log_international, \n",
    "    int_petri_net, \n",
    "    int_initial_marking, \n",
    "    int_final_marking\n",
    ")\n",
    "\n",
    "# Token-based Replay Fitness for International - Non-Anomaly\n",
    "fitness_international_nonanomaly = pm4py.fitness_token_based_replay(\n",
    "    log_international_nonanomaly, \n",
    "    int_petri_net_non_a, \n",
    "    int_initial_marking_non_a, \n",
    "    int_final_marking_non_a\n",
    ")\n",
    "\n",
    "# Displaying the fitness results\n",
    "print(\"Token-based Replay Fitness for Domestic - Normal:\")\n",
    "print(fitness_domestic_normal)\n",
    "\n",
    "print(\"\\nToken-based Replay Fitness for Domestic - Non-Anomaly:\")\n",
    "print(fitness_domestic_nonanomaly)\n",
    "\n",
    "print(\"\\nToken-based Replay Fitness for International - Normal:\")\n",
    "print(fitness_international_normal)\n",
    "\n",
    "print(\"\\nToken-based Replay Fitness for International - Non-Anomaly:\")\n",
    "print(fitness_international_nonanomaly)\n"
   ]
  },
  {
   "cell_type": "markdown",
   "metadata": {},
   "source": [
    "- **Domestic - Normal**: \n",
    "  - Alle Prozessvarianten passen perfekt zum Modell. Der Fitness-Wert von 1.0 für alle Metriken zeigt, dass das Modell den realen Prozess vollständig repräsentiert. Es gibt keine Anomalien oder Abweichungen in den Daten.\n",
    "\n",
    "- **Domestic - Non-Anomaly**:\n",
    "  - Auch nach dem Entfernen der seltenen Varianten (weniger als 1% der Gesamttraces) bleibt die Fitness perfekt. Dies zeigt, dass die Anomalien keinen Einfluss auf die allgemeine Prozessstruktur hatten.\n",
    "\n",
    "- **International - Normal**:\n",
    "  - Nur etwa 6.95% der Traces passen vollständig zum Modell. Der durchschnittliche Trace-Fitness-Wert von 0.971 zeigt jedoch, dass die meisten Traces dem Modell recht nahe kommen, aber es gibt signifikante Abweichungen oder Varianten, die nicht gut durch das Modell erfasst werden.\n",
    "\n",
    "- **International - Non-Anomaly**:\n",
    "  - Nach dem Entfernen der seltenen Varianten passen alle verbleibenden Traces perfekt zum Modell. Dies deutet darauf hin, dass die Anomalien hauptsächlich für die Abweichungen im normalen Datensatz verantwortlich waren."
   ]
  },
  {
   "cell_type": "markdown",
   "metadata": {},
   "source": [
    "### Alignment-based Fitness"
   ]
  },
  {
   "cell_type": "code",
   "execution_count": null,
   "metadata": {},
   "outputs": [
    {
     "data": {
      "application/vnd.jupyter.widget-view+json": {
       "model_id": "206615da9071428698dc753a8b669b18",
       "version_major": 2,
       "version_minor": 0
      },
      "text/plain": [
       "aligning log, completed variants ::   0%|          | 0/99 [00:00<?, ?it/s]"
      ]
     },
     "metadata": {},
     "output_type": "display_data"
    },
    {
     "data": {
      "application/vnd.jupyter.widget-view+json": {
       "model_id": "4bceb7f1c52848fa9a8f750b686cc3a5",
       "version_major": 2,
       "version_minor": 0
      },
      "text/plain": [
       "aligning log, completed variants ::   0%|          | 0/8 [00:00<?, ?it/s]"
      ]
     },
     "metadata": {},
     "output_type": "display_data"
    },
    {
     "data": {
      "application/vnd.jupyter.widget-view+json": {
       "model_id": "0956333c40e9412691a3d12682c9f578",
       "version_major": 2,
       "version_minor": 0
      },
      "text/plain": [
       "aligning log, completed variants ::   0%|          | 0/753 [00:00<?, ?it/s]"
      ]
     },
     "metadata": {},
     "output_type": "display_data"
    },
    {
     "data": {
      "application/vnd.jupyter.widget-view+json": {
       "model_id": "2656782e1fc74f05be9e0e446fc4fa1b",
       "version_major": 2,
       "version_minor": 0
      },
      "text/plain": [
       "aligning log, completed variants ::   0%|          | 0/13 [00:00<?, ?it/s]"
      ]
     },
     "metadata": {},
     "output_type": "display_data"
    },
    {
     "name": "stdout",
     "output_type": "stream",
     "text": [
      "Alignment-based Fitness for Domestic - Normal:\n",
      "{'percFitTraces': 100.0, 'averageFitness': 1.0, 'percentage_of_fitting_traces': 100.0, 'average_trace_fitness': 1.0, 'log_fitness': 0.9997527210745741}\n",
      "\n",
      "Alignment-based Fitness for Domestic - Non-Anomaly:\n",
      "{'percFitTraces': 100.0, 'averageFitness': 1.0, 'percentage_of_fitting_traces': 100.0, 'average_trace_fitness': 1.0, 'log_fitness': 0.9999096643560642}\n",
      "\n",
      "Alignment-based Fitness for International - Normal:\n",
      "{'percFitTraces': 100.0, 'averageFitness': 1.0, 'percentage_of_fitting_traces': 100.0, 'average_trace_fitness': 1.0, 'log_fitness': 0.9996963994751248}\n",
      "\n",
      "Alignment-based Fitness for International - Non-Anomaly:\n",
      "{'percFitTraces': 100.0, 'averageFitness': 1.0, 'percentage_of_fitting_traces': 100.0, 'average_trace_fitness': 1.0, 'log_fitness': 0.9999430903417306}\n"
     ]
    }
   ],
   "source": [
    "import pm4py\n",
    "\n",
    "# Alignment-based Fitness for Domestic - Normal\n",
    "alignment_domestic_normal = pm4py.fitness_alignments(\n",
    "    log_domestic, \n",
    "    dom_petri_net, \n",
    "    dom_initial_marking, \n",
    "    dom_final_marking,\n",
    "    multi_processing=True\n",
    ")\n",
    "\n",
    "# Alignment-based Fitness for Domestic - Non-Anomaly\n",
    "alignment_domestic_nonanomaly = pm4py.fitness_alignments(\n",
    "    log_domestic_nonanomaly, \n",
    "    dom_petri_net_non_a, \n",
    "    dom_initial_marking_non_a, \n",
    "    dom_final_marking_non_a,\n",
    "    multi_processing=True\n",
    ")\n",
    "\n",
    "# Alignment-based Fitness for International - Normal\n",
    "alignment_international_normal = pm4py.fitness_alignments(\n",
    "    log_international, \n",
    "    int_petri_net, \n",
    "    int_initial_marking, \n",
    "    int_final_marking,\n",
    "    multi_processing=True\n",
    ")\n",
    "\n",
    "# Alignment-based Fitness for International - Non-Anomaly\n",
    "alignment_international_nonanomaly = pm4py.fitness_alignments(\n",
    "    log_international_nonanomaly, \n",
    "    int_petri_net_non_a, \n",
    "    int_initial_marking_non_a, \n",
    "    int_final_marking_non_a,\n",
    "    multi_processing=True\n",
    ")\n",
    "\n",
    "# Displaying the fitness results\n",
    "print(\"Alignment-based Fitness for Domestic - Normal:\")\n",
    "print(alignment_domestic_normal)\n",
    "\n",
    "print(\"\\nAlignment-based Fitness for Domestic - Non-Anomaly:\")\n",
    "print(alignment_domestic_nonanomaly)\n",
    "\n",
    "print(\"\\nAlignment-based Fitness for International - Normal:\")\n",
    "print(alignment_international_normal)\n",
    "\n",
    "print(\"\\nAlignment-based Fitness for International - Non-Anomaly:\")\n",
    "print(alignment_international_nonanomaly)\n"
   ]
  },
  {
   "cell_type": "markdown",
   "metadata": {},
   "source": [
    "- **Domestic - Normal**:\n",
    "  - Das Modell repräsentiert den realen Prozess fast perfekt, wobei alle Traces vollständig zum Modell passen. Der Log-Fitness-Wert von 0.99975 zeigt, dass es nur minimale Abweichungen gibt, die jedoch vernachlässigbar sind.\n",
    "\n",
    "- **Domestic - Non-Anomaly**:\n",
    "  - Nach dem Entfernen der seltenen Varianten zeigt das Modell eine nahezu perfekte Übereinstimmung mit den verbleibenden Daten, was durch den leicht verbesserten Log-Fitness-Wert von 0.99991 bestätigt wird.\n",
    "\n",
    "- **International - Normal**:\n",
    "  - Trotz der Komplexität des internationalen Prozesses zeigt das Modell eine fast perfekte Übereinstimmung mit den Traces. Der Log-Fitness-Wert von 0.99969 deutet darauf hin, dass es nur sehr geringe Abweichungen gibt.\n",
    "\n",
    "- **International - Non-Anomaly**:\n",
    "  - Durch das Entfernen der seltenen Varianten wird eine nahezu perfekte Fitness von 0.99994 erreicht. Dies unterstreicht, dass die Anomalien in den normalen Daten für die geringen Abweichungen verantwortlich waren."
   ]
  },
  {
   "cell_type": "markdown",
   "metadata": {},
   "source": [
    "Zusammenfassend zeigen die Fitness-Analysen, sowohl auf Token- als auch auf Alignment-Basis, dass die Modelle die Prozesse insgesamt sehr gut repräsentieren. Insbesondere nach dem Entfernen der seltenen Anomalien erreichen alle Modelle nahezu perfekte Fitness-Werte, was darauf hindeutet, dass die Hauptprozesse konsistent und korrekt erfasst wurden. Die geringen Abweichungen in den Fitness-Werten der normalen Datensätze sind größtenteils auf seltene Prozessvarianten zurückzuführen, die als Anomalien identifiziert wurden."
   ]
  },
  {
   "cell_type": "markdown",
   "metadata": {},
   "source": [
    "## Precision Token-based Replay"
   ]
  },
  {
   "cell_type": "code",
   "execution_count": null,
   "metadata": {},
   "outputs": [
    {
     "data": {
      "application/vnd.jupyter.widget-view+json": {
       "model_id": "3b389c0efce64575a4de296a507bc187",
       "version_major": 2,
       "version_minor": 0
      },
      "text/plain": [
       "replaying log with TBR, completed traces ::   0%|          | 0/324 [00:00<?, ?it/s]"
      ]
     },
     "metadata": {},
     "output_type": "display_data"
    },
    {
     "data": {
      "application/vnd.jupyter.widget-view+json": {
       "model_id": "5bd2afa4734942d29159c671d69d8abb",
       "version_major": 2,
       "version_minor": 0
      },
      "text/plain": [
       "replaying log with TBR, completed traces ::   0%|          | 0/21 [00:00<?, ?it/s]"
      ]
     },
     "metadata": {},
     "output_type": "display_data"
    },
    {
     "data": {
      "application/vnd.jupyter.widget-view+json": {
       "model_id": "01c6f01d849d480d893fb36a2843a660",
       "version_major": 2,
       "version_minor": 0
      },
      "text/plain": [
       "replaying log with TBR, completed traces ::   0%|          | 0/4077 [00:00<?, ?it/s]"
      ]
     },
     "metadata": {},
     "output_type": "display_data"
    },
    {
     "data": {
      "application/vnd.jupyter.widget-view+json": {
       "model_id": "0446f13cc75e4ad1bd9ff47ea09372a4",
       "version_major": 2,
       "version_minor": 0
      },
      "text/plain": [
       "replaying log with TBR, completed traces ::   0%|          | 0/89 [00:00<?, ?it/s]"
      ]
     },
     "metadata": {},
     "output_type": "display_data"
    },
    {
     "name": "stdout",
     "output_type": "stream",
     "text": [
      "Precision Token-based Replay für Domestic - Normal:\n",
      "0.3284064804374959\n",
      "\n",
      "Precision Token-based Replay für Domestic - Non-Anomaly:\n",
      "0.7002038553041494\n",
      "\n",
      "Precision Token-based Replay für International - Normal:\n",
      "0.1593363814500327\n",
      "\n",
      "Precision Token-based Replay für International - Non-Anomaly:\n",
      "0.35798937642537076\n"
     ]
    }
   ],
   "source": [
    "import pm4py\n",
    "\n",
    "# Precision Token-based Replay für Domestic - Normal\n",
    "precision_domestic_normal = pm4py.conformance.precision_token_based_replay(\n",
    "    log_domestic, dom_petri_net, dom_initial_marking, dom_final_marking\n",
    ")\n",
    "\n",
    "# Precision Token-based Replay für Domestic - Non-Anomaly\n",
    "precision_domestic_nonanomaly = pm4py.conformance.precision_token_based_replay(\n",
    "    log_domestic_nonanomaly, dom_petri_net_non_a, dom_initial_marking_non_a, dom_final_marking_non_a\n",
    ")\n",
    "\n",
    "# Precision Token-based Replay für International - Normal\n",
    "precision_international_normal = pm4py.conformance.precision_token_based_replay(\n",
    "    log_international, int_petri_net, int_initial_marking, int_final_marking\n",
    ")\n",
    "\n",
    "# Precision Token-based Replay für International - Non-Anomaly\n",
    "precision_international_nonanomaly = pm4py.conformance.precision_token_based_replay(\n",
    "    log_international_nonanomaly, int_petri_net_non_a, int_initial_marking_non_a, int_final_marking_non_a\n",
    ")\n",
    "\n",
    "# Ergebnisse anzeigen\n",
    "print(\"Precision Token-based Replay für Domestic - Normal:\")\n",
    "print(precision_domestic_normal)\n",
    "\n",
    "print(\"\\nPrecision Token-based Replay für Domestic - Non-Anomaly:\")\n",
    "print(precision_domestic_nonanomaly)\n",
    "\n",
    "print(\"\\nPrecision Token-based Replay für International - Normal:\")\n",
    "print(precision_international_normal)\n",
    "\n",
    "print(\"\\nPrecision Token-based Replay für International - Non-Anomaly:\")\n",
    "print(precision_international_nonanomaly)\n"
   ]
  },
  {
   "cell_type": "markdown",
   "metadata": {},
   "source": [
    "Die Precision-Ergebnisse des Token-based Replay zeigen, dass die Modelle bei den **Domestic-Daten** deutlich präziser sind als bei den **International-Daten**. Insbesondere nach dem Entfernen der seltenen Varianten (**Non-Anomaly**) steigt die Precision bei beiden Prozessen, was darauf hinweist, dass die Anomalien die Präzision des Modells signifikant beeinträchtigt haben. Allerdings bleibt die Precision insgesamt relativ niedrig, was darauf hindeutet, dass die Modelle noch unnötiges oder überflüssiges Verhalten zulassen."
   ]
  },
  {
   "cell_type": "markdown",
   "metadata": {},
   "source": [
    "## Generalization"
   ]
  },
  {
   "cell_type": "code",
   "execution_count": null,
   "metadata": {},
   "outputs": [
    {
     "data": {
      "application/vnd.jupyter.widget-view+json": {
       "model_id": "a4e19bfd945646aabf25e46bc78c43b6",
       "version_major": 2,
       "version_minor": 0
      },
      "text/plain": [
       "replaying log with TBR, completed traces ::   0%|          | 0/99 [00:00<?, ?it/s]"
      ]
     },
     "metadata": {},
     "output_type": "display_data"
    },
    {
     "data": {
      "application/vnd.jupyter.widget-view+json": {
       "model_id": "230081c2853847768a0fc2162c98ebf2",
       "version_major": 2,
       "version_minor": 0
      },
      "text/plain": [
       "replaying log with TBR, completed traces ::   0%|          | 0/8 [00:00<?, ?it/s]"
      ]
     },
     "metadata": {},
     "output_type": "display_data"
    },
    {
     "data": {
      "application/vnd.jupyter.widget-view+json": {
       "model_id": "4cda85c029a3492998f4541169026a23",
       "version_major": 2,
       "version_minor": 0
      },
      "text/plain": [
       "replaying log with TBR, completed traces ::   0%|          | 0/753 [00:00<?, ?it/s]"
      ]
     },
     "metadata": {},
     "output_type": "display_data"
    },
    {
     "data": {
      "application/vnd.jupyter.widget-view+json": {
       "model_id": "dfda6290255c4b09b3fc4c26eb232616",
       "version_major": 2,
       "version_minor": 0
      },
      "text/plain": [
       "replaying log with TBR, completed traces ::   0%|          | 0/13 [00:00<?, ?it/s]"
      ]
     },
     "metadata": {},
     "output_type": "display_data"
    },
    {
     "name": "stdout",
     "output_type": "stream",
     "text": [
      "Generalization Token-based Replay für Domestic - Normal:\n",
      "0.8554073029005208\n",
      "\n",
      "Generalization Token-based Replay für Domestic - Non-Anomaly:\n",
      "0.9744419345910126\n",
      "\n",
      "Generalization Token-based Replay für International - Normal:\n",
      "0.8766720880937127\n",
      "\n",
      "Generalization Token-based Replay für International - Non-Anomaly:\n",
      "0.9661188835125442\n"
     ]
    }
   ],
   "source": [
    "import pm4py\n",
    "\n",
    "# Generalization Token-based Replay für Domestic - Normal\n",
    "generalization_domestic_normal = pm4py.conformance.generalization_tbr(\n",
    "    log_domestic, dom_petri_net, dom_initial_marking, dom_final_marking\n",
    ")\n",
    "\n",
    "# Generalization Token-based Replay für Domestic - Non-Anomaly\n",
    "generalization_domestic_nonanomaly = pm4py.conformance.generalization_tbr(\n",
    "    log_domestic_nonanomaly, dom_petri_net_non_a, dom_initial_marking_non_a, dom_final_marking_non_a\n",
    ")\n",
    "\n",
    "# Generalization Token-based Replay für International - Normal\n",
    "generalization_international_normal = pm4py.conformance.generalization_tbr(\n",
    "    log_international, int_petri_net, int_initial_marking, int_final_marking\n",
    ")\n",
    "\n",
    "# Generalization Token-based Replay für International - Non-Anomaly\n",
    "generalization_international_nonanomaly = pm4py.conformance.generalization_tbr(\n",
    "    log_international_nonanomaly, int_petri_net_non_a, int_initial_marking_non_a, int_final_marking_non_a\n",
    ")\n",
    "\n",
    "# Ergebnisse anzeigen\n",
    "print(\"Generalization Token-based Replay für Domestic - Normal:\")\n",
    "print(generalization_domestic_normal)\n",
    "\n",
    "print(\"\\nGeneralization Token-based Replay für Domestic - Non-Anomaly:\")\n",
    "print(generalization_domestic_nonanomaly)\n",
    "\n",
    "print(\"\\nGeneralization Token-based Replay für International - Normal:\")\n",
    "print(generalization_international_normal)\n",
    "\n",
    "print(\"\\nGeneralization Token-based Replay für International - Non-Anomaly:\")\n",
    "print(generalization_international_nonanomaly)\n"
   ]
  },
  {
   "cell_type": "markdown",
   "metadata": {},
   "source": [
    "Die Generalization-Ergebnisse des Token-based Replay zeigen, dass die Modelle eine gute Generalisierungsfähigkeit besitzen, insbesondere nach dem Entfernen der seltenen Varianten (Nicht-Anomaly). Sowohl bei den Domestic- als auch bei den International-Daten verbessern sich die Generalisierungswerte deutlich, was darauf hindeutet, dass die Modelle nach dem Ausschluss von Anomalien besser in der Lage sind, plausible zukünftige Prozessvarianten abzudecken. Die Generalization-Werte liegen insgesamt auf einem hohen Niveau, was auf eine robuste Modellierung der Prozesse hinweist."
   ]
  }
 ],
 "metadata": {
  "kernelspec": {
   "display_name": "code-ha-process-mining-2oP8IPjh-py3.11",
   "language": "python",
   "name": "python3"
  },
  "language_info": {
   "codemirror_mode": {
    "name": "ipython",
    "version": 3
   },
   "file_extension": ".py",
   "mimetype": "text/x-python",
   "name": "python",
   "nbconvert_exporter": "python",
   "pygments_lexer": "ipython3",
   "version": "3.11.0b4"
  }
 },
 "nbformat": 4,
 "nbformat_minor": 2
}
