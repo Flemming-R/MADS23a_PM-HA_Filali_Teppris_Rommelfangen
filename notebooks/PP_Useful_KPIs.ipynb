{
 "cells": [
  {
   "cell_type": "code",
   "execution_count": 4,
   "metadata": {},
   "outputs": [
    {
     "data": {
      "application/vnd.jupyter.widget-view+json": {
       "model_id": "0d4af0177ba8469ca34222de7045836f",
       "version_major": 2,
       "version_minor": 0
      },
      "text/plain": [
       "parsing log, completed traces ::   0%|          | 0/10500 [00:00<?, ?it/s]"
      ]
     },
     "metadata": {},
     "output_type": "display_data"
    },
    {
     "data": {
      "application/vnd.jupyter.widget-view+json": {
       "model_id": "f31432e070cf45cba79a70d61361386f",
       "version_major": 2,
       "version_minor": 0
      },
      "text/plain": [
       "parsing log, completed traces ::   0%|          | 0/6449 [00:00<?, ?it/s]"
      ]
     },
     "metadata": {},
     "output_type": "display_data"
    },
    {
     "ename": "TypeError",
     "evalue": "get_event_attributes() missing 1 required positional argument: 'log'",
     "output_type": "error",
     "traceback": [
      "\u001b[0;31m---------------------------------------------------------------------------\u001b[0m",
      "\u001b[0;31mTypeError\u001b[0m                                 Traceback (most recent call last)",
      "Cell \u001b[0;32mIn[4], line 9\u001b[0m\n\u001b[1;32m      6\u001b[0m international_log \u001b[38;5;241m=\u001b[39m xes_importer\u001b[38;5;241m.\u001b[39mapply(\u001b[38;5;124m'\u001b[39m\u001b[38;5;124mData/InternationalDeclarations.xes\u001b[39m\u001b[38;5;124m'\u001b[39m)\n\u001b[1;32m      8\u001b[0m \u001b[38;5;66;03m# Print the summary of the logs to understand the structure\u001b[39;00m\n\u001b[0;32m----> 9\u001b[0m domestic_summary \u001b[38;5;241m=\u001b[39m \u001b[43mpm4py\u001b[49m\u001b[38;5;241;43m.\u001b[39;49m\u001b[43mget_event_attributes\u001b[49m\u001b[43m(\u001b[49m\u001b[43m)\u001b[49m(domestic_log)\n\u001b[1;32m     10\u001b[0m international_summary \u001b[38;5;241m=\u001b[39m pm4py\u001b[38;5;241m.\u001b[39mget_event_attributes(international_log)\n\u001b[1;32m     12\u001b[0m domestic_summary, international_summary\n",
      "\u001b[0;31mTypeError\u001b[0m: get_event_attributes() missing 1 required positional argument: 'log'"
     ]
    }
   ],
   "source": [
    "import pm4py\n",
    "from pm4py.objects.log.importer.xes import importer as xes_importer\n",
    "\n",
    "# Load the event logs\n",
    "domestic_log = xes_importer.apply('Data/DomesticDeclarations.xes')\n",
    "international_log = xes_importer.apply('Data/InternationalDeclarations.xes')\n",
    "\n",
    "# Print the summary of the logs to understand the structure\n",
    "domestic_summary = pm4py.get_event_attributes(domestic_log)\n",
    "international_summary = pm4py.get_event_attributes(international_log)\n",
    "\n",
    "domestic_summary, international_summary\n"
   ]
  }
 ],
 "metadata": {
  "kernelspec": {
   "display_name": "code-ha-process-mining-kRqu1UEl-py3.11",
   "language": "python",
   "name": "python3"
  },
  "language_info": {
   "codemirror_mode": {
    "name": "ipython",
    "version": 3
   },
   "file_extension": ".py",
   "mimetype": "text/x-python",
   "name": "python",
   "nbconvert_exporter": "python",
   "pygments_lexer": "ipython3",
   "version": "3.11.7"
  }
 },
 "nbformat": 4,
 "nbformat_minor": 2
}
